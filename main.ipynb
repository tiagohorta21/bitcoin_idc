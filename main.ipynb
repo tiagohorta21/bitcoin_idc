{
 "cells": [
  {
   "attachments": {},
   "cell_type": "markdown",
   "metadata": {},
   "source": [
    "# Bitcoin dataset analysis"
   ]
  },
  {
   "attachments": {},
   "cell_type": "markdown",
   "metadata": {},
   "source": [
    "## Data Cleaning\n",
    "---"
   ]
  },
  {
   "attachments": {},
   "cell_type": "markdown",
   "metadata": {},
   "source": [
    "#### Loading bitcoin dataset from 2018"
   ]
  },
  {
   "cell_type": "code",
   "execution_count": 414,
   "metadata": {},
   "outputs": [
    {
     "data": {
      "text/html": [
       "<div class=\"bk-root\">\n",
       "        <a href=\"https://bokeh.org\" target=\"_blank\" class=\"bk-logo bk-logo-small bk-logo-notebook\"></a>\n",
       "        <span id=\"10134\">Loading BokehJS ...</span>\n",
       "    </div>\n"
      ]
     },
     "metadata": {},
     "output_type": "display_data"
    },
    {
     "data": {
      "application/javascript": "(function(root) {\n  function now() {\n    return new Date();\n  }\n\n  const force = true;\n\n  if (typeof root._bokeh_onload_callbacks === \"undefined\" || force === true) {\n    root._bokeh_onload_callbacks = [];\n    root._bokeh_is_loading = undefined;\n  }\n\nconst JS_MIME_TYPE = 'application/javascript';\n  const HTML_MIME_TYPE = 'text/html';\n  const EXEC_MIME_TYPE = 'application/vnd.bokehjs_exec.v0+json';\n  const CLASS_NAME = 'output_bokeh rendered_html';\n\n  /**\n   * Render data to the DOM node\n   */\n  function render(props, node) {\n    const script = document.createElement(\"script\");\n    node.appendChild(script);\n  }\n\n  /**\n   * Handle when an output is cleared or removed\n   */\n  function handleClearOutput(event, handle) {\n    const cell = handle.cell;\n\n    const id = cell.output_area._bokeh_element_id;\n    const server_id = cell.output_area._bokeh_server_id;\n    // Clean up Bokeh references\n    if (id != null && id in Bokeh.index) {\n      Bokeh.index[id].model.document.clear();\n      delete Bokeh.index[id];\n    }\n\n    if (server_id !== undefined) {\n      // Clean up Bokeh references\n      const cmd_clean = \"from bokeh.io.state import curstate; print(curstate().uuid_to_server['\" + server_id + \"'].get_sessions()[0].document.roots[0]._id)\";\n      cell.notebook.kernel.execute(cmd_clean, {\n        iopub: {\n          output: function(msg) {\n            const id = msg.content.text.trim();\n            if (id in Bokeh.index) {\n              Bokeh.index[id].model.document.clear();\n              delete Bokeh.index[id];\n            }\n          }\n        }\n      });\n      // Destroy server and session\n      const cmd_destroy = \"import bokeh.io.notebook as ion; ion.destroy_server('\" + server_id + \"')\";\n      cell.notebook.kernel.execute(cmd_destroy);\n    }\n  }\n\n  /**\n   * Handle when a new output is added\n   */\n  function handleAddOutput(event, handle) {\n    const output_area = handle.output_area;\n    const output = handle.output;\n\n    // limit handleAddOutput to display_data with EXEC_MIME_TYPE content only\n    if ((output.output_type != \"display_data\") || (!Object.prototype.hasOwnProperty.call(output.data, EXEC_MIME_TYPE))) {\n      return\n    }\n\n    const toinsert = output_area.element.find(\".\" + CLASS_NAME.split(' ')[0]);\n\n    if (output.metadata[EXEC_MIME_TYPE][\"id\"] !== undefined) {\n      toinsert[toinsert.length - 1].firstChild.textContent = output.data[JS_MIME_TYPE];\n      // store reference to embed id on output_area\n      output_area._bokeh_element_id = output.metadata[EXEC_MIME_TYPE][\"id\"];\n    }\n    if (output.metadata[EXEC_MIME_TYPE][\"server_id\"] !== undefined) {\n      const bk_div = document.createElement(\"div\");\n      bk_div.innerHTML = output.data[HTML_MIME_TYPE];\n      const script_attrs = bk_div.children[0].attributes;\n      for (let i = 0; i < script_attrs.length; i++) {\n        toinsert[toinsert.length - 1].firstChild.setAttribute(script_attrs[i].name, script_attrs[i].value);\n        toinsert[toinsert.length - 1].firstChild.textContent = bk_div.children[0].textContent\n      }\n      // store reference to server id on output_area\n      output_area._bokeh_server_id = output.metadata[EXEC_MIME_TYPE][\"server_id\"];\n    }\n  }\n\n  function register_renderer(events, OutputArea) {\n\n    function append_mime(data, metadata, element) {\n      // create a DOM node to render to\n      const toinsert = this.create_output_subarea(\n        metadata,\n        CLASS_NAME,\n        EXEC_MIME_TYPE\n      );\n      this.keyboard_manager.register_events(toinsert);\n      // Render to node\n      const props = {data: data, metadata: metadata[EXEC_MIME_TYPE]};\n      render(props, toinsert[toinsert.length - 1]);\n      element.append(toinsert);\n      return toinsert\n    }\n\n    /* Handle when an output is cleared or removed */\n    events.on('clear_output.CodeCell', handleClearOutput);\n    events.on('delete.Cell', handleClearOutput);\n\n    /* Handle when a new output is added */\n    events.on('output_added.OutputArea', handleAddOutput);\n\n    /**\n     * Register the mime type and append_mime function with output_area\n     */\n    OutputArea.prototype.register_mime_type(EXEC_MIME_TYPE, append_mime, {\n      /* Is output safe? */\n      safe: true,\n      /* Index of renderer in `output_area.display_order` */\n      index: 0\n    });\n  }\n\n  // register the mime type if in Jupyter Notebook environment and previously unregistered\n  if (root.Jupyter !== undefined) {\n    const events = require('base/js/events');\n    const OutputArea = require('notebook/js/outputarea').OutputArea;\n\n    if (OutputArea.prototype.mime_types().indexOf(EXEC_MIME_TYPE) == -1) {\n      register_renderer(events, OutputArea);\n    }\n  }\n  if (typeof (root._bokeh_timeout) === \"undefined\" || force === true) {\n    root._bokeh_timeout = Date.now() + 5000;\n    root._bokeh_failed_load = false;\n  }\n\n  const NB_LOAD_WARNING = {'data': {'text/html':\n     \"<div style='background-color: #fdd'>\\n\"+\n     \"<p>\\n\"+\n     \"BokehJS does not appear to have successfully loaded. If loading BokehJS from CDN, this \\n\"+\n     \"may be due to a slow or bad network connection. Possible fixes:\\n\"+\n     \"</p>\\n\"+\n     \"<ul>\\n\"+\n     \"<li>re-rerun `output_notebook()` to attempt to load from CDN again, or</li>\\n\"+\n     \"<li>use INLINE resources instead, as so:</li>\\n\"+\n     \"</ul>\\n\"+\n     \"<code>\\n\"+\n     \"from bokeh.resources import INLINE\\n\"+\n     \"output_notebook(resources=INLINE)\\n\"+\n     \"</code>\\n\"+\n     \"</div>\"}};\n\n  function display_loaded() {\n    const el = document.getElementById(\"10134\");\n    if (el != null) {\n      el.textContent = \"BokehJS is loading...\";\n    }\n    if (root.Bokeh !== undefined) {\n      if (el != null) {\n        el.textContent = \"BokehJS \" + root.Bokeh.version + \" successfully loaded.\";\n      }\n    } else if (Date.now() < root._bokeh_timeout) {\n      setTimeout(display_loaded, 100)\n    }\n  }\n\n  function run_callbacks() {\n    try {\n      root._bokeh_onload_callbacks.forEach(function(callback) {\n        if (callback != null)\n          callback();\n      });\n    } finally {\n      delete root._bokeh_onload_callbacks\n    }\n    console.debug(\"Bokeh: all callbacks have finished\");\n  }\n\n  function load_libs(css_urls, js_urls, callback) {\n    if (css_urls == null) css_urls = [];\n    if (js_urls == null) js_urls = [];\n\n    root._bokeh_onload_callbacks.push(callback);\n    if (root._bokeh_is_loading > 0) {\n      console.debug(\"Bokeh: BokehJS is being loaded, scheduling callback at\", now());\n      return null;\n    }\n    if (js_urls == null || js_urls.length === 0) {\n      run_callbacks();\n      return null;\n    }\n    console.debug(\"Bokeh: BokehJS not loaded, scheduling load and callback at\", now());\n    root._bokeh_is_loading = css_urls.length + js_urls.length;\n\n    function on_load() {\n      root._bokeh_is_loading--;\n      if (root._bokeh_is_loading === 0) {\n        console.debug(\"Bokeh: all BokehJS libraries/stylesheets loaded\");\n        run_callbacks()\n      }\n    }\n\n    function on_error(url) {\n      console.error(\"failed to load \" + url);\n    }\n\n    for (let i = 0; i < css_urls.length; i++) {\n      const url = css_urls[i];\n      const element = document.createElement(\"link\");\n      element.onload = on_load;\n      element.onerror = on_error.bind(null, url);\n      element.rel = \"stylesheet\";\n      element.type = \"text/css\";\n      element.href = url;\n      console.debug(\"Bokeh: injecting link tag for BokehJS stylesheet: \", url);\n      document.body.appendChild(element);\n    }\n\n    for (let i = 0; i < js_urls.length; i++) {\n      const url = js_urls[i];\n      const element = document.createElement('script');\n      element.onload = on_load;\n      element.onerror = on_error.bind(null, url);\n      element.async = false;\n      element.src = url;\n      console.debug(\"Bokeh: injecting script tag for BokehJS library: \", url);\n      document.head.appendChild(element);\n    }\n  };\n\n  function inject_raw_css(css) {\n    const element = document.createElement(\"style\");\n    element.appendChild(document.createTextNode(css));\n    document.body.appendChild(element);\n  }\n\n  const js_urls = [\"https://cdn.bokeh.org/bokeh/release/bokeh-2.4.3.min.js\", \"https://cdn.bokeh.org/bokeh/release/bokeh-gl-2.4.3.min.js\", \"https://cdn.bokeh.org/bokeh/release/bokeh-widgets-2.4.3.min.js\", \"https://cdn.bokeh.org/bokeh/release/bokeh-tables-2.4.3.min.js\", \"https://cdn.bokeh.org/bokeh/release/bokeh-mathjax-2.4.3.min.js\"];\n  const css_urls = [];\n\n  const inline_js = [    function(Bokeh) {\n      Bokeh.set_log_level(\"info\");\n    },\nfunction(Bokeh) {\n    }\n  ];\n\n  function run_inline_js() {\n    if (root.Bokeh !== undefined || force === true) {\n          for (let i = 0; i < inline_js.length; i++) {\n      inline_js[i].call(root, root.Bokeh);\n    }\nif (force === true) {\n        display_loaded();\n      }} else if (Date.now() < root._bokeh_timeout) {\n      setTimeout(run_inline_js, 100);\n    } else if (!root._bokeh_failed_load) {\n      console.log(\"Bokeh: BokehJS failed to load within specified timeout.\");\n      root._bokeh_failed_load = true;\n    } else if (force !== true) {\n      const cell = $(document.getElementById(\"10134\")).parents('.cell').data().cell;\n      cell.output_area.append_execute_result(NB_LOAD_WARNING)\n    }\n  }\n\n  if (root._bokeh_is_loading === 0) {\n    console.debug(\"Bokeh: BokehJS loaded, going straight to plotting\");\n    run_inline_js();\n  } else {\n    load_libs(css_urls, js_urls, function() {\n      console.debug(\"Bokeh: BokehJS plotting callback run at\", now());\n      run_inline_js();\n    });\n  }\n}(window));",
      "application/vnd.bokehjs_load.v0+json": ""
     },
     "metadata": {},
     "output_type": "display_data"
    },
    {
     "data": {
      "text/html": [
       "<div>\n",
       "<style scoped>\n",
       "    .dataframe tbody tr th:only-of-type {\n",
       "        vertical-align: middle;\n",
       "    }\n",
       "\n",
       "    .dataframe tbody tr th {\n",
       "        vertical-align: top;\n",
       "    }\n",
       "\n",
       "    .dataframe thead th {\n",
       "        text-align: right;\n",
       "    }\n",
       "</style>\n",
       "<table border=\"1\" class=\"dataframe\">\n",
       "  <thead>\n",
       "    <tr style=\"text-align: right;\">\n",
       "      <th></th>\n",
       "      <th>unix</th>\n",
       "      <th>date</th>\n",
       "      <th>symbol</th>\n",
       "      <th>open</th>\n",
       "      <th>high</th>\n",
       "      <th>low</th>\n",
       "      <th>close</th>\n",
       "      <th>Volume BTC</th>\n",
       "      <th>Volume USD</th>\n",
       "    </tr>\n",
       "  </thead>\n",
       "  <tbody>\n",
       "    <tr>\n",
       "      <th>0</th>\n",
       "      <td>1546300740</td>\n",
       "      <td>2018-12-31 23:59:00</td>\n",
       "      <td>BTC/USD</td>\n",
       "      <td>3689.26</td>\n",
       "      <td>3693.30</td>\n",
       "      <td>3689.26</td>\n",
       "      <td>3693.30</td>\n",
       "      <td>9.838855</td>\n",
       "      <td>36337.841473</td>\n",
       "    </tr>\n",
       "    <tr>\n",
       "      <th>1</th>\n",
       "      <td>1546300680</td>\n",
       "      <td>2018-12-31 23:58:00</td>\n",
       "      <td>BTC/USD</td>\n",
       "      <td>3689.26</td>\n",
       "      <td>3691.35</td>\n",
       "      <td>3689.26</td>\n",
       "      <td>3691.35</td>\n",
       "      <td>0.560000</td>\n",
       "      <td>2067.156000</td>\n",
       "    </tr>\n",
       "    <tr>\n",
       "      <th>2</th>\n",
       "      <td>1546300620</td>\n",
       "      <td>2018-12-31 23:57:00</td>\n",
       "      <td>BTC/USD</td>\n",
       "      <td>3688.83</td>\n",
       "      <td>3689.26</td>\n",
       "      <td>3688.83</td>\n",
       "      <td>3689.26</td>\n",
       "      <td>0.560833</td>\n",
       "      <td>2069.059602</td>\n",
       "    </tr>\n",
       "    <tr>\n",
       "      <th>3</th>\n",
       "      <td>1546300560</td>\n",
       "      <td>2018-12-31 23:56:00</td>\n",
       "      <td>BTC/USD</td>\n",
       "      <td>3687.87</td>\n",
       "      <td>3689.65</td>\n",
       "      <td>3686.92</td>\n",
       "      <td>3686.92</td>\n",
       "      <td>7.610240</td>\n",
       "      <td>28058.346208</td>\n",
       "    </tr>\n",
       "    <tr>\n",
       "      <th>4</th>\n",
       "      <td>1546300500</td>\n",
       "      <td>2018-12-31 23:55:00</td>\n",
       "      <td>BTC/USD</td>\n",
       "      <td>3688.28</td>\n",
       "      <td>3688.85</td>\n",
       "      <td>3685.00</td>\n",
       "      <td>3688.85</td>\n",
       "      <td>7.665703</td>\n",
       "      <td>28277.629729</td>\n",
       "    </tr>\n",
       "  </tbody>\n",
       "</table>\n",
       "</div>"
      ],
      "text/plain": [
       "         unix                 date   symbol     open     high      low   \n",
       "0  1546300740  2018-12-31 23:59:00  BTC/USD  3689.26  3693.30  3689.26  \\\n",
       "1  1546300680  2018-12-31 23:58:00  BTC/USD  3689.26  3691.35  3689.26   \n",
       "2  1546300620  2018-12-31 23:57:00  BTC/USD  3688.83  3689.26  3688.83   \n",
       "3  1546300560  2018-12-31 23:56:00  BTC/USD  3687.87  3689.65  3686.92   \n",
       "4  1546300500  2018-12-31 23:55:00  BTC/USD  3688.28  3688.85  3685.00   \n",
       "\n",
       "     close  Volume BTC    Volume USD  \n",
       "0  3693.30    9.838855  36337.841473  \n",
       "1  3691.35    0.560000   2067.156000  \n",
       "2  3689.26    0.560833   2069.059602  \n",
       "3  3686.92    7.610240  28058.346208  \n",
       "4  3688.85    7.665703  28277.629729  "
      ]
     },
     "execution_count": 414,
     "metadata": {},
     "output_type": "execute_result"
    }
   ],
   "source": [
    "import pandas as pd\n",
    "import pandas_bokeh\n",
    "\n",
    "# set pandas_bokeh to output inline\n",
    "pandas_bokeh.output_notebook()\n",
    "\n",
    "bitcoin_2018 = pd.read_csv(\"datasets/BTC-2018min.csv\")\n",
    "bitcoin_2018.head()"
   ]
  },
  {
   "attachments": {},
   "cell_type": "markdown",
   "metadata": {},
   "source": [
    "#### About each Column:\n",
    "\n",
    "- <strong>Unix Timestamp</strong> - This is the unix timestamp or also known as \"Epoch Time\". Use this to convert to your local timezone\n",
    "- <strong>Date</strong> - This timestamp is UTC Timezone\n",
    "- <strong>Symbol</strong> - The symbol for which the timeseries data refers\n",
    "- <strong>Open</strong> - This is the opening price of the time period\n",
    "- <strong>High</strong> - This is the highest price of the time period\n",
    "- <strong>Low</strong> - This is the lowest price of the time period\n",
    "- <strong>Close</strong> - This is the closing price of the time period\n",
    "- <strong>Volume BTC</strong> - This is the volume that was transacted \n",
    "- <strong>Volume USD</strong> - This is the volume in the base/converted"
   ]
  },
  {
   "attachments": {},
   "cell_type": "markdown",
   "metadata": {},
   "source": [
    "#### Remove unecessary columns"
   ]
  },
  {
   "cell_type": "code",
   "execution_count": 415,
   "metadata": {},
   "outputs": [],
   "source": [
    "bitcoin_2018 = bitcoin_2018.drop(['unix'], axis = 1)\n",
    "bitcoin_2018 = bitcoin_2018.drop(['symbol'], axis = 1)"
   ]
  },
  {
   "attachments": {},
   "cell_type": "markdown",
   "metadata": {},
   "source": [
    "#### Index by date"
   ]
  },
  {
   "cell_type": "code",
   "execution_count": 416,
   "metadata": {},
   "outputs": [],
   "source": [
    "bitcoin_2018['date'] = pd.to_datetime(bitcoin_2018['date'])\n",
    "bitcoin_2018 = bitcoin_2018.set_index('date')"
   ]
  },
  {
   "attachments": {},
   "cell_type": "markdown",
   "metadata": {},
   "source": [
    "#### Reverse row order (From oldest to newest)"
   ]
  },
  {
   "cell_type": "code",
   "execution_count": 417,
   "metadata": {},
   "outputs": [
    {
     "data": {
      "text/html": [
       "<div>\n",
       "<style scoped>\n",
       "    .dataframe tbody tr th:only-of-type {\n",
       "        vertical-align: middle;\n",
       "    }\n",
       "\n",
       "    .dataframe tbody tr th {\n",
       "        vertical-align: top;\n",
       "    }\n",
       "\n",
       "    .dataframe thead th {\n",
       "        text-align: right;\n",
       "    }\n",
       "</style>\n",
       "<table border=\"1\" class=\"dataframe\">\n",
       "  <thead>\n",
       "    <tr style=\"text-align: right;\">\n",
       "      <th></th>\n",
       "      <th>open</th>\n",
       "      <th>high</th>\n",
       "      <th>low</th>\n",
       "      <th>close</th>\n",
       "      <th>Volume BTC</th>\n",
       "      <th>Volume USD</th>\n",
       "    </tr>\n",
       "    <tr>\n",
       "      <th>date</th>\n",
       "      <th></th>\n",
       "      <th></th>\n",
       "      <th></th>\n",
       "      <th></th>\n",
       "      <th></th>\n",
       "      <th></th>\n",
       "    </tr>\n",
       "  </thead>\n",
       "  <tbody>\n",
       "    <tr>\n",
       "      <th>2018-01-01 00:01:00</th>\n",
       "      <td>13841.01</td>\n",
       "      <td>13890.43</td>\n",
       "      <td>13841.01</td>\n",
       "      <td>13890.43</td>\n",
       "      <td>1.665850</td>\n",
       "      <td>23139.366704</td>\n",
       "    </tr>\n",
       "    <tr>\n",
       "      <th>2018-01-01 00:02:00</th>\n",
       "      <td>13846.64</td>\n",
       "      <td>13890.35</td>\n",
       "      <td>13846.64</td>\n",
       "      <td>13847.51</td>\n",
       "      <td>0.269346</td>\n",
       "      <td>3729.768382</td>\n",
       "    </tr>\n",
       "    <tr>\n",
       "      <th>2018-01-01 00:03:00</th>\n",
       "      <td>13847.51</td>\n",
       "      <td>13874.92</td>\n",
       "      <td>13823.19</td>\n",
       "      <td>13823.19</td>\n",
       "      <td>1.155274</td>\n",
       "      <td>15969.574078</td>\n",
       "    </tr>\n",
       "    <tr>\n",
       "      <th>2018-01-01 00:04:00</th>\n",
       "      <td>13823.19</td>\n",
       "      <td>13826.75</td>\n",
       "      <td>13803.20</td>\n",
       "      <td>13803.20</td>\n",
       "      <td>0.646691</td>\n",
       "      <td>8926.403003</td>\n",
       "    </tr>\n",
       "    <tr>\n",
       "      <th>2018-01-01 00:05:00</th>\n",
       "      <td>13826.10</td>\n",
       "      <td>13826.10</td>\n",
       "      <td>13734.45</td>\n",
       "      <td>13737.93</td>\n",
       "      <td>38.030409</td>\n",
       "      <td>522459.100423</td>\n",
       "    </tr>\n",
       "  </tbody>\n",
       "</table>\n",
       "</div>"
      ],
      "text/plain": [
       "                         open      high       low     close  Volume BTC   \n",
       "date                                                                      \n",
       "2018-01-01 00:01:00  13841.01  13890.43  13841.01  13890.43    1.665850  \\\n",
       "2018-01-01 00:02:00  13846.64  13890.35  13846.64  13847.51    0.269346   \n",
       "2018-01-01 00:03:00  13847.51  13874.92  13823.19  13823.19    1.155274   \n",
       "2018-01-01 00:04:00  13823.19  13826.75  13803.20  13803.20    0.646691   \n",
       "2018-01-01 00:05:00  13826.10  13826.10  13734.45  13737.93   38.030409   \n",
       "\n",
       "                        Volume USD  \n",
       "date                                \n",
       "2018-01-01 00:01:00   23139.366704  \n",
       "2018-01-01 00:02:00    3729.768382  \n",
       "2018-01-01 00:03:00   15969.574078  \n",
       "2018-01-01 00:04:00    8926.403003  \n",
       "2018-01-01 00:05:00  522459.100423  "
      ]
     },
     "execution_count": 417,
     "metadata": {},
     "output_type": "execute_result"
    }
   ],
   "source": [
    "bitcoin_2018 = bitcoin_2018.iloc[::-1]\n",
    "bitcoin_2018.head()"
   ]
  },
  {
   "attachments": {},
   "cell_type": "markdown",
   "metadata": {},
   "source": [
    "#### Change column names"
   ]
  },
  {
   "cell_type": "code",
   "execution_count": 418,
   "metadata": {},
   "outputs": [
    {
     "data": {
      "text/html": [
       "<div>\n",
       "<style scoped>\n",
       "    .dataframe tbody tr th:only-of-type {\n",
       "        vertical-align: middle;\n",
       "    }\n",
       "\n",
       "    .dataframe tbody tr th {\n",
       "        vertical-align: top;\n",
       "    }\n",
       "\n",
       "    .dataframe thead th {\n",
       "        text-align: right;\n",
       "    }\n",
       "</style>\n",
       "<table border=\"1\" class=\"dataframe\">\n",
       "  <thead>\n",
       "    <tr style=\"text-align: right;\">\n",
       "      <th></th>\n",
       "      <th>open</th>\n",
       "      <th>high</th>\n",
       "      <th>low</th>\n",
       "      <th>close</th>\n",
       "      <th>bitcoin</th>\n",
       "      <th>euro</th>\n",
       "    </tr>\n",
       "    <tr>\n",
       "      <th>date</th>\n",
       "      <th></th>\n",
       "      <th></th>\n",
       "      <th></th>\n",
       "      <th></th>\n",
       "      <th></th>\n",
       "      <th></th>\n",
       "    </tr>\n",
       "  </thead>\n",
       "  <tbody>\n",
       "    <tr>\n",
       "      <th>2018-01-01 00:01:00</th>\n",
       "      <td>13841.01</td>\n",
       "      <td>13890.43</td>\n",
       "      <td>13841.01</td>\n",
       "      <td>13890.43</td>\n",
       "      <td>1.665850</td>\n",
       "      <td>23139.366704</td>\n",
       "    </tr>\n",
       "    <tr>\n",
       "      <th>2018-01-01 00:02:00</th>\n",
       "      <td>13846.64</td>\n",
       "      <td>13890.35</td>\n",
       "      <td>13846.64</td>\n",
       "      <td>13847.51</td>\n",
       "      <td>0.269346</td>\n",
       "      <td>3729.768382</td>\n",
       "    </tr>\n",
       "    <tr>\n",
       "      <th>2018-01-01 00:03:00</th>\n",
       "      <td>13847.51</td>\n",
       "      <td>13874.92</td>\n",
       "      <td>13823.19</td>\n",
       "      <td>13823.19</td>\n",
       "      <td>1.155274</td>\n",
       "      <td>15969.574078</td>\n",
       "    </tr>\n",
       "    <tr>\n",
       "      <th>2018-01-01 00:04:00</th>\n",
       "      <td>13823.19</td>\n",
       "      <td>13826.75</td>\n",
       "      <td>13803.20</td>\n",
       "      <td>13803.20</td>\n",
       "      <td>0.646691</td>\n",
       "      <td>8926.403003</td>\n",
       "    </tr>\n",
       "    <tr>\n",
       "      <th>2018-01-01 00:05:00</th>\n",
       "      <td>13826.10</td>\n",
       "      <td>13826.10</td>\n",
       "      <td>13734.45</td>\n",
       "      <td>13737.93</td>\n",
       "      <td>38.030409</td>\n",
       "      <td>522459.100423</td>\n",
       "    </tr>\n",
       "  </tbody>\n",
       "</table>\n",
       "</div>"
      ],
      "text/plain": [
       "                         open      high       low     close    bitcoin   \n",
       "date                                                                     \n",
       "2018-01-01 00:01:00  13841.01  13890.43  13841.01  13890.43   1.665850  \\\n",
       "2018-01-01 00:02:00  13846.64  13890.35  13846.64  13847.51   0.269346   \n",
       "2018-01-01 00:03:00  13847.51  13874.92  13823.19  13823.19   1.155274   \n",
       "2018-01-01 00:04:00  13823.19  13826.75  13803.20  13803.20   0.646691   \n",
       "2018-01-01 00:05:00  13826.10  13826.10  13734.45  13737.93  38.030409   \n",
       "\n",
       "                              euro  \n",
       "date                                \n",
       "2018-01-01 00:01:00   23139.366704  \n",
       "2018-01-01 00:02:00    3729.768382  \n",
       "2018-01-01 00:03:00   15969.574078  \n",
       "2018-01-01 00:04:00    8926.403003  \n",
       "2018-01-01 00:05:00  522459.100423  "
      ]
     },
     "execution_count": 418,
     "metadata": {},
     "output_type": "execute_result"
    }
   ],
   "source": [
    "bitcoin_2018.rename(columns = {'Volume BTC': 'bitcoin', 'Volume USD': 'euro'}, inplace = True)\n",
    "bitcoin_2018.head()"
   ]
  },
  {
   "attachments": {},
   "cell_type": "markdown",
   "metadata": {},
   "source": [
    "#### Convert USD columns to Euro (1 USD = 0.924428 EUR)"
   ]
  },
  {
   "cell_type": "code",
   "execution_count": 419,
   "metadata": {},
   "outputs": [],
   "source": [
    "bitcoin_2018['open'] = bitcoin_2018['open'] * 0.924428\n",
    "bitcoin_2018['close'] = bitcoin_2018['close'] * 0.924428\n",
    "bitcoin_2018['high'] = bitcoin_2018['high'] * 0.924428\n",
    "bitcoin_2018['low'] = bitcoin_2018['low'] * 0.924428\n",
    "bitcoin_2018['euro'] = bitcoin_2018['euro'] * 0.924428"
   ]
  },
  {
   "attachments": {},
   "cell_type": "markdown",
   "metadata": {},
   "source": [
    "#### Describe dataframe"
   ]
  },
  {
   "cell_type": "code",
   "execution_count": 420,
   "metadata": {},
   "outputs": [
    {
     "data": {
      "text/html": [
       "<div>\n",
       "<style scoped>\n",
       "    .dataframe tbody tr th:only-of-type {\n",
       "        vertical-align: middle;\n",
       "    }\n",
       "\n",
       "    .dataframe tbody tr th {\n",
       "        vertical-align: top;\n",
       "    }\n",
       "\n",
       "    .dataframe thead th {\n",
       "        text-align: right;\n",
       "    }\n",
       "</style>\n",
       "<table border=\"1\" class=\"dataframe\">\n",
       "  <thead>\n",
       "    <tr style=\"text-align: right;\">\n",
       "      <th></th>\n",
       "      <th>open</th>\n",
       "      <th>high</th>\n",
       "      <th>low</th>\n",
       "      <th>close</th>\n",
       "      <th>bitcoin</th>\n",
       "      <th>euro</th>\n",
       "    </tr>\n",
       "  </thead>\n",
       "  <tbody>\n",
       "    <tr>\n",
       "      <th>count</th>\n",
       "      <td>525599.000000</td>\n",
       "      <td>525599.000000</td>\n",
       "      <td>525599.000000</td>\n",
       "      <td>525599.000000</td>\n",
       "      <td>525599.000000</td>\n",
       "      <td>5.255990e+05</td>\n",
       "    </tr>\n",
       "    <tr>\n",
       "      <th>mean</th>\n",
       "      <td>6956.112442</td>\n",
       "      <td>6961.189089</td>\n",
       "      <td>6950.673888</td>\n",
       "      <td>6956.089710</td>\n",
       "      <td>7.474384</td>\n",
       "      <td>5.403027e+04</td>\n",
       "    </tr>\n",
       "    <tr>\n",
       "      <th>std</th>\n",
       "      <td>2226.104552</td>\n",
       "      <td>2229.875668</td>\n",
       "      <td>2221.974645</td>\n",
       "      <td>2226.061106</td>\n",
       "      <td>17.935785</td>\n",
       "      <td>1.314561e+05</td>\n",
       "    </tr>\n",
       "    <tr>\n",
       "      <th>min</th>\n",
       "      <td>2888.329065</td>\n",
       "      <td>2895.179076</td>\n",
       "      <td>2886.323056</td>\n",
       "      <td>2888.329065</td>\n",
       "      <td>0.000000</td>\n",
       "      <td>0.000000e+00</td>\n",
       "    </tr>\n",
       "    <tr>\n",
       "      <th>25%</th>\n",
       "      <td>5888.236589</td>\n",
       "      <td>5890.131666</td>\n",
       "      <td>5885.897786</td>\n",
       "      <td>5888.282810</td>\n",
       "      <td>0.404663</td>\n",
       "      <td>2.563584e+03</td>\n",
       "    </tr>\n",
       "    <tr>\n",
       "      <th>50%</th>\n",
       "      <td>6381.002934</td>\n",
       "      <td>6385.366234</td>\n",
       "      <td>6377.564062</td>\n",
       "      <td>6380.965957</td>\n",
       "      <td>2.082416</td>\n",
       "      <td>1.376955e+04</td>\n",
       "    </tr>\n",
       "    <tr>\n",
       "      <th>75%</th>\n",
       "      <td>7928.879044</td>\n",
       "      <td>7936.893835</td>\n",
       "      <td>7920.203287</td>\n",
       "      <td>7928.818956</td>\n",
       "      <td>7.045175</td>\n",
       "      <td>4.923328e+04</td>\n",
       "    </tr>\n",
       "    <tr>\n",
       "      <th>max</th>\n",
       "      <td>15932.498091</td>\n",
       "      <td>15932.507336</td>\n",
       "      <td>15913.991043</td>\n",
       "      <td>15932.498091</td>\n",
       "      <td>747.429670</td>\n",
       "      <td>5.073933e+06</td>\n",
       "    </tr>\n",
       "  </tbody>\n",
       "</table>\n",
       "</div>"
      ],
      "text/plain": [
       "                open           high            low          close   \n",
       "count  525599.000000  525599.000000  525599.000000  525599.000000  \\\n",
       "mean     6956.112442    6961.189089    6950.673888    6956.089710   \n",
       "std      2226.104552    2229.875668    2221.974645    2226.061106   \n",
       "min      2888.329065    2895.179076    2886.323056    2888.329065   \n",
       "25%      5888.236589    5890.131666    5885.897786    5888.282810   \n",
       "50%      6381.002934    6385.366234    6377.564062    6380.965957   \n",
       "75%      7928.879044    7936.893835    7920.203287    7928.818956   \n",
       "max     15932.498091   15932.507336   15913.991043   15932.498091   \n",
       "\n",
       "             bitcoin          euro  \n",
       "count  525599.000000  5.255990e+05  \n",
       "mean        7.474384  5.403027e+04  \n",
       "std        17.935785  1.314561e+05  \n",
       "min         0.000000  0.000000e+00  \n",
       "25%         0.404663  2.563584e+03  \n",
       "50%         2.082416  1.376955e+04  \n",
       "75%         7.045175  4.923328e+04  \n",
       "max       747.429670  5.073933e+06  "
      ]
     },
     "execution_count": 420,
     "metadata": {},
     "output_type": "execute_result"
    }
   ],
   "source": [
    "bitcoin_2018.describe()"
   ]
  },
  {
   "attachments": {},
   "cell_type": "markdown",
   "metadata": {},
   "source": [
    "#### Info dataframe"
   ]
  },
  {
   "cell_type": "code",
   "execution_count": 421,
   "metadata": {},
   "outputs": [
    {
     "name": "stdout",
     "output_type": "stream",
     "text": [
      "<class 'pandas.core.frame.DataFrame'>\n",
      "DatetimeIndex: 525599 entries, 2018-01-01 00:01:00 to 2018-12-31 23:59:00\n",
      "Data columns (total 6 columns):\n",
      " #   Column   Non-Null Count   Dtype  \n",
      "---  ------   --------------   -----  \n",
      " 0   open     525599 non-null  float64\n",
      " 1   high     525599 non-null  float64\n",
      " 2   low      525599 non-null  float64\n",
      " 3   close    525599 non-null  float64\n",
      " 4   bitcoin  525599 non-null  float64\n",
      " 5   euro     525599 non-null  float64\n",
      "dtypes: float64(6)\n",
      "memory usage: 28.1 MB\n"
     ]
    }
   ],
   "source": [
    "bitcoin_2018.info()"
   ]
  },
  {
   "attachments": {},
   "cell_type": "markdown",
   "metadata": {},
   "source": [
    "## Resampling\n",
    "---"
   ]
  },
  {
   "attachments": {},
   "cell_type": "markdown",
   "metadata": {},
   "source": [
    "#### Daily resample"
   ]
  },
  {
   "cell_type": "code",
   "execution_count": 422,
   "metadata": {},
   "outputs": [
    {
     "data": {
      "text/plain": [
       "date\n",
       "2018-01-01    12888.144069\n",
       "2018-01-02    14104.487943\n",
       "2018-01-03    14328.634000\n",
       "2018-01-04    14264.173636\n",
       "2018-01-05    15900.161600\n",
       "                  ...     \n",
       "2018-12-27     3550.885101\n",
       "2018-12-28     3669.979160\n",
       "2018-12-29     3662.445072\n",
       "2018-12-30     3577.536360\n",
       "2018-12-31     3552.475117\n",
       "Freq: D, Name: high, Length: 365, dtype: float64"
      ]
     },
     "execution_count": 422,
     "metadata": {},
     "output_type": "execute_result"
    }
   ],
   "source": [
    "# Get the max value and compare it from now on\n",
    "max_daily_bitcoin_2018 = bitcoin_2018['high'].resample('D').max()\n",
    "max_daily_bitcoin_2018"
   ]
  },
  {
   "attachments": {},
   "cell_type": "markdown",
   "metadata": {},
   "source": [
    "#### Weekly resample"
   ]
  },
  {
   "cell_type": "code",
   "execution_count": 423,
   "metadata": {},
   "outputs": [
    {
     "data": {
      "text/plain": [
       "date\n",
       "2018-01-07    15932.507336\n",
       "2018-01-14    15068.176400\n",
       "2018-01-21    13306.549426\n",
       "2018-01-28    11083.105956\n",
       "2018-02-04    10926.748204\n",
       "2018-02-11     8403.790062\n",
       "2018-02-18    10446.036400\n",
       "2018-02-25    10889.761840\n",
       "2018-03-04    10641.090708\n",
       "2018-03-11    10804.714464\n",
       "2018-03-18     9144.441776\n",
       "2018-03-25     8493.736907\n",
       "2018-04-01     7857.638000\n",
       "2018-04-08     6939.533088\n",
       "2018-04-15     7780.910476\n",
       "2018-04-22     8353.612111\n",
       "2018-04-29     9018.285087\n",
       "2018-05-06     9197.115683\n",
       "2018-05-13     8906.401566\n",
       "2018-05-20     8228.241185\n",
       "2018-05-27     7940.004535\n",
       "2018-06-03     7201.931975\n",
       "2018-06-10     7177.665740\n",
       "2018-06-17     6397.014027\n",
       "2018-06-24     6324.760735\n",
       "2018-07-01     6018.026280\n",
       "2018-07-08     6304.598960\n",
       "2018-07-15     6299.717980\n",
       "2018-07-22     7115.211385\n",
       "2018-07-29     7854.827739\n",
       "2018-08-05     7668.130260\n",
       "2018-08-12     6616.990914\n",
       "2018-08-19     6127.570998\n",
       "2018-08-26     6384.848555\n",
       "2018-09-02     6780.217166\n",
       "2018-09-09     6851.721672\n",
       "2018-09-16     6089.207236\n",
       "2018-09-23     6310.404368\n",
       "2018-09-30     6278.973816\n",
       "2018-10-07     6139.449898\n",
       "2018-10-14     6153.575158\n",
       "2018-10-21     6245.435568\n",
       "2018-10-28     5983.822444\n",
       "2018-11-04     5985.671300\n",
       "2018-11-11     6049.456832\n",
       "2018-11-18     5905.440194\n",
       "2018-11-25     5139.533107\n",
       "2018-12-02     4076.514862\n",
       "2018-12-09     3804.159884\n",
       "2018-12-16     3317.245168\n",
       "2018-12-23     3856.778326\n",
       "2018-12-30     3916.653528\n",
       "2019-01-06     3552.475117\n",
       "Freq: W-SUN, Name: high, dtype: float64"
      ]
     },
     "execution_count": 423,
     "metadata": {},
     "output_type": "execute_result"
    }
   ],
   "source": [
    "max_weekly_bitcoin_2018 = bitcoin_2018['high'].resample('W').max()\n",
    "max_weekly_bitcoin_2018"
   ]
  },
  {
   "attachments": {},
   "cell_type": "markdown",
   "metadata": {},
   "source": [
    "#### Monthly resample"
   ]
  },
  {
   "cell_type": "code",
   "execution_count": 424,
   "metadata": {},
   "outputs": [
    {
     "data": {
      "text/plain": [
       "date\n",
       "2018-01-31    15932.507336\n",
       "2018-02-28    10889.761840\n",
       "2018-03-31    10804.714464\n",
       "2018-04-30     9018.285087\n",
       "2018-05-31     9197.115683\n",
       "2018-06-30     7201.931975\n",
       "2018-07-31     7854.827739\n",
       "2018-08-31     7175.003388\n",
       "2018-09-30     6851.721672\n",
       "2018-10-31     6245.435568\n",
       "2018-11-30     6049.456832\n",
       "2018-12-31     3942.685420\n",
       "Freq: M, Name: high, dtype: float64"
      ]
     },
     "execution_count": 424,
     "metadata": {},
     "output_type": "execute_result"
    }
   ],
   "source": [
    "max_monthly_bitcoin_2018 = bitcoin_2018['high'].resample('M').max()\n",
    "max_monthly_bitcoin_2018\n"
   ]
  },
  {
   "attachments": {},
   "cell_type": "markdown",
   "metadata": {},
   "source": [
    "## Data visualization\n",
    "---"
   ]
  },
  {
   "cell_type": "code",
   "execution_count": 425,
   "metadata": {},
   "outputs": [
    {
     "data": {
      "text/html": [
       "\n",
       "  <div class=\"bk-root\" id=\"74c5faad-e7ee-4555-8e1a-0058ebc12eb7\" data-root-id=\"10135\"></div>\n"
      ]
     },
     "metadata": {},
     "output_type": "display_data"
    },
    {
     "data": {
      "application/javascript": "(function(root) {\n  function embed_document(root) {\n  const docs_json = {\"17656486-f296-4516-80be-0f60d4c8dee6\":{\"defs\":[],\"roots\":{\"references\":[{\"attributes\":{\"below\":[{\"id\":\"10146\"}],\"center\":[{\"id\":\"10149\"},{\"id\":\"10153\"},{\"id\":\"10197\"}],\"left\":[{\"id\":\"10150\"}],\"output_backend\":\"webgl\",\"renderers\":[{\"id\":\"10173\"}],\"sizing_mode\":\"fixed\",\"title\":{\"id\":\"10136\"},\"toolbar\":{\"id\":\"10161\"},\"width\":1200,\"x_range\":{\"id\":\"10138\"},\"x_scale\":{\"id\":\"10142\"},\"y_range\":{\"id\":\"10140\"},\"y_scale\":{\"id\":\"10144\"}},\"id\":\"10135\",\"subtype\":\"Figure\",\"type\":\"Plot\"},{\"attributes\":{},\"id\":\"10138\",\"type\":\"DataRange1d\"},{\"attributes\":{\"line_alpha\":0.2,\"line_color\":\"#1f77b4\",\"line_width\":2,\"x\":{\"field\":\"__x__values\"},\"y\":{\"field\":\"high\"}},\"id\":\"10172\",\"type\":\"Line\"},{\"attributes\":{\"base\":24,\"mantissas\":[1,2,4,6,8,12],\"max_interval\":43200000.0,\"min_interval\":3600000.0,\"num_minor_ticks\":0},\"id\":\"10187\",\"type\":\"AdaptiveTicker\"},{\"attributes\":{\"months\":[0,2,4,6,8,10]},\"id\":\"10193\",\"type\":\"MonthsTicker\"},{\"attributes\":{},\"id\":\"10155\",\"type\":\"WheelZoomTool\"},{\"attributes\":{},\"id\":\"10183\",\"type\":\"Selection\"},{\"attributes\":{\"label\":{\"value\":\" high\"},\"renderers\":[{\"id\":\"10173\"}]},\"id\":\"10198\",\"type\":\"LegendItem\"},{\"attributes\":{\"base\":60,\"mantissas\":[1,2,5,10,15,20,30],\"max_interval\":1800000.0,\"min_interval\":1000.0,\"num_minor_ticks\":0},\"id\":\"10186\",\"type\":\"AdaptiveTicker\"},{\"attributes\":{},\"id\":\"10144\",\"type\":\"LinearScale\"},{\"attributes\":{},\"id\":\"10157\",\"type\":\"SaveTool\"},{\"attributes\":{\"line_alpha\":0.1,\"line_color\":\"#1f77b4\",\"line_width\":2,\"x\":{\"field\":\"__x__values\"},\"y\":{\"field\":\"high\"}},\"id\":\"10171\",\"type\":\"Line\"},{\"attributes\":{\"bottom_units\":\"screen\",\"coordinates\":null,\"fill_alpha\":0.5,\"fill_color\":\"lightgrey\",\"group\":null,\"left_units\":\"screen\",\"level\":\"overlay\",\"line_alpha\":1.0,\"line_color\":\"black\",\"line_dash\":[4,4],\"line_width\":2,\"right_units\":\"screen\",\"syncable\":false,\"top_units\":\"screen\"},\"id\":\"10160\",\"type\":\"BoxAnnotation\"},{\"attributes\":{\"axis_label\":\"Date\",\"coordinates\":null,\"formatter\":{\"id\":\"10201\"},\"group\":null,\"major_label_policy\":{\"id\":\"10181\"},\"ticker\":{\"id\":\"10147\"}},\"id\":\"10146\",\"type\":\"DatetimeAxis\"},{\"attributes\":{\"days\":[1,4,7,10,13,16,19,22,25,28]},\"id\":\"10189\",\"type\":\"DaysTicker\"},{\"attributes\":{\"click_policy\":\"hide\",\"coordinates\":null,\"group\":null,\"items\":[{\"id\":\"10198\"}],\"location\":\"top_left\"},\"id\":\"10197\",\"type\":\"Legend\"},{\"attributes\":{},\"id\":\"10142\",\"type\":\"LinearScale\"},{\"attributes\":{},\"id\":\"10177\",\"type\":\"BasicTickFormatter\"},{\"attributes\":{\"num_minor_ticks\":5,\"tickers\":[{\"id\":\"10185\"},{\"id\":\"10186\"},{\"id\":\"10187\"},{\"id\":\"10188\"},{\"id\":\"10189\"},{\"id\":\"10190\"},{\"id\":\"10191\"},{\"id\":\"10192\"},{\"id\":\"10193\"},{\"id\":\"10194\"},{\"id\":\"10195\"},{\"id\":\"10196\"}]},\"id\":\"10147\",\"type\":\"DatetimeTicker\"},{\"attributes\":{\"months\":[0,4,8]},\"id\":\"10194\",\"type\":\"MonthsTicker\"},{\"attributes\":{\"source\":{\"id\":\"10168\"}},\"id\":\"10174\",\"type\":\"CDSView\"},{\"attributes\":{\"coordinates\":null,\"data_source\":{\"id\":\"10168\"},\"glyph\":{\"id\":\"10170\"},\"group\":null,\"hover_glyph\":null,\"muted_glyph\":{\"id\":\"10172\"},\"nonselection_glyph\":{\"id\":\"10171\"},\"view\":{\"id\":\"10174\"}},\"id\":\"10173\",\"type\":\"GlyphRenderer\"},{\"attributes\":{\"data\":{\"__x__values\":{\"__ndarray__\":\"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\",\"dtype\":\"float64\",\"order\":\"little\",\"shape\":[365]},\"__x__values_original\":{\"__ndarray__\":\"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\",\"dtype\":\"float64\",\"order\":\"little\",\"shape\":[365]},\"high\":{\"__ndarray__\":\"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\",\"dtype\":\"float64\",\"order\":\"little\",\"shape\":[365]}},\"selected\":{\"id\":\"10183\"},\"selection_policy\":{\"id\":\"10182\"}},\"id\":\"10168\",\"type\":\"ColumnDataSource\"},{\"attributes\":{},\"id\":\"10151\",\"type\":\"BasicTicker\"},{\"attributes\":{\"days\":[1,8,15,22]},\"id\":\"10190\",\"type\":\"DaysTicker\"},{\"attributes\":{\"axis\":{\"id\":\"10146\"},\"coordinates\":null,\"group\":null,\"ticker\":null},\"id\":\"10149\",\"type\":\"Grid\"},{\"attributes\":{\"months\":[0,6]},\"id\":\"10195\",\"type\":\"MonthsTicker\"},{\"attributes\":{},\"id\":\"10154\",\"type\":\"PanTool\"},{\"attributes\":{},\"id\":\"10159\",\"type\":\"HelpTool\"},{\"attributes\":{\"active_scroll\":{\"id\":\"10155\"},\"tools\":[{\"id\":\"10154\"},{\"id\":\"10155\"},{\"id\":\"10156\"},{\"id\":\"10157\"},{\"id\":\"10158\"},{\"id\":\"10159\"},{\"id\":\"10199\"}]},\"id\":\"10161\",\"type\":\"Toolbar\"},{\"attributes\":{\"months\":[0,1,2,3,4,5,6,7,8,9,10,11]},\"id\":\"10192\",\"type\":\"MonthsTicker\"},{\"attributes\":{\"axis\":{\"id\":\"10150\"},\"coordinates\":null,\"dimension\":1,\"group\":null,\"ticker\":null},\"id\":\"10153\",\"type\":\"Grid\"},{\"attributes\":{},\"id\":\"10140\",\"type\":\"DataRange1d\"},{\"attributes\":{},\"id\":\"10182\",\"type\":\"UnionRenderers\"},{\"attributes\":{\"overlay\":{\"id\":\"10160\"}},\"id\":\"10156\",\"type\":\"BoxZoomTool\"},{\"attributes\":{},\"id\":\"10158\",\"type\":\"ResetTool\"},{\"attributes\":{\"axis_label\":\"Daily max\",\"coordinates\":null,\"formatter\":{\"id\":\"10177\"},\"group\":null,\"major_label_policy\":{\"id\":\"10178\"},\"ticker\":{\"id\":\"10151\"}},\"id\":\"10150\",\"type\":\"LinearAxis\"},{\"attributes\":{\"mantissas\":[1,2,5],\"max_interval\":500.0,\"num_minor_ticks\":0},\"id\":\"10185\",\"type\":\"AdaptiveTicker\"},{\"attributes\":{\"coordinates\":null,\"group\":null,\"text\":\"Daily max year overview bitcoin 2017\"},\"id\":\"10136\",\"type\":\"Title\"},{\"attributes\":{\"days\":[1,2,3,4,5,6,7,8,9,10,11,12,13,14,15,16,17,18,19,20,21,22,23,24,25,26,27,28,29,30,31]},\"id\":\"10188\",\"type\":\"DaysTicker\"},{\"attributes\":{\"line_color\":\"#1f77b4\",\"line_width\":2,\"x\":{\"field\":\"__x__values\"},\"y\":{\"field\":\"high\"}},\"id\":\"10170\",\"type\":\"Line\"},{\"attributes\":{},\"id\":\"10181\",\"type\":\"AllLabels\"},{\"attributes\":{\"days\":[1,15]},\"id\":\"10191\",\"type\":\"DaysTicker\"},{\"attributes\":{},\"id\":\"10178\",\"type\":\"AllLabels\"},{\"attributes\":{\"callback\":null,\"formatters\":{\"@__x__values_original\":\"datetime\"},\"mode\":\"vline\",\"renderers\":[{\"id\":\"10173\"}],\"tooltips\":[[\"Date\",\"@__x__values_original{%F}\"],[\"high\",\"@{high}\"]]},\"id\":\"10199\",\"type\":\"HoverTool\"},{\"attributes\":{},\"id\":\"10196\",\"type\":\"YearsTicker\"},{\"attributes\":{\"days\":[\"%d %B %Y\"],\"hours\":[\"%H:%M:%S\"],\"milliseconds\":[\"%H:%M:%S.%f\"],\"minutes\":[\"%H:%M:%S\"],\"months\":[\"%d %B %Y\"],\"seconds\":[\"%H:%M:%S\"],\"years\":[\"%d %B %Y\"]},\"id\":\"10201\",\"type\":\"DatetimeTickFormatter\"}],\"root_ids\":[\"10135\"]},\"title\":\"Bokeh Application\",\"version\":\"2.4.3\"}};\n  const render_items = [{\"docid\":\"17656486-f296-4516-80be-0f60d4c8dee6\",\"root_ids\":[\"10135\"],\"roots\":{\"10135\":\"74c5faad-e7ee-4555-8e1a-0058ebc12eb7\"}}];\n  root.Bokeh.embed.embed_items_notebook(docs_json, render_items);\n  }\n  if (root.Bokeh !== undefined) {\n    embed_document(root);\n  } else {\n    let attempts = 0;\n    const timer = setInterval(function(root) {\n      if (root.Bokeh !== undefined) {\n        clearInterval(timer);\n        embed_document(root);\n      } else {\n        attempts++;\n        if (attempts > 100) {\n          clearInterval(timer);\n          console.log(\"Bokeh: ERROR: Unable to run BokehJS code because BokehJS library is missing\");\n        }\n      }\n    }, 10, root)\n  }\n})(window);",
      "application/vnd.bokehjs_exec.v0+json": ""
     },
     "metadata": {
      "application/vnd.bokehjs_exec.v0+json": {
       "id": "10135"
      }
     },
     "output_type": "display_data"
    },
    {
     "data": {
      "text/html": [
       "<div style=\"display: table;\"><div style=\"display: table-row;\"><div style=\"display: table-cell;\"><b title=\"bokeh.plotting.figure.Figure\">Figure</b>(</div><div style=\"display: table-cell;\">id&nbsp;=&nbsp;'10135', <span id=\"10330\" style=\"cursor: pointer;\">&hellip;)</span></div></div><div class=\"10329\" style=\"display: none;\"><div style=\"display: table-cell;\"></div><div style=\"display: table-cell;\">above&nbsp;=&nbsp;[],</div></div><div class=\"10329\" style=\"display: none;\"><div style=\"display: table-cell;\"></div><div style=\"display: table-cell;\">align&nbsp;=&nbsp;'start',</div></div><div class=\"10329\" style=\"display: none;\"><div style=\"display: table-cell;\"></div><div style=\"display: table-cell;\">aspect_ratio&nbsp;=&nbsp;None,</div></div><div class=\"10329\" style=\"display: none;\"><div style=\"display: table-cell;\"></div><div style=\"display: table-cell;\">aspect_scale&nbsp;=&nbsp;1,</div></div><div class=\"10329\" style=\"display: none;\"><div style=\"display: table-cell;\"></div><div style=\"display: table-cell;\">background&nbsp;=&nbsp;None,</div></div><div class=\"10329\" style=\"display: none;\"><div style=\"display: table-cell;\"></div><div style=\"display: table-cell;\">background_fill_alpha&nbsp;=&nbsp;1.0,</div></div><div class=\"10329\" style=\"display: none;\"><div style=\"display: table-cell;\"></div><div style=\"display: table-cell;\">background_fill_color&nbsp;=&nbsp;'#ffffff',</div></div><div class=\"10329\" style=\"display: none;\"><div style=\"display: table-cell;\"></div><div style=\"display: table-cell;\">below&nbsp;=&nbsp;[DatetimeAxis(id='10146', ...)],</div></div><div class=\"10329\" style=\"display: none;\"><div style=\"display: table-cell;\"></div><div style=\"display: table-cell;\">border_fill_alpha&nbsp;=&nbsp;1.0,</div></div><div class=\"10329\" style=\"display: none;\"><div style=\"display: table-cell;\"></div><div style=\"display: table-cell;\">border_fill_color&nbsp;=&nbsp;'#ffffff',</div></div><div class=\"10329\" style=\"display: none;\"><div style=\"display: table-cell;\"></div><div style=\"display: table-cell;\">center&nbsp;=&nbsp;[Grid(id='10149', ...), Grid(id='10153', ...), Legend(id='10197', ...)],</div></div><div class=\"10329\" style=\"display: none;\"><div style=\"display: table-cell;\"></div><div style=\"display: table-cell;\">css_classes&nbsp;=&nbsp;[],</div></div><div class=\"10329\" style=\"display: none;\"><div style=\"display: table-cell;\"></div><div style=\"display: table-cell;\">disabled&nbsp;=&nbsp;False,</div></div><div class=\"10329\" style=\"display: none;\"><div style=\"display: table-cell;\"></div><div style=\"display: table-cell;\">extra_x_ranges&nbsp;=&nbsp;{},</div></div><div class=\"10329\" style=\"display: none;\"><div style=\"display: table-cell;\"></div><div style=\"display: table-cell;\">extra_x_scales&nbsp;=&nbsp;{},</div></div><div class=\"10329\" style=\"display: none;\"><div style=\"display: table-cell;\"></div><div style=\"display: table-cell;\">extra_y_ranges&nbsp;=&nbsp;{},</div></div><div class=\"10329\" style=\"display: none;\"><div style=\"display: table-cell;\"></div><div style=\"display: table-cell;\">extra_y_scales&nbsp;=&nbsp;{},</div></div><div class=\"10329\" style=\"display: none;\"><div style=\"display: table-cell;\"></div><div style=\"display: table-cell;\">frame_height&nbsp;=&nbsp;None,</div></div><div class=\"10329\" style=\"display: none;\"><div style=\"display: table-cell;\"></div><div style=\"display: table-cell;\">frame_width&nbsp;=&nbsp;None,</div></div><div class=\"10329\" style=\"display: none;\"><div style=\"display: table-cell;\"></div><div style=\"display: table-cell;\">height&nbsp;=&nbsp;600,</div></div><div class=\"10329\" style=\"display: none;\"><div style=\"display: table-cell;\"></div><div style=\"display: table-cell;\">height_policy&nbsp;=&nbsp;'auto',</div></div><div class=\"10329\" style=\"display: none;\"><div style=\"display: table-cell;\"></div><div style=\"display: table-cell;\">hidpi&nbsp;=&nbsp;True,</div></div><div class=\"10329\" style=\"display: none;\"><div style=\"display: table-cell;\"></div><div style=\"display: table-cell;\">inner_height&nbsp;=&nbsp;0,</div></div><div class=\"10329\" style=\"display: none;\"><div style=\"display: table-cell;\"></div><div style=\"display: table-cell;\">inner_width&nbsp;=&nbsp;0,</div></div><div class=\"10329\" style=\"display: none;\"><div style=\"display: table-cell;\"></div><div style=\"display: table-cell;\">js_event_callbacks&nbsp;=&nbsp;{},</div></div><div class=\"10329\" style=\"display: none;\"><div style=\"display: table-cell;\"></div><div style=\"display: table-cell;\">js_property_callbacks&nbsp;=&nbsp;{},</div></div><div class=\"10329\" style=\"display: none;\"><div style=\"display: table-cell;\"></div><div style=\"display: table-cell;\">left&nbsp;=&nbsp;[LinearAxis(id='10150', ...)],</div></div><div class=\"10329\" style=\"display: none;\"><div style=\"display: table-cell;\"></div><div style=\"display: table-cell;\">lod_factor&nbsp;=&nbsp;10,</div></div><div class=\"10329\" style=\"display: none;\"><div style=\"display: table-cell;\"></div><div style=\"display: table-cell;\">lod_interval&nbsp;=&nbsp;300,</div></div><div class=\"10329\" style=\"display: none;\"><div style=\"display: table-cell;\"></div><div style=\"display: table-cell;\">lod_threshold&nbsp;=&nbsp;2000,</div></div><div class=\"10329\" style=\"display: none;\"><div style=\"display: table-cell;\"></div><div style=\"display: table-cell;\">lod_timeout&nbsp;=&nbsp;500,</div></div><div class=\"10329\" style=\"display: none;\"><div style=\"display: table-cell;\"></div><div style=\"display: table-cell;\">margin&nbsp;=&nbsp;(0, 0, 0, 0),</div></div><div class=\"10329\" style=\"display: none;\"><div style=\"display: table-cell;\"></div><div style=\"display: table-cell;\">match_aspect&nbsp;=&nbsp;False,</div></div><div class=\"10329\" style=\"display: none;\"><div style=\"display: table-cell;\"></div><div style=\"display: table-cell;\">max_height&nbsp;=&nbsp;None,</div></div><div class=\"10329\" style=\"display: none;\"><div style=\"display: table-cell;\"></div><div style=\"display: table-cell;\">max_width&nbsp;=&nbsp;None,</div></div><div class=\"10329\" style=\"display: none;\"><div style=\"display: table-cell;\"></div><div style=\"display: table-cell;\">min_border&nbsp;=&nbsp;5,</div></div><div class=\"10329\" style=\"display: none;\"><div style=\"display: table-cell;\"></div><div style=\"display: table-cell;\">min_border_bottom&nbsp;=&nbsp;None,</div></div><div class=\"10329\" style=\"display: none;\"><div style=\"display: table-cell;\"></div><div style=\"display: table-cell;\">min_border_left&nbsp;=&nbsp;None,</div></div><div class=\"10329\" style=\"display: none;\"><div style=\"display: table-cell;\"></div><div style=\"display: table-cell;\">min_border_right&nbsp;=&nbsp;None,</div></div><div class=\"10329\" style=\"display: none;\"><div style=\"display: table-cell;\"></div><div style=\"display: table-cell;\">min_border_top&nbsp;=&nbsp;None,</div></div><div class=\"10329\" style=\"display: none;\"><div style=\"display: table-cell;\"></div><div style=\"display: table-cell;\">min_height&nbsp;=&nbsp;None,</div></div><div class=\"10329\" style=\"display: none;\"><div style=\"display: table-cell;\"></div><div style=\"display: table-cell;\">min_width&nbsp;=&nbsp;None,</div></div><div class=\"10329\" style=\"display: none;\"><div style=\"display: table-cell;\"></div><div style=\"display: table-cell;\">name&nbsp;=&nbsp;None,</div></div><div class=\"10329\" style=\"display: none;\"><div style=\"display: table-cell;\"></div><div style=\"display: table-cell;\">outer_height&nbsp;=&nbsp;0,</div></div><div class=\"10329\" style=\"display: none;\"><div style=\"display: table-cell;\"></div><div style=\"display: table-cell;\">outer_width&nbsp;=&nbsp;0,</div></div><div class=\"10329\" style=\"display: none;\"><div style=\"display: table-cell;\"></div><div style=\"display: table-cell;\">outline_line_alpha&nbsp;=&nbsp;1.0,</div></div><div class=\"10329\" style=\"display: none;\"><div style=\"display: table-cell;\"></div><div style=\"display: table-cell;\">outline_line_cap&nbsp;=&nbsp;'butt',</div></div><div class=\"10329\" style=\"display: none;\"><div style=\"display: table-cell;\"></div><div style=\"display: table-cell;\">outline_line_color&nbsp;=&nbsp;'#e5e5e5',</div></div><div class=\"10329\" style=\"display: none;\"><div style=\"display: table-cell;\"></div><div style=\"display: table-cell;\">outline_line_dash&nbsp;=&nbsp;[],</div></div><div class=\"10329\" style=\"display: none;\"><div style=\"display: table-cell;\"></div><div style=\"display: table-cell;\">outline_line_dash_offset&nbsp;=&nbsp;0,</div></div><div class=\"10329\" style=\"display: none;\"><div style=\"display: table-cell;\"></div><div style=\"display: table-cell;\">outline_line_join&nbsp;=&nbsp;'bevel',</div></div><div class=\"10329\" style=\"display: none;\"><div style=\"display: table-cell;\"></div><div style=\"display: table-cell;\">outline_line_width&nbsp;=&nbsp;1,</div></div><div class=\"10329\" style=\"display: none;\"><div style=\"display: table-cell;\"></div><div style=\"display: table-cell;\">output_backend&nbsp;=&nbsp;'webgl',</div></div><div class=\"10329\" style=\"display: none;\"><div style=\"display: table-cell;\"></div><div style=\"display: table-cell;\">renderers&nbsp;=&nbsp;[GlyphRenderer(id='10173', ...)],</div></div><div class=\"10329\" style=\"display: none;\"><div style=\"display: table-cell;\"></div><div style=\"display: table-cell;\">reset_policy&nbsp;=&nbsp;'standard',</div></div><div class=\"10329\" style=\"display: none;\"><div style=\"display: table-cell;\"></div><div style=\"display: table-cell;\">right&nbsp;=&nbsp;[],</div></div><div class=\"10329\" style=\"display: none;\"><div style=\"display: table-cell;\"></div><div style=\"display: table-cell;\">sizing_mode&nbsp;=&nbsp;'fixed',</div></div><div class=\"10329\" style=\"display: none;\"><div style=\"display: table-cell;\"></div><div style=\"display: table-cell;\">subscribed_events&nbsp;=&nbsp;[],</div></div><div class=\"10329\" style=\"display: none;\"><div style=\"display: table-cell;\"></div><div style=\"display: table-cell;\">syncable&nbsp;=&nbsp;True,</div></div><div class=\"10329\" style=\"display: none;\"><div style=\"display: table-cell;\"></div><div style=\"display: table-cell;\">tags&nbsp;=&nbsp;[],</div></div><div class=\"10329\" style=\"display: none;\"><div style=\"display: table-cell;\"></div><div style=\"display: table-cell;\">title&nbsp;=&nbsp;Title(id='10136', ...),</div></div><div class=\"10329\" style=\"display: none;\"><div style=\"display: table-cell;\"></div><div style=\"display: table-cell;\">title_location&nbsp;=&nbsp;'above',</div></div><div class=\"10329\" style=\"display: none;\"><div style=\"display: table-cell;\"></div><div style=\"display: table-cell;\">toolbar&nbsp;=&nbsp;Toolbar(id='10161', ...),</div></div><div class=\"10329\" style=\"display: none;\"><div style=\"display: table-cell;\"></div><div style=\"display: table-cell;\">toolbar_location&nbsp;=&nbsp;'right',</div></div><div class=\"10329\" style=\"display: none;\"><div style=\"display: table-cell;\"></div><div style=\"display: table-cell;\">toolbar_sticky&nbsp;=&nbsp;True,</div></div><div class=\"10329\" style=\"display: none;\"><div style=\"display: table-cell;\"></div><div style=\"display: table-cell;\">visible&nbsp;=&nbsp;True,</div></div><div class=\"10329\" style=\"display: none;\"><div style=\"display: table-cell;\"></div><div style=\"display: table-cell;\">width&nbsp;=&nbsp;1200,</div></div><div class=\"10329\" style=\"display: none;\"><div style=\"display: table-cell;\"></div><div style=\"display: table-cell;\">width_policy&nbsp;=&nbsp;'auto',</div></div><div class=\"10329\" style=\"display: none;\"><div style=\"display: table-cell;\"></div><div style=\"display: table-cell;\">x_range&nbsp;=&nbsp;DataRange1d(id='10138', ...),</div></div><div class=\"10329\" style=\"display: none;\"><div style=\"display: table-cell;\"></div><div style=\"display: table-cell;\">x_scale&nbsp;=&nbsp;LinearScale(id='10142', ...),</div></div><div class=\"10329\" style=\"display: none;\"><div style=\"display: table-cell;\"></div><div style=\"display: table-cell;\">y_range&nbsp;=&nbsp;DataRange1d(id='10140', ...),</div></div><div class=\"10329\" style=\"display: none;\"><div style=\"display: table-cell;\"></div><div style=\"display: table-cell;\">y_scale&nbsp;=&nbsp;LinearScale(id='10144', ...))</div></div></div>\n",
       "<script>\n",
       "(function() {\n",
       "  let expanded = false;\n",
       "  const ellipsis = document.getElementById(\"10330\");\n",
       "  ellipsis.addEventListener(\"click\", function() {\n",
       "    const rows = document.getElementsByClassName(\"10329\");\n",
       "    for (let i = 0; i < rows.length; i++) {\n",
       "      const el = rows[i];\n",
       "      el.style.display = expanded ? \"none\" : \"table-row\";\n",
       "    }\n",
       "    ellipsis.innerHTML = expanded ? \"&hellip;)\" : \"&lsaquo;&lsaquo;&lsaquo;\";\n",
       "    expanded = !expanded;\n",
       "  });\n",
       "})();\n",
       "</script>\n"
      ],
      "text/plain": [
       "Figure(id='10135', ...)"
      ]
     },
     "execution_count": 425,
     "metadata": {},
     "output_type": "execute_result"
    }
   ],
   "source": [
    "max_daily_bitcoin_2018.plot_bokeh(figsize=(1200,600), legend=\"top_left\", ylabel=\"Daily max\", xlabel=\"Date\", title=\"Daily max year overview bitcoin 2017\")"
   ]
  },
  {
   "cell_type": "code",
   "execution_count": 426,
   "metadata": {},
   "outputs": [
    {
     "data": {
      "text/html": [
       "\n",
       "  <div class=\"bk-root\" id=\"384cf1ba-6228-4a03-b1d8-b740b0828c56\" data-root-id=\"10332\"></div>\n"
      ]
     },
     "metadata": {},
     "output_type": "display_data"
    },
    {
     "data": {
      "application/javascript": "(function(root) {\n  function embed_document(root) {\n  const docs_json = {\"df085444-8e10-43b3-bbb8-4441c2b42749\":{\"defs\":[],\"roots\":{\"references\":[{\"attributes\":{\"below\":[{\"id\":\"10343\"}],\"center\":[{\"id\":\"10346\"},{\"id\":\"10350\"},{\"id\":\"10394\"}],\"left\":[{\"id\":\"10347\"}],\"output_backend\":\"webgl\",\"renderers\":[{\"id\":\"10370\"}],\"sizing_mode\":\"fixed\",\"title\":{\"id\":\"10333\"},\"toolbar\":{\"id\":\"10358\"},\"width\":1200,\"x_range\":{\"id\":\"10335\"},\"x_scale\":{\"id\":\"10339\"},\"y_range\":{\"id\":\"10337\"},\"y_scale\":{\"id\":\"10341\"}},\"id\":\"10332\",\"subtype\":\"Figure\",\"type\":\"Plot\"},{\"attributes\":{},\"id\":\"10335\",\"type\":\"DataRange1d\"},{\"attributes\":{},\"id\":\"10339\",\"type\":\"LinearScale\"},{\"attributes\":{},\"id\":\"10341\",\"type\":\"LinearScale\"},{\"attributes\":{\"days\":[\"%d %B %Y\"],\"hours\":[\"%H:%M:%S\"],\"milliseconds\":[\"%H:%M:%S.%f\"],\"minutes\":[\"%H:%M:%S\"],\"months\":[\"%d %B %Y\"],\"seconds\":[\"%H:%M:%S\"],\"years\":[\"%d %B %Y\"]},\"id\":\"10398\",\"type\":\"DatetimeTickFormatter\"},{\"attributes\":{\"months\":[0,2,4,6,8,10]},\"id\":\"10390\",\"type\":\"MonthsTicker\"},{\"attributes\":{\"callback\":null,\"formatters\":{\"@__x__values_original\":\"datetime\"},\"mode\":\"vline\",\"renderers\":[{\"id\":\"10370\"}],\"tooltips\":[[\"Date\",\"@__x__values_original{%F}\"],[\"high\",\"@{high}\"]]},\"id\":\"10396\",\"type\":\"HoverTool\"},{\"attributes\":{\"line_alpha\":0.2,\"line_color\":\"#1f77b4\",\"line_width\":2,\"x\":{\"field\":\"__x__values\"},\"y\":{\"field\":\"high\"}},\"id\":\"10369\",\"type\":\"Line\"},{\"attributes\":{},\"id\":\"10337\",\"type\":\"DataRange1d\"},{\"attributes\":{\"active_scroll\":{\"id\":\"10352\"},\"tools\":[{\"id\":\"10351\"},{\"id\":\"10352\"},{\"id\":\"10353\"},{\"id\":\"10354\"},{\"id\":\"10355\"},{\"id\":\"10356\"},{\"id\":\"10396\"}]},\"id\":\"10358\",\"type\":\"Toolbar\"},{\"attributes\":{\"data\":{\"__x__values\":{\"__ndarray__\":\"AACAq94MdkIAAMBzHw92QgAAADxgEXZCAABABKETdkIAAIDM4RV2QgAAwJQiGHZCAAAAXWMadkIAAEAlpBx2QgAAgO3kHnZCAADAtSUhdkIAAAB+ZiN2QgAAQEanJXZCAACADugndkIAAMDWKCp2QgAAAJ9pLHZCAABAZ6oudkIAAIAv6zB2QgAAwPcrM3ZCAAAAwGw1dkIAAECIrTd2QgAAgFDuOXZCAADAGC88dkIAAADhbz52QgAAQKmwQHZCAACAcfFCdkIAAMA5MkV2QgAAAAJzR3ZCAABAyrNJdkIAAICS9Et2QgAAwFo1TnZCAAAAI3ZQdkIAAEDrtlJ2QgAAgLP3VHZCAADAezhXdkIAAABEeVl2QgAAQAy6W3ZCAACA1PpddkIAAMCcO2B2QgAAAGV8YnZCAABALb1kdkIAAID1/WZ2QgAAwL0+aXZCAAAAhn9rdkIAAEBOwG12QgAAgBYBcHZCAADA3kFydkIAAACngnR2QgAAQG/DdnZCAACANwR5dkIAAMD/RHt2QgAAAMiFfXZCAABAkMZ/dkIAAIBYB4J2Qg==\",\"dtype\":\"float64\",\"order\":\"little\",\"shape\":[53]},\"__x__values_original\":{\"__ndarray__\":\"AACAq94MdkIAAMBzHw92QgAAADxgEXZCAABABKETdkIAAIDM4RV2QgAAwJQiGHZCAAAAXWMadkIAAEAlpBx2QgAAgO3kHnZCAADAtSUhdkIAAAB+ZiN2QgAAQEanJXZCAACADugndkIAAMDWKCp2QgAAAJ9pLHZCAABAZ6oudkIAAIAv6zB2QgAAwPcrM3ZCAAAAwGw1dkIAAECIrTd2QgAAgFDuOXZCAADAGC88dkIAAADhbz52QgAAQKmwQHZCAACAcfFCdkIAAMA5MkV2QgAAAAJzR3ZCAABAyrNJdkIAAICS9Et2QgAAwFo1TnZCAAAAI3ZQdkIAAEDrtlJ2QgAAgLP3VHZCAADAezhXdkIAAABEeVl2QgAAQAy6W3ZCAACA1PpddkIAAMCcO2B2QgAAAGV8YnZCAABALb1kdkIAAID1/WZ2QgAAwL0+aXZCAAAAhn9rdkIAAEBOwG12QgAAgBYBcHZCAADA3kFydkIAAACngnR2QgAAQG/DdnZCAACANwR5dkIAAMD/RHt2QgAAAMiFfXZCAABAkMZ/dkIAAIBYB4J2Qg==\",\"dtype\":\"float64\",\"order\":\"little\",\"shape\":[53]},\"high\":{\"__ndarray__\":\"wHpg8EAez0CCc0aUFm7NQJYCmFNG/clA5wb5j42lxUCqaCjFX1fFQObEwyDlacBAylTBqARnxEBlHvmD4UTFQL7aUZyLyMRAFm2Oc1saxUAUsB2MONzBQBpH9lLelsBA2c73U6OxvkBPeGx4iBu7QMuD9BTpZL5AX4qjWc5QwEApv7l9JJ3BQL4Ht86O9sFAmMKDZjNlwUAkGSjfHhLAQLJRMSkBBL9AFEDvle4hvEAHJvVtqgm8QHWxSJcD/bhAiQuCv8K0uECKPEm6BoK3QJ1LcVWZoLhAYTqMzbebuECuw00dNsu7QDr7sebTrr5A+ie4WCH0vUDz4oqs/di5QBXI7CyS77dAeCfhOtnwuEDO4zCYN3y6QHOre7+4w7pAjiJrDTXJt0BbmKaEZ6a4QCCx/kv5hrhAi5GALHP7t0DZ9Yc9kwm4QC9rYoFvZbhAy6Kwi9Jft0DOGVHaq2G3QMQj8fJ0obdAgM6LsHARt0CoqLh5iBO0QFc075sH2a9AS4RX3FG4rUCmU6qGfeqpQKd/vYCOIa5A4Loom06ZrkBaYoZC88CrQA==\",\"dtype\":\"float64\",\"order\":\"little\",\"shape\":[53]}},\"selected\":{\"id\":\"10380\"},\"selection_policy\":{\"id\":\"10379\"}},\"id\":\"10365\",\"type\":\"ColumnDataSource\"},{\"attributes\":{},\"id\":\"10378\",\"type\":\"AllLabels\"},{\"attributes\":{\"axis\":{\"id\":\"10347\"},\"coordinates\":null,\"dimension\":1,\"group\":null,\"ticker\":null},\"id\":\"10350\",\"type\":\"Grid\"},{\"attributes\":{},\"id\":\"10380\",\"type\":\"Selection\"},{\"attributes\":{\"days\":[1,4,7,10,13,16,19,22,25,28]},\"id\":\"10386\",\"type\":\"DaysTicker\"},{\"attributes\":{\"line_alpha\":0.1,\"line_color\":\"#1f77b4\",\"line_width\":2,\"x\":{\"field\":\"__x__values\"},\"y\":{\"field\":\"high\"}},\"id\":\"10368\",\"type\":\"Line\"},{\"attributes\":{\"days\":[1,8,15,22]},\"id\":\"10387\",\"type\":\"DaysTicker\"},{\"attributes\":{\"line_color\":\"#1f77b4\",\"line_width\":2,\"x\":{\"field\":\"__x__values\"},\"y\":{\"field\":\"high\"}},\"id\":\"10367\",\"type\":\"Line\"},{\"attributes\":{\"months\":[0,4,8]},\"id\":\"10391\",\"type\":\"MonthsTicker\"},{\"attributes\":{\"overlay\":{\"id\":\"10357\"}},\"id\":\"10353\",\"type\":\"BoxZoomTool\"},{\"attributes\":{},\"id\":\"10379\",\"type\":\"UnionRenderers\"},{\"attributes\":{\"months\":[0,6]},\"id\":\"10392\",\"type\":\"MonthsTicker\"},{\"attributes\":{\"label\":{\"value\":\" high\"},\"renderers\":[{\"id\":\"10370\"}]},\"id\":\"10395\",\"type\":\"LegendItem\"},{\"attributes\":{\"coordinates\":null,\"group\":null,\"text\":\"Weekly max year overview bitcoin 2017\"},\"id\":\"10333\",\"type\":\"Title\"},{\"attributes\":{},\"id\":\"10355\",\"type\":\"ResetTool\"},{\"attributes\":{},\"id\":\"10351\",\"type\":\"PanTool\"},{\"attributes\":{},\"id\":\"10356\",\"type\":\"HelpTool\"},{\"attributes\":{},\"id\":\"10352\",\"type\":\"WheelZoomTool\"},{\"attributes\":{\"mantissas\":[1,2,5],\"max_interval\":500.0,\"num_minor_ticks\":0},\"id\":\"10382\",\"type\":\"AdaptiveTicker\"},{\"attributes\":{},\"id\":\"10374\",\"type\":\"BasicTickFormatter\"},{\"attributes\":{\"base\":60,\"mantissas\":[1,2,5,10,15,20,30],\"max_interval\":1800000.0,\"min_interval\":1000.0,\"num_minor_ticks\":0},\"id\":\"10383\",\"type\":\"AdaptiveTicker\"},{\"attributes\":{\"coordinates\":null,\"data_source\":{\"id\":\"10365\"},\"glyph\":{\"id\":\"10367\"},\"group\":null,\"hover_glyph\":null,\"muted_glyph\":{\"id\":\"10369\"},\"nonselection_glyph\":{\"id\":\"10368\"},\"view\":{\"id\":\"10371\"}},\"id\":\"10370\",\"type\":\"GlyphRenderer\"},{\"attributes\":{},\"id\":\"10375\",\"type\":\"AllLabels\"},{\"attributes\":{\"base\":24,\"mantissas\":[1,2,4,6,8,12],\"max_interval\":43200000.0,\"min_interval\":3600000.0,\"num_minor_ticks\":0},\"id\":\"10384\",\"type\":\"AdaptiveTicker\"},{\"attributes\":{\"axis_label\":\"Weekly max\",\"coordinates\":null,\"formatter\":{\"id\":\"10374\"},\"group\":null,\"major_label_policy\":{\"id\":\"10375\"},\"ticker\":{\"id\":\"10348\"}},\"id\":\"10347\",\"type\":\"LinearAxis\"},{\"attributes\":{},\"id\":\"10393\",\"type\":\"YearsTicker\"},{\"attributes\":{\"months\":[0,1,2,3,4,5,6,7,8,9,10,11]},\"id\":\"10389\",\"type\":\"MonthsTicker\"},{\"attributes\":{\"days\":[1,15]},\"id\":\"10388\",\"type\":\"DaysTicker\"},{\"attributes\":{},\"id\":\"10354\",\"type\":\"SaveTool\"},{\"attributes\":{\"source\":{\"id\":\"10365\"}},\"id\":\"10371\",\"type\":\"CDSView\"},{\"attributes\":{\"axis\":{\"id\":\"10343\"},\"coordinates\":null,\"group\":null,\"ticker\":null},\"id\":\"10346\",\"type\":\"Grid\"},{\"attributes\":{\"click_policy\":\"hide\",\"coordinates\":null,\"group\":null,\"items\":[{\"id\":\"10395\"}],\"location\":\"top_left\"},\"id\":\"10394\",\"type\":\"Legend\"},{\"attributes\":{\"days\":[1,2,3,4,5,6,7,8,9,10,11,12,13,14,15,16,17,18,19,20,21,22,23,24,25,26,27,28,29,30,31]},\"id\":\"10385\",\"type\":\"DaysTicker\"},{\"attributes\":{\"axis_label\":\"Date\",\"coordinates\":null,\"formatter\":{\"id\":\"10398\"},\"group\":null,\"major_label_policy\":{\"id\":\"10378\"},\"ticker\":{\"id\":\"10344\"}},\"id\":\"10343\",\"type\":\"DatetimeAxis\"},{\"attributes\":{},\"id\":\"10348\",\"type\":\"BasicTicker\"},{\"attributes\":{\"num_minor_ticks\":5,\"tickers\":[{\"id\":\"10382\"},{\"id\":\"10383\"},{\"id\":\"10384\"},{\"id\":\"10385\"},{\"id\":\"10386\"},{\"id\":\"10387\"},{\"id\":\"10388\"},{\"id\":\"10389\"},{\"id\":\"10390\"},{\"id\":\"10391\"},{\"id\":\"10392\"},{\"id\":\"10393\"}]},\"id\":\"10344\",\"type\":\"DatetimeTicker\"},{\"attributes\":{\"bottom_units\":\"screen\",\"coordinates\":null,\"fill_alpha\":0.5,\"fill_color\":\"lightgrey\",\"group\":null,\"left_units\":\"screen\",\"level\":\"overlay\",\"line_alpha\":1.0,\"line_color\":\"black\",\"line_dash\":[4,4],\"line_width\":2,\"right_units\":\"screen\",\"syncable\":false,\"top_units\":\"screen\"},\"id\":\"10357\",\"type\":\"BoxAnnotation\"}],\"root_ids\":[\"10332\"]},\"title\":\"Bokeh Application\",\"version\":\"2.4.3\"}};\n  const render_items = [{\"docid\":\"df085444-8e10-43b3-bbb8-4441c2b42749\",\"root_ids\":[\"10332\"],\"roots\":{\"10332\":\"384cf1ba-6228-4a03-b1d8-b740b0828c56\"}}];\n  root.Bokeh.embed.embed_items_notebook(docs_json, render_items);\n  }\n  if (root.Bokeh !== undefined) {\n    embed_document(root);\n  } else {\n    let attempts = 0;\n    const timer = setInterval(function(root) {\n      if (root.Bokeh !== undefined) {\n        clearInterval(timer);\n        embed_document(root);\n      } else {\n        attempts++;\n        if (attempts > 100) {\n          clearInterval(timer);\n          console.log(\"Bokeh: ERROR: Unable to run BokehJS code because BokehJS library is missing\");\n        }\n      }\n    }, 10, root)\n  }\n})(window);",
      "application/vnd.bokehjs_exec.v0+json": ""
     },
     "metadata": {
      "application/vnd.bokehjs_exec.v0+json": {
       "id": "10332"
      }
     },
     "output_type": "display_data"
    },
    {
     "data": {
      "text/html": [
       "<div style=\"display: table;\"><div style=\"display: table-row;\"><div style=\"display: table-cell;\"><b title=\"bokeh.plotting.figure.Figure\">Figure</b>(</div><div style=\"display: table-cell;\">id&nbsp;=&nbsp;'10332', <span id=\"10548\" style=\"cursor: pointer;\">&hellip;)</span></div></div><div class=\"10547\" style=\"display: none;\"><div style=\"display: table-cell;\"></div><div style=\"display: table-cell;\">above&nbsp;=&nbsp;[],</div></div><div class=\"10547\" style=\"display: none;\"><div style=\"display: table-cell;\"></div><div style=\"display: table-cell;\">align&nbsp;=&nbsp;'start',</div></div><div class=\"10547\" style=\"display: none;\"><div style=\"display: table-cell;\"></div><div style=\"display: table-cell;\">aspect_ratio&nbsp;=&nbsp;None,</div></div><div class=\"10547\" style=\"display: none;\"><div style=\"display: table-cell;\"></div><div style=\"display: table-cell;\">aspect_scale&nbsp;=&nbsp;1,</div></div><div class=\"10547\" style=\"display: none;\"><div style=\"display: table-cell;\"></div><div style=\"display: table-cell;\">background&nbsp;=&nbsp;None,</div></div><div class=\"10547\" style=\"display: none;\"><div style=\"display: table-cell;\"></div><div style=\"display: table-cell;\">background_fill_alpha&nbsp;=&nbsp;1.0,</div></div><div class=\"10547\" style=\"display: none;\"><div style=\"display: table-cell;\"></div><div style=\"display: table-cell;\">background_fill_color&nbsp;=&nbsp;'#ffffff',</div></div><div class=\"10547\" style=\"display: none;\"><div style=\"display: table-cell;\"></div><div style=\"display: table-cell;\">below&nbsp;=&nbsp;[DatetimeAxis(id='10343', ...)],</div></div><div class=\"10547\" style=\"display: none;\"><div style=\"display: table-cell;\"></div><div style=\"display: table-cell;\">border_fill_alpha&nbsp;=&nbsp;1.0,</div></div><div class=\"10547\" style=\"display: none;\"><div style=\"display: table-cell;\"></div><div style=\"display: table-cell;\">border_fill_color&nbsp;=&nbsp;'#ffffff',</div></div><div class=\"10547\" style=\"display: none;\"><div style=\"display: table-cell;\"></div><div style=\"display: table-cell;\">center&nbsp;=&nbsp;[Grid(id='10346', ...), Grid(id='10350', ...), Legend(id='10394', ...)],</div></div><div class=\"10547\" style=\"display: none;\"><div style=\"display: table-cell;\"></div><div style=\"display: table-cell;\">css_classes&nbsp;=&nbsp;[],</div></div><div class=\"10547\" style=\"display: none;\"><div style=\"display: table-cell;\"></div><div style=\"display: table-cell;\">disabled&nbsp;=&nbsp;False,</div></div><div class=\"10547\" style=\"display: none;\"><div style=\"display: table-cell;\"></div><div style=\"display: table-cell;\">extra_x_ranges&nbsp;=&nbsp;{},</div></div><div class=\"10547\" style=\"display: none;\"><div style=\"display: table-cell;\"></div><div style=\"display: table-cell;\">extra_x_scales&nbsp;=&nbsp;{},</div></div><div class=\"10547\" style=\"display: none;\"><div style=\"display: table-cell;\"></div><div style=\"display: table-cell;\">extra_y_ranges&nbsp;=&nbsp;{},</div></div><div class=\"10547\" style=\"display: none;\"><div style=\"display: table-cell;\"></div><div style=\"display: table-cell;\">extra_y_scales&nbsp;=&nbsp;{},</div></div><div class=\"10547\" style=\"display: none;\"><div style=\"display: table-cell;\"></div><div style=\"display: table-cell;\">frame_height&nbsp;=&nbsp;None,</div></div><div class=\"10547\" style=\"display: none;\"><div style=\"display: table-cell;\"></div><div style=\"display: table-cell;\">frame_width&nbsp;=&nbsp;None,</div></div><div class=\"10547\" style=\"display: none;\"><div style=\"display: table-cell;\"></div><div style=\"display: table-cell;\">height&nbsp;=&nbsp;600,</div></div><div class=\"10547\" style=\"display: none;\"><div style=\"display: table-cell;\"></div><div style=\"display: table-cell;\">height_policy&nbsp;=&nbsp;'auto',</div></div><div class=\"10547\" style=\"display: none;\"><div style=\"display: table-cell;\"></div><div style=\"display: table-cell;\">hidpi&nbsp;=&nbsp;True,</div></div><div class=\"10547\" style=\"display: none;\"><div style=\"display: table-cell;\"></div><div style=\"display: table-cell;\">inner_height&nbsp;=&nbsp;0,</div></div><div class=\"10547\" style=\"display: none;\"><div style=\"display: table-cell;\"></div><div style=\"display: table-cell;\">inner_width&nbsp;=&nbsp;0,</div></div><div class=\"10547\" style=\"display: none;\"><div style=\"display: table-cell;\"></div><div style=\"display: table-cell;\">js_event_callbacks&nbsp;=&nbsp;{},</div></div><div class=\"10547\" style=\"display: none;\"><div style=\"display: table-cell;\"></div><div style=\"display: table-cell;\">js_property_callbacks&nbsp;=&nbsp;{},</div></div><div class=\"10547\" style=\"display: none;\"><div style=\"display: table-cell;\"></div><div style=\"display: table-cell;\">left&nbsp;=&nbsp;[LinearAxis(id='10347', ...)],</div></div><div class=\"10547\" style=\"display: none;\"><div style=\"display: table-cell;\"></div><div style=\"display: table-cell;\">lod_factor&nbsp;=&nbsp;10,</div></div><div class=\"10547\" style=\"display: none;\"><div style=\"display: table-cell;\"></div><div style=\"display: table-cell;\">lod_interval&nbsp;=&nbsp;300,</div></div><div class=\"10547\" style=\"display: none;\"><div style=\"display: table-cell;\"></div><div style=\"display: table-cell;\">lod_threshold&nbsp;=&nbsp;2000,</div></div><div class=\"10547\" style=\"display: none;\"><div style=\"display: table-cell;\"></div><div style=\"display: table-cell;\">lod_timeout&nbsp;=&nbsp;500,</div></div><div class=\"10547\" style=\"display: none;\"><div style=\"display: table-cell;\"></div><div style=\"display: table-cell;\">margin&nbsp;=&nbsp;(0, 0, 0, 0),</div></div><div class=\"10547\" style=\"display: none;\"><div style=\"display: table-cell;\"></div><div style=\"display: table-cell;\">match_aspect&nbsp;=&nbsp;False,</div></div><div class=\"10547\" style=\"display: none;\"><div style=\"display: table-cell;\"></div><div style=\"display: table-cell;\">max_height&nbsp;=&nbsp;None,</div></div><div class=\"10547\" style=\"display: none;\"><div style=\"display: table-cell;\"></div><div style=\"display: table-cell;\">max_width&nbsp;=&nbsp;None,</div></div><div class=\"10547\" style=\"display: none;\"><div style=\"display: table-cell;\"></div><div style=\"display: table-cell;\">min_border&nbsp;=&nbsp;5,</div></div><div class=\"10547\" style=\"display: none;\"><div style=\"display: table-cell;\"></div><div style=\"display: table-cell;\">min_border_bottom&nbsp;=&nbsp;None,</div></div><div class=\"10547\" style=\"display: none;\"><div style=\"display: table-cell;\"></div><div style=\"display: table-cell;\">min_border_left&nbsp;=&nbsp;None,</div></div><div class=\"10547\" style=\"display: none;\"><div style=\"display: table-cell;\"></div><div style=\"display: table-cell;\">min_border_right&nbsp;=&nbsp;None,</div></div><div class=\"10547\" style=\"display: none;\"><div style=\"display: table-cell;\"></div><div style=\"display: table-cell;\">min_border_top&nbsp;=&nbsp;None,</div></div><div class=\"10547\" style=\"display: none;\"><div style=\"display: table-cell;\"></div><div style=\"display: table-cell;\">min_height&nbsp;=&nbsp;None,</div></div><div class=\"10547\" style=\"display: none;\"><div style=\"display: table-cell;\"></div><div style=\"display: table-cell;\">min_width&nbsp;=&nbsp;None,</div></div><div class=\"10547\" style=\"display: none;\"><div style=\"display: table-cell;\"></div><div style=\"display: table-cell;\">name&nbsp;=&nbsp;None,</div></div><div class=\"10547\" style=\"display: none;\"><div style=\"display: table-cell;\"></div><div style=\"display: table-cell;\">outer_height&nbsp;=&nbsp;0,</div></div><div class=\"10547\" style=\"display: none;\"><div style=\"display: table-cell;\"></div><div style=\"display: table-cell;\">outer_width&nbsp;=&nbsp;0,</div></div><div class=\"10547\" style=\"display: none;\"><div style=\"display: table-cell;\"></div><div style=\"display: table-cell;\">outline_line_alpha&nbsp;=&nbsp;1.0,</div></div><div class=\"10547\" style=\"display: none;\"><div style=\"display: table-cell;\"></div><div style=\"display: table-cell;\">outline_line_cap&nbsp;=&nbsp;'butt',</div></div><div class=\"10547\" style=\"display: none;\"><div style=\"display: table-cell;\"></div><div style=\"display: table-cell;\">outline_line_color&nbsp;=&nbsp;'#e5e5e5',</div></div><div class=\"10547\" style=\"display: none;\"><div style=\"display: table-cell;\"></div><div style=\"display: table-cell;\">outline_line_dash&nbsp;=&nbsp;[],</div></div><div class=\"10547\" style=\"display: none;\"><div style=\"display: table-cell;\"></div><div style=\"display: table-cell;\">outline_line_dash_offset&nbsp;=&nbsp;0,</div></div><div class=\"10547\" style=\"display: none;\"><div style=\"display: table-cell;\"></div><div style=\"display: table-cell;\">outline_line_join&nbsp;=&nbsp;'bevel',</div></div><div class=\"10547\" style=\"display: none;\"><div style=\"display: table-cell;\"></div><div style=\"display: table-cell;\">outline_line_width&nbsp;=&nbsp;1,</div></div><div class=\"10547\" style=\"display: none;\"><div style=\"display: table-cell;\"></div><div style=\"display: table-cell;\">output_backend&nbsp;=&nbsp;'webgl',</div></div><div class=\"10547\" style=\"display: none;\"><div style=\"display: table-cell;\"></div><div style=\"display: table-cell;\">renderers&nbsp;=&nbsp;[GlyphRenderer(id='10370', ...)],</div></div><div class=\"10547\" style=\"display: none;\"><div style=\"display: table-cell;\"></div><div style=\"display: table-cell;\">reset_policy&nbsp;=&nbsp;'standard',</div></div><div class=\"10547\" style=\"display: none;\"><div style=\"display: table-cell;\"></div><div style=\"display: table-cell;\">right&nbsp;=&nbsp;[],</div></div><div class=\"10547\" style=\"display: none;\"><div style=\"display: table-cell;\"></div><div style=\"display: table-cell;\">sizing_mode&nbsp;=&nbsp;'fixed',</div></div><div class=\"10547\" style=\"display: none;\"><div style=\"display: table-cell;\"></div><div style=\"display: table-cell;\">subscribed_events&nbsp;=&nbsp;[],</div></div><div class=\"10547\" style=\"display: none;\"><div style=\"display: table-cell;\"></div><div style=\"display: table-cell;\">syncable&nbsp;=&nbsp;True,</div></div><div class=\"10547\" style=\"display: none;\"><div style=\"display: table-cell;\"></div><div style=\"display: table-cell;\">tags&nbsp;=&nbsp;[],</div></div><div class=\"10547\" style=\"display: none;\"><div style=\"display: table-cell;\"></div><div style=\"display: table-cell;\">title&nbsp;=&nbsp;Title(id='10333', ...),</div></div><div class=\"10547\" style=\"display: none;\"><div style=\"display: table-cell;\"></div><div style=\"display: table-cell;\">title_location&nbsp;=&nbsp;'above',</div></div><div class=\"10547\" style=\"display: none;\"><div style=\"display: table-cell;\"></div><div style=\"display: table-cell;\">toolbar&nbsp;=&nbsp;Toolbar(id='10358', ...),</div></div><div class=\"10547\" style=\"display: none;\"><div style=\"display: table-cell;\"></div><div style=\"display: table-cell;\">toolbar_location&nbsp;=&nbsp;'right',</div></div><div class=\"10547\" style=\"display: none;\"><div style=\"display: table-cell;\"></div><div style=\"display: table-cell;\">toolbar_sticky&nbsp;=&nbsp;True,</div></div><div class=\"10547\" style=\"display: none;\"><div style=\"display: table-cell;\"></div><div style=\"display: table-cell;\">visible&nbsp;=&nbsp;True,</div></div><div class=\"10547\" style=\"display: none;\"><div style=\"display: table-cell;\"></div><div style=\"display: table-cell;\">width&nbsp;=&nbsp;1200,</div></div><div class=\"10547\" style=\"display: none;\"><div style=\"display: table-cell;\"></div><div style=\"display: table-cell;\">width_policy&nbsp;=&nbsp;'auto',</div></div><div class=\"10547\" style=\"display: none;\"><div style=\"display: table-cell;\"></div><div style=\"display: table-cell;\">x_range&nbsp;=&nbsp;DataRange1d(id='10335', ...),</div></div><div class=\"10547\" style=\"display: none;\"><div style=\"display: table-cell;\"></div><div style=\"display: table-cell;\">x_scale&nbsp;=&nbsp;LinearScale(id='10339', ...),</div></div><div class=\"10547\" style=\"display: none;\"><div style=\"display: table-cell;\"></div><div style=\"display: table-cell;\">y_range&nbsp;=&nbsp;DataRange1d(id='10337', ...),</div></div><div class=\"10547\" style=\"display: none;\"><div style=\"display: table-cell;\"></div><div style=\"display: table-cell;\">y_scale&nbsp;=&nbsp;LinearScale(id='10341', ...))</div></div></div>\n",
       "<script>\n",
       "(function() {\n",
       "  let expanded = false;\n",
       "  const ellipsis = document.getElementById(\"10548\");\n",
       "  ellipsis.addEventListener(\"click\", function() {\n",
       "    const rows = document.getElementsByClassName(\"10547\");\n",
       "    for (let i = 0; i < rows.length; i++) {\n",
       "      const el = rows[i];\n",
       "      el.style.display = expanded ? \"none\" : \"table-row\";\n",
       "    }\n",
       "    ellipsis.innerHTML = expanded ? \"&hellip;)\" : \"&lsaquo;&lsaquo;&lsaquo;\";\n",
       "    expanded = !expanded;\n",
       "  });\n",
       "})();\n",
       "</script>\n"
      ],
      "text/plain": [
       "Figure(id='10332', ...)"
      ]
     },
     "execution_count": 426,
     "metadata": {},
     "output_type": "execute_result"
    }
   ],
   "source": [
    "max_weekly_bitcoin_2018.plot_bokeh(figsize=(1200,600), legend=\"top_left\", ylabel=\"Weekly max\", xlabel=\"Date\", title=\"Weekly max year overview bitcoin 2017\")"
   ]
  },
  {
   "cell_type": "code",
   "execution_count": 427,
   "metadata": {},
   "outputs": [
    {
     "data": {
      "text/html": [
       "\n",
       "  <div class=\"bk-root\" id=\"15467745-ce6e-491c-b788-7b8d829ac52b\" data-root-id=\"10550\"></div>\n"
      ]
     },
     "metadata": {},
     "output_type": "display_data"
    },
    {
     "data": {
      "application/javascript": "(function(root) {\n  function embed_document(root) {\n  const docs_json = {\"d0fd31e5-4b37-428d-a1d0-bd957d9505cb\":{\"defs\":[],\"roots\":{\"references\":[{\"attributes\":{\"below\":[{\"id\":\"10559\"}],\"center\":[{\"id\":\"10562\"},{\"id\":\"10566\"}],\"left\":[{\"id\":\"10563\"}],\"renderers\":[{\"id\":\"10585\"}],\"title\":{\"id\":\"10629\"},\"toolbar\":{\"id\":\"10574\"},\"width\":1200,\"x_range\":{\"id\":\"10551\"},\"x_scale\":{\"id\":\"10555\"},\"y_range\":{\"id\":\"10553\"},\"y_scale\":{\"id\":\"10557\"}},\"id\":\"10550\",\"subtype\":\"Figure\",\"type\":\"Plot\"},{\"attributes\":{\"fill_alpha\":{\"value\":0.1},\"fill_color\":{\"value\":\"blue\"},\"hatch_alpha\":{\"value\":0.1},\"hatch_color\":{\"value\":\"blue\"},\"line_alpha\":{\"value\":0.1},\"line_color\":{\"value\":\"blue\"},\"top\":{\"field\":\"top\"},\"x\":{\"field\":\"x\"}},\"id\":\"10583\",\"type\":\"VBar\"},{\"attributes\":{\"source\":{\"id\":\"10581\"}},\"id\":\"10586\",\"type\":\"CDSView\"},{\"attributes\":{},\"id\":\"10638\",\"type\":\"Selection\"},{\"attributes\":{\"bottom_units\":\"screen\",\"coordinates\":null,\"fill_alpha\":0.5,\"fill_color\":\"lightgrey\",\"group\":null,\"left_units\":\"screen\",\"level\":\"overlay\",\"line_alpha\":1.0,\"line_color\":\"black\",\"line_dash\":[4,4],\"line_width\":2,\"right_units\":\"screen\",\"syncable\":false,\"top_units\":\"screen\"},\"id\":\"10573\",\"type\":\"BoxAnnotation\"},{\"attributes\":{},\"id\":\"10564\",\"type\":\"BasicTicker\"},{\"attributes\":{\"fill_alpha\":{\"value\":0.2},\"fill_color\":{\"value\":\"blue\"},\"hatch_alpha\":{\"value\":0.2},\"hatch_color\":{\"value\":\"blue\"},\"line_alpha\":{\"value\":0.2},\"line_color\":{\"value\":\"blue\"},\"top\":{\"field\":\"top\"},\"x\":{\"field\":\"x\"}},\"id\":\"10584\",\"type\":\"VBar\"},{\"attributes\":{\"axis\":{\"id\":\"10559\"},\"coordinates\":null,\"group\":null,\"ticker\":null},\"id\":\"10562\",\"type\":\"Grid\"},{\"attributes\":{\"coordinates\":null,\"group\":null},\"id\":\"10629\",\"type\":\"Title\"},{\"attributes\":{},\"id\":\"10568\",\"type\":\"WheelZoomTool\"},{\"attributes\":{\"coordinates\":null,\"data_source\":{\"id\":\"10581\"},\"glyph\":{\"id\":\"10582\"},\"group\":null,\"hover_glyph\":null,\"muted_glyph\":{\"id\":\"10584\"},\"nonselection_glyph\":{\"id\":\"10583\"},\"view\":{\"id\":\"10586\"}},\"id\":\"10585\",\"type\":\"GlyphRenderer\"},{\"attributes\":{},\"id\":\"10636\",\"type\":\"AllLabels\"},{\"attributes\":{},\"id\":\"10570\",\"type\":\"SaveTool\"},{\"attributes\":{},\"id\":\"10572\",\"type\":\"HelpTool\"},{\"attributes\":{},\"id\":\"10571\",\"type\":\"ResetTool\"},{\"attributes\":{},\"id\":\"10557\",\"type\":\"LinearScale\"},{\"attributes\":{},\"id\":\"10635\",\"type\":\"BasicTickFormatter\"},{\"attributes\":{},\"id\":\"10567\",\"type\":\"PanTool\"},{\"attributes\":{\"axis\":{\"id\":\"10563\"},\"coordinates\":null,\"dimension\":1,\"group\":null,\"ticker\":null},\"id\":\"10566\",\"type\":\"Grid\"},{\"attributes\":{\"fill_color\":{\"value\":\"blue\"},\"hatch_color\":{\"value\":\"blue\"},\"line_color\":{\"value\":\"blue\"},\"top\":{\"field\":\"top\"},\"x\":{\"field\":\"x\"}},\"id\":\"10582\",\"type\":\"VBar\"},{\"attributes\":{},\"id\":\"10632\",\"type\":\"BasicTickFormatter\"},{\"attributes\":{},\"id\":\"10555\",\"type\":\"LinearScale\"},{\"attributes\":{\"coordinates\":null,\"formatter\":{\"id\":\"10635\"},\"group\":null,\"major_label_policy\":{\"id\":\"10636\"},\"ticker\":{\"id\":\"10560\"}},\"id\":\"10559\",\"type\":\"LinearAxis\"},{\"attributes\":{\"coordinates\":null,\"formatter\":{\"id\":\"10632\"},\"group\":null,\"major_label_policy\":{\"id\":\"10633\"},\"ticker\":{\"id\":\"10564\"}},\"id\":\"10563\",\"type\":\"LinearAxis\"},{\"attributes\":{\"data\":{\"top\":[15932.507335720002,10889.761840000001,10804.714464,9018.28508684,9197.115683439999,7201.93197532,7854.82773888,7175.003387680001,6851.721671800001,6245.435568,6049.456832,3942.6854200000002],\"x\":[1517356800000.0,1519776000000.0,1522454400000.0,1525046400000.0,1527724800000.0,1530316800000.0,1532995200000.0,1535673600000.0,1538265600000.0,1540944000000.0,1543536000000.0,1546214400000.0]},\"selected\":{\"id\":\"10638\"},\"selection_policy\":{\"id\":\"10637\"}},\"id\":\"10581\",\"type\":\"ColumnDataSource\"},{\"attributes\":{\"overlay\":{\"id\":\"10573\"}},\"id\":\"10569\",\"type\":\"BoxZoomTool\"},{\"attributes\":{\"tools\":[{\"id\":\"10567\"},{\"id\":\"10568\"},{\"id\":\"10569\"},{\"id\":\"10570\"},{\"id\":\"10571\"},{\"id\":\"10572\"}]},\"id\":\"10574\",\"type\":\"Toolbar\"},{\"attributes\":{},\"id\":\"10637\",\"type\":\"UnionRenderers\"},{\"attributes\":{},\"id\":\"10551\",\"type\":\"DataRange1d\"},{\"attributes\":{},\"id\":\"10560\",\"type\":\"BasicTicker\"},{\"attributes\":{},\"id\":\"10553\",\"type\":\"DataRange1d\"},{\"attributes\":{},\"id\":\"10633\",\"type\":\"AllLabels\"}],\"root_ids\":[\"10550\"]},\"title\":\"Bokeh Application\",\"version\":\"2.4.3\"}};\n  const render_items = [{\"docid\":\"d0fd31e5-4b37-428d-a1d0-bd957d9505cb\",\"root_ids\":[\"10550\"],\"roots\":{\"10550\":\"15467745-ce6e-491c-b788-7b8d829ac52b\"}}];\n  root.Bokeh.embed.embed_items_notebook(docs_json, render_items);\n  }\n  if (root.Bokeh !== undefined) {\n    embed_document(root);\n  } else {\n    let attempts = 0;\n    const timer = setInterval(function(root) {\n      if (root.Bokeh !== undefined) {\n        clearInterval(timer);\n        embed_document(root);\n      } else {\n        attempts++;\n        if (attempts > 100) {\n          clearInterval(timer);\n          console.log(\"Bokeh: ERROR: Unable to run BokehJS code because BokehJS library is missing\");\n        }\n      }\n    }, 10, root)\n  }\n})(window);",
      "application/vnd.bokehjs_exec.v0+json": ""
     },
     "metadata": {
      "application/vnd.bokehjs_exec.v0+json": {
       "id": "10550"
      }
     },
     "output_type": "display_data"
    },
    {
     "data": {
      "image/png": "[encoded data removed]",
      "text/plain": [
       "<Figure size 2000x500 with 1 Axes>"
      ]
     },
     "metadata": {},
     "output_type": "display_data"
    }
   ],
   "source": [
    "from bokeh.plotting import figure, show\n",
    "\n",
    "max_monthly_bitcoin_2018.plot(kind='bar', figsize=(20, 5))\n",
    "\n",
    "# https://docs.bokeh.org/en/latest/docs/user_guide/basic/bars.html#bars\n",
    "p = figure(width=1200, height=600)\n",
    "p.vbar(x=max_monthly_bitcoin_2018.index.tolist(), top=max_monthly_bitcoin_2018.tolist(), color=\"blue\")\n",
    "show(p)"
   ]
  },
  {
   "attachments": {},
   "cell_type": "markdown",
   "metadata": {},
   "source": [
    "#### Day with max and min price in each month"
   ]
  },
  {
   "cell_type": "code",
   "execution_count": 428,
   "metadata": {},
   "outputs": [
    {
     "data": {
      "text/html": [
       "<div>\n",
       "<style scoped>\n",
       "    .dataframe tbody tr th:only-of-type {\n",
       "        vertical-align: middle;\n",
       "    }\n",
       "\n",
       "    .dataframe tbody tr th {\n",
       "        vertical-align: top;\n",
       "    }\n",
       "\n",
       "    .dataframe thead th {\n",
       "        text-align: right;\n",
       "    }\n",
       "</style>\n",
       "<table border=\"1\" class=\"dataframe\">\n",
       "  <thead>\n",
       "    <tr style=\"text-align: right;\">\n",
       "      <th></th>\n",
       "      <th>high</th>\n",
       "      <th>high</th>\n",
       "      <th>high</th>\n",
       "      <th>high</th>\n",
       "      <th>high</th>\n",
       "      <th>high</th>\n",
       "      <th>high</th>\n",
       "      <th>high</th>\n",
       "      <th>high</th>\n",
       "      <th>high</th>\n",
       "      <th>high</th>\n",
       "      <th>high</th>\n",
       "    </tr>\n",
       "    <tr>\n",
       "      <th>date</th>\n",
       "      <th></th>\n",
       "      <th></th>\n",
       "      <th></th>\n",
       "      <th></th>\n",
       "      <th></th>\n",
       "      <th></th>\n",
       "      <th></th>\n",
       "      <th></th>\n",
       "      <th></th>\n",
       "      <th></th>\n",
       "      <th></th>\n",
       "      <th></th>\n",
       "    </tr>\n",
       "  </thead>\n",
       "  <tbody>\n",
       "    <tr>\n",
       "      <th>2018-01-06</th>\n",
       "      <td>15932.507336</td>\n",
       "      <td>NaN</td>\n",
       "      <td>NaN</td>\n",
       "      <td>NaN</td>\n",
       "      <td>NaN</td>\n",
       "      <td>NaN</td>\n",
       "      <td>NaN</td>\n",
       "      <td>NaN</td>\n",
       "      <td>NaN</td>\n",
       "      <td>NaN</td>\n",
       "      <td>NaN</td>\n",
       "      <td>NaN</td>\n",
       "    </tr>\n",
       "    <tr>\n",
       "      <th>2018-02-20</th>\n",
       "      <td>NaN</td>\n",
       "      <td>10889.76184</td>\n",
       "      <td>NaN</td>\n",
       "      <td>NaN</td>\n",
       "      <td>NaN</td>\n",
       "      <td>NaN</td>\n",
       "      <td>NaN</td>\n",
       "      <td>NaN</td>\n",
       "      <td>NaN</td>\n",
       "      <td>NaN</td>\n",
       "      <td>NaN</td>\n",
       "      <td>NaN</td>\n",
       "    </tr>\n",
       "    <tr>\n",
       "      <th>2018-03-05</th>\n",
       "      <td>NaN</td>\n",
       "      <td>NaN</td>\n",
       "      <td>10804.714464</td>\n",
       "      <td>NaN</td>\n",
       "      <td>NaN</td>\n",
       "      <td>NaN</td>\n",
       "      <td>NaN</td>\n",
       "      <td>NaN</td>\n",
       "      <td>NaN</td>\n",
       "      <td>NaN</td>\n",
       "      <td>NaN</td>\n",
       "      <td>NaN</td>\n",
       "    </tr>\n",
       "    <tr>\n",
       "      <th>2018-04-25</th>\n",
       "      <td>NaN</td>\n",
       "      <td>NaN</td>\n",
       "      <td>NaN</td>\n",
       "      <td>9018.285087</td>\n",
       "      <td>NaN</td>\n",
       "      <td>NaN</td>\n",
       "      <td>NaN</td>\n",
       "      <td>NaN</td>\n",
       "      <td>NaN</td>\n",
       "      <td>NaN</td>\n",
       "      <td>NaN</td>\n",
       "      <td>NaN</td>\n",
       "    </tr>\n",
       "    <tr>\n",
       "      <th>2018-05-05</th>\n",
       "      <td>NaN</td>\n",
       "      <td>NaN</td>\n",
       "      <td>NaN</td>\n",
       "      <td>NaN</td>\n",
       "      <td>9197.115683</td>\n",
       "      <td>NaN</td>\n",
       "      <td>NaN</td>\n",
       "      <td>NaN</td>\n",
       "      <td>NaN</td>\n",
       "      <td>NaN</td>\n",
       "      <td>NaN</td>\n",
       "      <td>NaN</td>\n",
       "    </tr>\n",
       "    <tr>\n",
       "      <th>2018-06-03</th>\n",
       "      <td>NaN</td>\n",
       "      <td>NaN</td>\n",
       "      <td>NaN</td>\n",
       "      <td>NaN</td>\n",
       "      <td>NaN</td>\n",
       "      <td>7201.931975</td>\n",
       "      <td>NaN</td>\n",
       "      <td>NaN</td>\n",
       "      <td>NaN</td>\n",
       "      <td>NaN</td>\n",
       "      <td>NaN</td>\n",
       "      <td>NaN</td>\n",
       "    </tr>\n",
       "    <tr>\n",
       "      <th>2018-07-24</th>\n",
       "      <td>NaN</td>\n",
       "      <td>NaN</td>\n",
       "      <td>NaN</td>\n",
       "      <td>NaN</td>\n",
       "      <td>NaN</td>\n",
       "      <td>NaN</td>\n",
       "      <td>7854.827739</td>\n",
       "      <td>NaN</td>\n",
       "      <td>NaN</td>\n",
       "      <td>NaN</td>\n",
       "      <td>NaN</td>\n",
       "      <td>NaN</td>\n",
       "    </tr>\n",
       "    <tr>\n",
       "      <th>2018-08-01</th>\n",
       "      <td>NaN</td>\n",
       "      <td>NaN</td>\n",
       "      <td>NaN</td>\n",
       "      <td>NaN</td>\n",
       "      <td>NaN</td>\n",
       "      <td>NaN</td>\n",
       "      <td>NaN</td>\n",
       "      <td>7175.003388</td>\n",
       "      <td>NaN</td>\n",
       "      <td>NaN</td>\n",
       "      <td>NaN</td>\n",
       "      <td>NaN</td>\n",
       "    </tr>\n",
       "    <tr>\n",
       "      <th>2018-09-04</th>\n",
       "      <td>NaN</td>\n",
       "      <td>NaN</td>\n",
       "      <td>NaN</td>\n",
       "      <td>NaN</td>\n",
       "      <td>NaN</td>\n",
       "      <td>NaN</td>\n",
       "      <td>NaN</td>\n",
       "      <td>NaN</td>\n",
       "      <td>6851.721672</td>\n",
       "      <td>NaN</td>\n",
       "      <td>NaN</td>\n",
       "      <td>NaN</td>\n",
       "    </tr>\n",
       "    <tr>\n",
       "      <th>2018-10-15</th>\n",
       "      <td>NaN</td>\n",
       "      <td>NaN</td>\n",
       "      <td>NaN</td>\n",
       "      <td>NaN</td>\n",
       "      <td>NaN</td>\n",
       "      <td>NaN</td>\n",
       "      <td>NaN</td>\n",
       "      <td>NaN</td>\n",
       "      <td>NaN</td>\n",
       "      <td>6245.435568</td>\n",
       "      <td>NaN</td>\n",
       "      <td>NaN</td>\n",
       "    </tr>\n",
       "    <tr>\n",
       "      <th>2018-11-07</th>\n",
       "      <td>NaN</td>\n",
       "      <td>NaN</td>\n",
       "      <td>NaN</td>\n",
       "      <td>NaN</td>\n",
       "      <td>NaN</td>\n",
       "      <td>NaN</td>\n",
       "      <td>NaN</td>\n",
       "      <td>NaN</td>\n",
       "      <td>NaN</td>\n",
       "      <td>NaN</td>\n",
       "      <td>6049.456832</td>\n",
       "      <td>NaN</td>\n",
       "    </tr>\n",
       "    <tr>\n",
       "      <th>2018-12-02</th>\n",
       "      <td>NaN</td>\n",
       "      <td>NaN</td>\n",
       "      <td>NaN</td>\n",
       "      <td>NaN</td>\n",
       "      <td>NaN</td>\n",
       "      <td>NaN</td>\n",
       "      <td>NaN</td>\n",
       "      <td>NaN</td>\n",
       "      <td>NaN</td>\n",
       "      <td>NaN</td>\n",
       "      <td>NaN</td>\n",
       "      <td>3942.68542</td>\n",
       "    </tr>\n",
       "  </tbody>\n",
       "</table>\n",
       "</div>"
      ],
      "text/plain": [
       "                    high         high          high         high         high   \n",
       "date                                                                            \n",
       "2018-01-06  15932.507336          NaN           NaN          NaN          NaN  \\\n",
       "2018-02-20           NaN  10889.76184           NaN          NaN          NaN   \n",
       "2018-03-05           NaN          NaN  10804.714464          NaN          NaN   \n",
       "2018-04-25           NaN          NaN           NaN  9018.285087          NaN   \n",
       "2018-05-05           NaN          NaN           NaN          NaN  9197.115683   \n",
       "2018-06-03           NaN          NaN           NaN          NaN          NaN   \n",
       "2018-07-24           NaN          NaN           NaN          NaN          NaN   \n",
       "2018-08-01           NaN          NaN           NaN          NaN          NaN   \n",
       "2018-09-04           NaN          NaN           NaN          NaN          NaN   \n",
       "2018-10-15           NaN          NaN           NaN          NaN          NaN   \n",
       "2018-11-07           NaN          NaN           NaN          NaN          NaN   \n",
       "2018-12-02           NaN          NaN           NaN          NaN          NaN   \n",
       "\n",
       "                   high         high         high         high         high   \n",
       "date                                                                          \n",
       "2018-01-06          NaN          NaN          NaN          NaN          NaN  \\\n",
       "2018-02-20          NaN          NaN          NaN          NaN          NaN   \n",
       "2018-03-05          NaN          NaN          NaN          NaN          NaN   \n",
       "2018-04-25          NaN          NaN          NaN          NaN          NaN   \n",
       "2018-05-05          NaN          NaN          NaN          NaN          NaN   \n",
       "2018-06-03  7201.931975          NaN          NaN          NaN          NaN   \n",
       "2018-07-24          NaN  7854.827739          NaN          NaN          NaN   \n",
       "2018-08-01          NaN          NaN  7175.003388          NaN          NaN   \n",
       "2018-09-04          NaN          NaN          NaN  6851.721672          NaN   \n",
       "2018-10-15          NaN          NaN          NaN          NaN  6245.435568   \n",
       "2018-11-07          NaN          NaN          NaN          NaN          NaN   \n",
       "2018-12-02          NaN          NaN          NaN          NaN          NaN   \n",
       "\n",
       "                   high        high  \n",
       "date                                 \n",
       "2018-01-06          NaN         NaN  \n",
       "2018-02-20          NaN         NaN  \n",
       "2018-03-05          NaN         NaN  \n",
       "2018-04-25          NaN         NaN  \n",
       "2018-05-05          NaN         NaN  \n",
       "2018-06-03          NaN         NaN  \n",
       "2018-07-24          NaN         NaN  \n",
       "2018-08-01          NaN         NaN  \n",
       "2018-09-04          NaN         NaN  \n",
       "2018-10-15          NaN         NaN  \n",
       "2018-11-07  6049.456832         NaN  \n",
       "2018-12-02          NaN  3942.68542  "
      ]
     },
     "execution_count": 428,
     "metadata": {},
     "output_type": "execute_result"
    }
   ],
   "source": [
    "monthly_max_bitcoin_2018 = bitcoin_2018['high'].resample('M').max()\n",
    "\n",
    "maxDaily = []\n",
    "for col in monthly_max_bitcoin_2018:\n",
    "    maxDaily.append(max_daily_bitcoin_2018[max_daily_bitcoin_2018 == col])\n",
    "    \n",
    "pd.DataFrame(maxDaily).transpose()"
   ]
  },
  {
   "cell_type": "code",
   "execution_count": 429,
   "metadata": {},
   "outputs": [
    {
     "data": {
      "text/html": [
       "<div>\n",
       "<style scoped>\n",
       "    .dataframe tbody tr th:only-of-type {\n",
       "        vertical-align: middle;\n",
       "    }\n",
       "\n",
       "    .dataframe tbody tr th {\n",
       "        vertical-align: top;\n",
       "    }\n",
       "\n",
       "    .dataframe thead th {\n",
       "        text-align: right;\n",
       "    }\n",
       "</style>\n",
       "<table border=\"1\" class=\"dataframe\">\n",
       "  <thead>\n",
       "    <tr style=\"text-align: right;\">\n",
       "      <th></th>\n",
       "      <th>high</th>\n",
       "      <th>high</th>\n",
       "      <th>high</th>\n",
       "      <th>high</th>\n",
       "      <th>high</th>\n",
       "      <th>high</th>\n",
       "      <th>high</th>\n",
       "      <th>high</th>\n",
       "      <th>high</th>\n",
       "      <th>high</th>\n",
       "      <th>high</th>\n",
       "      <th>high</th>\n",
       "    </tr>\n",
       "    <tr>\n",
       "      <th>date</th>\n",
       "      <th></th>\n",
       "      <th></th>\n",
       "      <th></th>\n",
       "      <th></th>\n",
       "      <th></th>\n",
       "      <th></th>\n",
       "      <th></th>\n",
       "      <th></th>\n",
       "      <th></th>\n",
       "      <th></th>\n",
       "      <th></th>\n",
       "      <th></th>\n",
       "    </tr>\n",
       "  </thead>\n",
       "  <tbody>\n",
       "    <tr>\n",
       "      <th>2018-01-17</th>\n",
       "      <td>8578.996901</td>\n",
       "      <td>NaN</td>\n",
       "      <td>NaN</td>\n",
       "      <td>NaN</td>\n",
       "      <td>NaN</td>\n",
       "      <td>NaN</td>\n",
       "      <td>NaN</td>\n",
       "      <td>NaN</td>\n",
       "      <td>NaN</td>\n",
       "      <td>NaN</td>\n",
       "      <td>NaN</td>\n",
       "      <td>NaN</td>\n",
       "    </tr>\n",
       "    <tr>\n",
       "      <th>2018-02-06</th>\n",
       "      <td>NaN</td>\n",
       "      <td>5523.512766</td>\n",
       "      <td>NaN</td>\n",
       "      <td>NaN</td>\n",
       "      <td>NaN</td>\n",
       "      <td>NaN</td>\n",
       "      <td>NaN</td>\n",
       "      <td>NaN</td>\n",
       "      <td>NaN</td>\n",
       "      <td>NaN</td>\n",
       "      <td>NaN</td>\n",
       "      <td>NaN</td>\n",
       "    </tr>\n",
       "    <tr>\n",
       "      <th>2018-03-30</th>\n",
       "      <td>NaN</td>\n",
       "      <td>NaN</td>\n",
       "      <td>6101.2248</td>\n",
       "      <td>NaN</td>\n",
       "      <td>NaN</td>\n",
       "      <td>NaN</td>\n",
       "      <td>NaN</td>\n",
       "      <td>NaN</td>\n",
       "      <td>NaN</td>\n",
       "      <td>NaN</td>\n",
       "      <td>NaN</td>\n",
       "      <td>NaN</td>\n",
       "    </tr>\n",
       "    <tr>\n",
       "      <th>2018-04-01</th>\n",
       "      <td>NaN</td>\n",
       "      <td>NaN</td>\n",
       "      <td>NaN</td>\n",
       "      <td>5952.60451</td>\n",
       "      <td>NaN</td>\n",
       "      <td>NaN</td>\n",
       "      <td>NaN</td>\n",
       "      <td>NaN</td>\n",
       "      <td>NaN</td>\n",
       "      <td>NaN</td>\n",
       "      <td>NaN</td>\n",
       "      <td>NaN</td>\n",
       "    </tr>\n",
       "    <tr>\n",
       "      <th>2018-05-29</th>\n",
       "      <td>NaN</td>\n",
       "      <td>NaN</td>\n",
       "      <td>NaN</td>\n",
       "      <td>NaN</td>\n",
       "      <td>6533.154539</td>\n",
       "      <td>NaN</td>\n",
       "      <td>NaN</td>\n",
       "      <td>NaN</td>\n",
       "      <td>NaN</td>\n",
       "      <td>NaN</td>\n",
       "      <td>NaN</td>\n",
       "      <td>NaN</td>\n",
       "    </tr>\n",
       "    <tr>\n",
       "      <th>2018-06-24</th>\n",
       "      <td>NaN</td>\n",
       "      <td>NaN</td>\n",
       "      <td>NaN</td>\n",
       "      <td>NaN</td>\n",
       "      <td>NaN</td>\n",
       "      <td>5360.600819</td>\n",
       "      <td>NaN</td>\n",
       "      <td>NaN</td>\n",
       "      <td>NaN</td>\n",
       "      <td>NaN</td>\n",
       "      <td>NaN</td>\n",
       "      <td>NaN</td>\n",
       "    </tr>\n",
       "    <tr>\n",
       "      <th>2018-07-12</th>\n",
       "      <td>NaN</td>\n",
       "      <td>NaN</td>\n",
       "      <td>NaN</td>\n",
       "      <td>NaN</td>\n",
       "      <td>NaN</td>\n",
       "      <td>NaN</td>\n",
       "      <td>5644.612834</td>\n",
       "      <td>NaN</td>\n",
       "      <td>NaN</td>\n",
       "      <td>NaN</td>\n",
       "      <td>NaN</td>\n",
       "      <td>NaN</td>\n",
       "    </tr>\n",
       "    <tr>\n",
       "      <th>2018-08-14</th>\n",
       "      <td>NaN</td>\n",
       "      <td>NaN</td>\n",
       "      <td>NaN</td>\n",
       "      <td>NaN</td>\n",
       "      <td>NaN</td>\n",
       "      <td>NaN</td>\n",
       "      <td>NaN</td>\n",
       "      <td>5457.841401</td>\n",
       "      <td>NaN</td>\n",
       "      <td>NaN</td>\n",
       "      <td>NaN</td>\n",
       "      <td>NaN</td>\n",
       "    </tr>\n",
       "    <tr>\n",
       "      <th>2018-09-08</th>\n",
       "      <td>NaN</td>\n",
       "      <td>NaN</td>\n",
       "      <td>NaN</td>\n",
       "      <td>NaN</td>\n",
       "      <td>NaN</td>\n",
       "      <td>NaN</td>\n",
       "      <td>NaN</td>\n",
       "      <td>NaN</td>\n",
       "      <td>5674.028133</td>\n",
       "      <td>NaN</td>\n",
       "      <td>NaN</td>\n",
       "      <td>NaN</td>\n",
       "    </tr>\n",
       "    <tr>\n",
       "      <th>2018-10-11</th>\n",
       "      <td>NaN</td>\n",
       "      <td>NaN</td>\n",
       "      <td>NaN</td>\n",
       "      <td>NaN</td>\n",
       "      <td>NaN</td>\n",
       "      <td>NaN</td>\n",
       "      <td>NaN</td>\n",
       "      <td>NaN</td>\n",
       "      <td>NaN</td>\n",
       "      <td>5642.680779</td>\n",
       "      <td>NaN</td>\n",
       "      <td>NaN</td>\n",
       "    </tr>\n",
       "    <tr>\n",
       "      <th>2018-11-25</th>\n",
       "      <td>NaN</td>\n",
       "      <td>NaN</td>\n",
       "      <td>NaN</td>\n",
       "      <td>NaN</td>\n",
       "      <td>NaN</td>\n",
       "      <td>NaN</td>\n",
       "      <td>NaN</td>\n",
       "      <td>NaN</td>\n",
       "      <td>NaN</td>\n",
       "      <td>NaN</td>\n",
       "      <td>3216.916997</td>\n",
       "      <td>NaN</td>\n",
       "    </tr>\n",
       "    <tr>\n",
       "      <th>2018-12-15</th>\n",
       "      <td>NaN</td>\n",
       "      <td>NaN</td>\n",
       "      <td>NaN</td>\n",
       "      <td>NaN</td>\n",
       "      <td>NaN</td>\n",
       "      <td>NaN</td>\n",
       "      <td>NaN</td>\n",
       "      <td>NaN</td>\n",
       "      <td>NaN</td>\n",
       "      <td>NaN</td>\n",
       "      <td>NaN</td>\n",
       "      <td>2895.179076</td>\n",
       "    </tr>\n",
       "  </tbody>\n",
       "</table>\n",
       "</div>"
      ],
      "text/plain": [
       "                   high         high       high        high         high   \n",
       "date                                                                       \n",
       "2018-01-17  8578.996901          NaN        NaN         NaN          NaN  \\\n",
       "2018-02-06          NaN  5523.512766        NaN         NaN          NaN   \n",
       "2018-03-30          NaN          NaN  6101.2248         NaN          NaN   \n",
       "2018-04-01          NaN          NaN        NaN  5952.60451          NaN   \n",
       "2018-05-29          NaN          NaN        NaN         NaN  6533.154539   \n",
       "2018-06-24          NaN          NaN        NaN         NaN          NaN   \n",
       "2018-07-12          NaN          NaN        NaN         NaN          NaN   \n",
       "2018-08-14          NaN          NaN        NaN         NaN          NaN   \n",
       "2018-09-08          NaN          NaN        NaN         NaN          NaN   \n",
       "2018-10-11          NaN          NaN        NaN         NaN          NaN   \n",
       "2018-11-25          NaN          NaN        NaN         NaN          NaN   \n",
       "2018-12-15          NaN          NaN        NaN         NaN          NaN   \n",
       "\n",
       "                   high         high         high         high         high   \n",
       "date                                                                          \n",
       "2018-01-17          NaN          NaN          NaN          NaN          NaN  \\\n",
       "2018-02-06          NaN          NaN          NaN          NaN          NaN   \n",
       "2018-03-30          NaN          NaN          NaN          NaN          NaN   \n",
       "2018-04-01          NaN          NaN          NaN          NaN          NaN   \n",
       "2018-05-29          NaN          NaN          NaN          NaN          NaN   \n",
       "2018-06-24  5360.600819          NaN          NaN          NaN          NaN   \n",
       "2018-07-12          NaN  5644.612834          NaN          NaN          NaN   \n",
       "2018-08-14          NaN          NaN  5457.841401          NaN          NaN   \n",
       "2018-09-08          NaN          NaN          NaN  5674.028133          NaN   \n",
       "2018-10-11          NaN          NaN          NaN          NaN  5642.680779   \n",
       "2018-11-25          NaN          NaN          NaN          NaN          NaN   \n",
       "2018-12-15          NaN          NaN          NaN          NaN          NaN   \n",
       "\n",
       "                   high         high  \n",
       "date                                  \n",
       "2018-01-17          NaN          NaN  \n",
       "2018-02-06          NaN          NaN  \n",
       "2018-03-30          NaN          NaN  \n",
       "2018-04-01          NaN          NaN  \n",
       "2018-05-29          NaN          NaN  \n",
       "2018-06-24          NaN          NaN  \n",
       "2018-07-12          NaN          NaN  \n",
       "2018-08-14          NaN          NaN  \n",
       "2018-09-08          NaN          NaN  \n",
       "2018-10-11          NaN          NaN  \n",
       "2018-11-25  3216.916997          NaN  \n",
       "2018-12-15          NaN  2895.179076  "
      ]
     },
     "execution_count": 429,
     "metadata": {},
     "output_type": "execute_result"
    }
   ],
   "source": [
    "monthly_min_bitcoin_2018 = bitcoin_2018['high'].resample('M').min()\n",
    "min_daily_bitcoin_2018 = bitcoin_2018['high'].resample('D').min()\n",
    "\n",
    "minDaily = []\n",
    "for col in monthly_min_bitcoin_2018:\n",
    "    minDaily.append(min_daily_bitcoin_2018[min_daily_bitcoin_2018 == col])\n",
    "    \n",
    "pd.DataFrame(minDaily).transpose()"
   ]
  },
  {
   "attachments": {},
   "cell_type": "markdown",
   "metadata": {},
   "source": [
    "## External data\n",
    "---"
   ]
  },
  {
   "attachments": {},
   "cell_type": "markdown",
   "metadata": {},
   "source": [
    "#### Loading ethereum dataset"
   ]
  },
  {
   "cell_type": "code",
   "execution_count": 430,
   "metadata": {},
   "outputs": [
    {
     "data": {
      "text/html": [
       "<div>\n",
       "<style scoped>\n",
       "    .dataframe tbody tr th:only-of-type {\n",
       "        vertical-align: middle;\n",
       "    }\n",
       "\n",
       "    .dataframe tbody tr th {\n",
       "        vertical-align: top;\n",
       "    }\n",
       "\n",
       "    .dataframe thead th {\n",
       "        text-align: right;\n",
       "    }\n",
       "</style>\n",
       "<table border=\"1\" class=\"dataframe\">\n",
       "  <thead>\n",
       "    <tr style=\"text-align: right;\">\n",
       "      <th></th>\n",
       "      <th>Date</th>\n",
       "      <th>Open</th>\n",
       "      <th>High</th>\n",
       "      <th>Low</th>\n",
       "      <th>Close</th>\n",
       "      <th>Adj Close</th>\n",
       "      <th>Volume</th>\n",
       "    </tr>\n",
       "  </thead>\n",
       "  <tbody>\n",
       "    <tr>\n",
       "      <th>0</th>\n",
       "      <td>2017-11-09</td>\n",
       "      <td>308.644989</td>\n",
       "      <td>329.451996</td>\n",
       "      <td>307.056000</td>\n",
       "      <td>320.884003</td>\n",
       "      <td>320.884003</td>\n",
       "      <td>893249984</td>\n",
       "    </tr>\n",
       "    <tr>\n",
       "      <th>1</th>\n",
       "      <td>2017-11-10</td>\n",
       "      <td>320.670990</td>\n",
       "      <td>324.717987</td>\n",
       "      <td>294.541992</td>\n",
       "      <td>299.252991</td>\n",
       "      <td>299.252991</td>\n",
       "      <td>885985984</td>\n",
       "    </tr>\n",
       "    <tr>\n",
       "      <th>2</th>\n",
       "      <td>2017-11-11</td>\n",
       "      <td>298.585999</td>\n",
       "      <td>319.453003</td>\n",
       "      <td>298.191986</td>\n",
       "      <td>314.681000</td>\n",
       "      <td>314.681000</td>\n",
       "      <td>842300992</td>\n",
       "    </tr>\n",
       "    <tr>\n",
       "      <th>3</th>\n",
       "      <td>2017-11-12</td>\n",
       "      <td>314.690002</td>\n",
       "      <td>319.153015</td>\n",
       "      <td>298.513000</td>\n",
       "      <td>307.907990</td>\n",
       "      <td>307.907990</td>\n",
       "      <td>1613479936</td>\n",
       "    </tr>\n",
       "    <tr>\n",
       "      <th>4</th>\n",
       "      <td>2017-11-13</td>\n",
       "      <td>307.024994</td>\n",
       "      <td>328.415009</td>\n",
       "      <td>307.024994</td>\n",
       "      <td>316.716003</td>\n",
       "      <td>316.716003</td>\n",
       "      <td>1041889984</td>\n",
       "    </tr>\n",
       "  </tbody>\n",
       "</table>\n",
       "</div>"
      ],
      "text/plain": [
       "         Date        Open        High         Low       Close   Adj Close   \n",
       "0  2017-11-09  308.644989  329.451996  307.056000  320.884003  320.884003  \\\n",
       "1  2017-11-10  320.670990  324.717987  294.541992  299.252991  299.252991   \n",
       "2  2017-11-11  298.585999  319.453003  298.191986  314.681000  314.681000   \n",
       "3  2017-11-12  314.690002  319.153015  298.513000  307.907990  307.907990   \n",
       "4  2017-11-13  307.024994  328.415009  307.024994  316.716003  316.716003   \n",
       "\n",
       "       Volume  \n",
       "0   893249984  \n",
       "1   885985984  \n",
       "2   842300992  \n",
       "3  1613479936  \n",
       "4  1041889984  "
      ]
     },
     "execution_count": 430,
     "metadata": {},
     "output_type": "execute_result"
    }
   ],
   "source": [
    "ethereum_dataset = pd.read_csv(\"datasets/ETH-USD.csv\")\n",
    "ethereum_dataset.head()"
   ]
  },
  {
   "attachments": {},
   "cell_type": "markdown",
   "metadata": {},
   "source": [
    "#### Remove unecessary columns"
   ]
  },
  {
   "cell_type": "code",
   "execution_count": 431,
   "metadata": {},
   "outputs": [],
   "source": [
    "ethereum_dataset = ethereum_dataset.drop(['Adj Close'], axis = 1)"
   ]
  },
  {
   "attachments": {},
   "cell_type": "markdown",
   "metadata": {},
   "source": [
    "#### Rename columns"
   ]
  },
  {
   "cell_type": "code",
   "execution_count": 432,
   "metadata": {},
   "outputs": [],
   "source": [
    "ethereum_dataset.rename(columns = {'Date': 'date', 'Open': 'open', 'High': 'high', 'Low': 'low', 'Close': 'close', 'Volume': 'ethereum' }, inplace = True)"
   ]
  },
  {
   "attachments": {},
   "cell_type": "markdown",
   "metadata": {},
   "source": [
    "#### Index by date"
   ]
  },
  {
   "cell_type": "code",
   "execution_count": 433,
   "metadata": {},
   "outputs": [],
   "source": [
    "ethereum_dataset['date'] = pd.to_datetime(ethereum_dataset['date'])\n",
    "ethereum_dataset = ethereum_dataset.set_index('date')"
   ]
  },
  {
   "cell_type": "code",
   "execution_count": 434,
   "metadata": {},
   "outputs": [],
   "source": [
    "ethereum_2018 = ethereum_dataset.loc[(ethereum_dataset.index >= '2018-01-01') & (ethereum_dataset.index <= '2018-12-31')].copy()"
   ]
  },
  {
   "attachments": {},
   "cell_type": "markdown",
   "metadata": {},
   "source": [
    "#### Convert USD columns to Euro (1 USD = 0.924428 EUR)"
   ]
  },
  {
   "cell_type": "code",
   "execution_count": 435,
   "metadata": {},
   "outputs": [],
   "source": [
    "ethereum_2018['open'] = ethereum_2018['open'] * 0.924428\n",
    "ethereum_2018['close'] = ethereum_2018['close'] * 0.924428\n",
    "ethereum_2018['high'] = ethereum_2018['high'] * 0.924428\n",
    "ethereum_2018['low'] = ethereum_2018['low'] * 0.924428"
   ]
  },
  {
   "attachments": {},
   "cell_type": "markdown",
   "metadata": {},
   "source": [
    "#### Aggregate bitcoin and ethereum data and remove unused columns "
   ]
  },
  {
   "cell_type": "code",
   "execution_count": 436,
   "metadata": {},
   "outputs": [],
   "source": [
    "bitcoin_2018 = bitcoin_2018.drop(['open', 'low', 'close', 'euro'], axis = 1)\n",
    "bitcoin_2018.rename(columns = {'high': 'bitcoin price', 'bitcoin': 'bitcoin volume'}, inplace = True)"
   ]
  },
  {
   "cell_type": "code",
   "execution_count": 437,
   "metadata": {},
   "outputs": [],
   "source": [
    "# Add new bitcoin total price column (euro)\n",
    "bitcoin_2018['bitcoin total price'] = bitcoin_2018['bitcoin price'] * bitcoin_2018['bitcoin volume']"
   ]
  },
  {
   "cell_type": "code",
   "execution_count": 438,
   "metadata": {},
   "outputs": [],
   "source": [
    "# Get last row for group\n",
    "bitcoin_2018 = bitcoin_2018.resample('D').apply(lambda x : x.iloc[-1])"
   ]
  },
  {
   "cell_type": "code",
   "execution_count": 439,
   "metadata": {},
   "outputs": [],
   "source": [
    "ethereum_2018 = ethereum_2018.drop(['open', 'low', 'close'], axis = 1)\n",
    "ethereum_2018.rename(columns = {'high': 'ethereum price', 'ethereum': 'ethereum volume'}, inplace = True)"
   ]
  },
  {
   "cell_type": "code",
   "execution_count": 440,
   "metadata": {},
   "outputs": [],
   "source": [
    "# Add new ethereum total price column (euro)\n",
    "ethereum_2018['ethereum total price'] = ethereum_2018['ethereum price'] * ethereum_2018['ethereum volume']"
   ]
  },
  {
   "cell_type": "code",
   "execution_count": 441,
   "metadata": {},
   "outputs": [
    {
     "data": {
      "text/html": [
       "<div>\n",
       "<style scoped>\n",
       "    .dataframe tbody tr th:only-of-type {\n",
       "        vertical-align: middle;\n",
       "    }\n",
       "\n",
       "    .dataframe tbody tr th {\n",
       "        vertical-align: top;\n",
       "    }\n",
       "\n",
       "    .dataframe thead th {\n",
       "        text-align: right;\n",
       "    }\n",
       "</style>\n",
       "<table border=\"1\" class=\"dataframe\">\n",
       "  <thead>\n",
       "    <tr style=\"text-align: right;\">\n",
       "      <th></th>\n",
       "      <th>ethereum price</th>\n",
       "      <th>ethereum volume</th>\n",
       "      <th>ethereum total price</th>\n",
       "    </tr>\n",
       "    <tr>\n",
       "      <th>date</th>\n",
       "      <th></th>\n",
       "      <th></th>\n",
       "      <th></th>\n",
       "    </tr>\n",
       "  </thead>\n",
       "  <tbody>\n",
       "    <tr>\n",
       "      <th>2018-01-01</th>\n",
       "      <td>723.392670</td>\n",
       "      <td>2595760128</td>\n",
       "      <td>1.877754e+12</td>\n",
       "    </tr>\n",
       "    <tr>\n",
       "      <th>2018-01-02</th>\n",
       "      <td>845.694483</td>\n",
       "      <td>5783349760</td>\n",
       "      <td>4.890947e+12</td>\n",
       "    </tr>\n",
       "    <tr>\n",
       "      <th>2018-01-03</th>\n",
       "      <td>900.828285</td>\n",
       "      <td>5093159936</td>\n",
       "      <td>4.588063e+12</td>\n",
       "    </tr>\n",
       "    <tr>\n",
       "      <th>2018-01-04</th>\n",
       "      <td>966.101174</td>\n",
       "      <td>6502859776</td>\n",
       "      <td>6.282420e+12</td>\n",
       "    </tr>\n",
       "    <tr>\n",
       "      <th>2018-01-05</th>\n",
       "      <td>994.120641</td>\n",
       "      <td>6683149824</td>\n",
       "      <td>6.643857e+12</td>\n",
       "    </tr>\n",
       "    <tr>\n",
       "      <th>...</th>\n",
       "      <td>...</td>\n",
       "      <td>...</td>\n",
       "      <td>...</td>\n",
       "    </tr>\n",
       "    <tr>\n",
       "      <th>2018-12-27</th>\n",
       "      <td>122.650392</td>\n",
       "      <td>2612804378</td>\n",
       "      <td>3.204615e+11</td>\n",
       "    </tr>\n",
       "    <tr>\n",
       "      <th>2018-12-28</th>\n",
       "      <td>127.244758</td>\n",
       "      <td>3130201009</td>\n",
       "      <td>3.983017e+11</td>\n",
       "    </tr>\n",
       "    <tr>\n",
       "      <th>2018-12-29</th>\n",
       "      <td>135.922653</td>\n",
       "      <td>3169029972</td>\n",
       "      <td>4.307430e+11</td>\n",
       "    </tr>\n",
       "    <tr>\n",
       "      <th>2018-12-30</th>\n",
       "      <td>130.056931</td>\n",
       "      <td>2660086834</td>\n",
       "      <td>3.459627e+11</td>\n",
       "    </tr>\n",
       "    <tr>\n",
       "      <th>2018-12-31</th>\n",
       "      <td>129.587382</td>\n",
       "      <td>2358360234</td>\n",
       "      <td>3.056137e+11</td>\n",
       "    </tr>\n",
       "  </tbody>\n",
       "</table>\n",
       "<p>365 rows × 3 columns</p>\n",
       "</div>"
      ],
      "text/plain": [
       "            ethereum price  ethereum volume  ethereum total price\n",
       "date                                                             \n",
       "2018-01-01      723.392670       2595760128          1.877754e+12\n",
       "2018-01-02      845.694483       5783349760          4.890947e+12\n",
       "2018-01-03      900.828285       5093159936          4.588063e+12\n",
       "2018-01-04      966.101174       6502859776          6.282420e+12\n",
       "2018-01-05      994.120641       6683149824          6.643857e+12\n",
       "...                    ...              ...                   ...\n",
       "2018-12-27      122.650392       2612804378          3.204615e+11\n",
       "2018-12-28      127.244758       3130201009          3.983017e+11\n",
       "2018-12-29      135.922653       3169029972          4.307430e+11\n",
       "2018-12-30      130.056931       2660086834          3.459627e+11\n",
       "2018-12-31      129.587382       2358360234          3.056137e+11\n",
       "\n",
       "[365 rows x 3 columns]"
      ]
     },
     "execution_count": 441,
     "metadata": {},
     "output_type": "execute_result"
    }
   ],
   "source": [
    "ethereum_2018"
   ]
  },
  {
   "cell_type": "code",
   "execution_count": 448,
   "metadata": {},
   "outputs": [
    {
     "data": {
      "text/html": [
       "<div>\n",
       "<style scoped>\n",
       "    .dataframe tbody tr th:only-of-type {\n",
       "        vertical-align: middle;\n",
       "    }\n",
       "\n",
       "    .dataframe tbody tr th {\n",
       "        vertical-align: top;\n",
       "    }\n",
       "\n",
       "    .dataframe thead th {\n",
       "        text-align: right;\n",
       "    }\n",
       "</style>\n",
       "<table border=\"1\" class=\"dataframe\">\n",
       "  <thead>\n",
       "    <tr style=\"text-align: right;\">\n",
       "      <th></th>\n",
       "      <th>bitcoin price</th>\n",
       "      <th>bitcoin volume</th>\n",
       "      <th>bitcoin total price</th>\n",
       "      <th>ethereum price</th>\n",
       "      <th>ethereum volume</th>\n",
       "      <th>ethereum total price</th>\n",
       "    </tr>\n",
       "    <tr>\n",
       "      <th>date</th>\n",
       "      <th></th>\n",
       "      <th></th>\n",
       "      <th></th>\n",
       "      <th></th>\n",
       "      <th></th>\n",
       "      <th></th>\n",
       "    </tr>\n",
       "  </thead>\n",
       "  <tbody>\n",
       "    <tr>\n",
       "      <th>2018-01-01</th>\n",
       "      <td>12427.83</td>\n",
       "      <td>7.75</td>\n",
       "      <td>96373.33</td>\n",
       "      <td>723.39</td>\n",
       "      <td>2595760128</td>\n",
       "      <td>1.877754e+12</td>\n",
       "    </tr>\n",
       "    <tr>\n",
       "      <th>2018-01-02</th>\n",
       "      <td>13575.23</td>\n",
       "      <td>126.69</td>\n",
       "      <td>1719797.42</td>\n",
       "      <td>845.69</td>\n",
       "      <td>5783349760</td>\n",
       "      <td>4.890947e+12</td>\n",
       "    </tr>\n",
       "    <tr>\n",
       "      <th>2018-01-03</th>\n",
       "      <td>14024.05</td>\n",
       "      <td>6.23</td>\n",
       "      <td>87379.37</td>\n",
       "      <td>900.83</td>\n",
       "      <td>5093159936</td>\n",
       "      <td>4.588063e+12</td>\n",
       "    </tr>\n",
       "    <tr>\n",
       "      <th>2018-01-04</th>\n",
       "      <td>14014.32</td>\n",
       "      <td>1.34</td>\n",
       "      <td>18742.40</td>\n",
       "      <td>966.10</td>\n",
       "      <td>6502859776</td>\n",
       "      <td>6.282420e+12</td>\n",
       "    </tr>\n",
       "    <tr>\n",
       "      <th>2018-01-05</th>\n",
       "      <td>15650.57</td>\n",
       "      <td>5.50</td>\n",
       "      <td>86112.26</td>\n",
       "      <td>994.12</td>\n",
       "      <td>6683149824</td>\n",
       "      <td>6.643857e+12</td>\n",
       "    </tr>\n",
       "    <tr>\n",
       "      <th>...</th>\n",
       "      <td>...</td>\n",
       "      <td>...</td>\n",
       "      <td>...</td>\n",
       "      <td>...</td>\n",
       "      <td>...</td>\n",
       "      <td>...</td>\n",
       "    </tr>\n",
       "    <tr>\n",
       "      <th>2018-12-27</th>\n",
       "      <td>3320.26</td>\n",
       "      <td>1.75</td>\n",
       "      <td>5796.58</td>\n",
       "      <td>122.65</td>\n",
       "      <td>2612804378</td>\n",
       "      <td>3.204615e+11</td>\n",
       "    </tr>\n",
       "    <tr>\n",
       "      <th>2018-12-28</th>\n",
       "      <td>3593.09</td>\n",
       "      <td>5.68</td>\n",
       "      <td>20394.90</td>\n",
       "      <td>127.24</td>\n",
       "      <td>3130201009</td>\n",
       "      <td>3.983017e+11</td>\n",
       "    </tr>\n",
       "    <tr>\n",
       "      <th>2018-12-29</th>\n",
       "      <td>3443.94</td>\n",
       "      <td>9.74</td>\n",
       "      <td>33543.73</td>\n",
       "      <td>135.92</td>\n",
       "      <td>3169029972</td>\n",
       "      <td>4.307430e+11</td>\n",
       "    </tr>\n",
       "    <tr>\n",
       "      <th>2018-12-30</th>\n",
       "      <td>3545.91</td>\n",
       "      <td>2.00</td>\n",
       "      <td>7090.18</td>\n",
       "      <td>130.06</td>\n",
       "      <td>2660086834</td>\n",
       "      <td>3.459627e+11</td>\n",
       "    </tr>\n",
       "    <tr>\n",
       "      <th>2018-12-31</th>\n",
       "      <td>3414.19</td>\n",
       "      <td>9.84</td>\n",
       "      <td>33591.72</td>\n",
       "      <td>129.59</td>\n",
       "      <td>2358360234</td>\n",
       "      <td>3.056137e+11</td>\n",
       "    </tr>\n",
       "  </tbody>\n",
       "</table>\n",
       "<p>365 rows × 6 columns</p>\n",
       "</div>"
      ],
      "text/plain": [
       "            bitcoin price  bitcoin volume  bitcoin total price   \n",
       "date                                                             \n",
       "2018-01-01       12427.83            7.75             96373.33  \\\n",
       "2018-01-02       13575.23          126.69           1719797.42   \n",
       "2018-01-03       14024.05            6.23             87379.37   \n",
       "2018-01-04       14014.32            1.34             18742.40   \n",
       "2018-01-05       15650.57            5.50             86112.26   \n",
       "...                   ...             ...                  ...   \n",
       "2018-12-27        3320.26            1.75              5796.58   \n",
       "2018-12-28        3593.09            5.68             20394.90   \n",
       "2018-12-29        3443.94            9.74             33543.73   \n",
       "2018-12-30        3545.91            2.00              7090.18   \n",
       "2018-12-31        3414.19            9.84             33591.72   \n",
       "\n",
       "            ethereum price  ethereum volume  ethereum total price  \n",
       "date                                                               \n",
       "2018-01-01          723.39       2595760128          1.877754e+12  \n",
       "2018-01-02          845.69       5783349760          4.890947e+12  \n",
       "2018-01-03          900.83       5093159936          4.588063e+12  \n",
       "2018-01-04          966.10       6502859776          6.282420e+12  \n",
       "2018-01-05          994.12       6683149824          6.643857e+12  \n",
       "...                    ...              ...                   ...  \n",
       "2018-12-27          122.65       2612804378          3.204615e+11  \n",
       "2018-12-28          127.24       3130201009          3.983017e+11  \n",
       "2018-12-29          135.92       3169029972          4.307430e+11  \n",
       "2018-12-30          130.06       2660086834          3.459627e+11  \n",
       "2018-12-31          129.59       2358360234          3.056137e+11  \n",
       "\n",
       "[365 rows x 6 columns]"
      ]
     },
     "execution_count": 448,
     "metadata": {},
     "output_type": "execute_result"
    }
   ],
   "source": [
    "dataframe = pd.concat([bitcoin_2018, ethereum_2018], axis=1)\n",
    "dataframe.round(decimals=2)"
   ]
  },
  {
   "cell_type": "code",
   "execution_count": 453,
   "metadata": {},
   "outputs": [
    {
     "data": {
      "text/html": [
       "\n",
       "  <div class=\"bk-root\" id=\"59e2e8e0-535c-4108-8db0-143340216642\" data-root-id=\"12245\"></div>\n"
      ]
     },
     "metadata": {},
     "output_type": "display_data"
    },
    {
     "data": {
      "application/javascript": "(function(root) {\n  function embed_document(root) {\n  const docs_json = {\"cf5f7c52-622f-4b27-9b69-cad41d295773\":{\"defs\":[],\"roots\":{\"references\":[{\"attributes\":{\"below\":[{\"id\":\"12256\"}],\"center\":[{\"id\":\"12259\"},{\"id\":\"12263\"},{\"id\":\"12307\"}],\"left\":[{\"id\":\"12260\"}],\"output_backend\":\"webgl\",\"renderers\":[{\"id\":\"12283\"},{\"id\":\"12316\"}],\"sizing_mode\":\"fixed\",\"title\":{\"id\":\"12246\"},\"toolbar\":{\"id\":\"12271\"},\"width\":1200,\"x_range\":{\"id\":\"12248\"},\"x_scale\":{\"id\":\"12252\"},\"y_range\":{\"id\":\"12250\"},\"y_scale\":{\"id\":\"12254\"}},\"id\":\"12245\",\"subtype\":\"Figure\",\"type\":\"Plot\"},{\"attributes\":{},\"id\":\"12267\",\"type\":\"SaveTool\"},{\"attributes\":{\"months\":[0,1,2,3,4,5,6,7,8,9,10,11]},\"id\":\"12302\",\"type\":\"MonthsTicker\"},{\"attributes\":{},\"id\":\"12268\",\"type\":\"ResetTool\"},{\"attributes\":{},\"id\":\"12269\",\"type\":\"HelpTool\"},{\"attributes\":{\"num_minor_ticks\":5,\"tickers\":[{\"id\":\"12295\"},{\"id\":\"12296\"},{\"id\":\"12297\"},{\"id\":\"12298\"},{\"id\":\"12299\"},{\"id\":\"12300\"},{\"id\":\"12301\"},{\"id\":\"12302\"},{\"id\":\"12303\"},{\"id\":\"12304\"},{\"id\":\"12305\"},{\"id\":\"12306\"}]},\"id\":\"12257\",\"type\":\"DatetimeTicker\"},{\"attributes\":{},\"id\":\"12292\",\"type\":\"UnionRenderers\"},{\"attributes\":{\"bottom_units\":\"screen\",\"coordinates\":null,\"fill_alpha\":0.5,\"fill_color\":\"lightgrey\",\"group\":null,\"left_units\":\"screen\",\"level\":\"overlay\",\"line_alpha\":1.0,\"line_color\":\"black\",\"line_dash\":[4,4],\"line_width\":2,\"right_units\":\"screen\",\"syncable\":false,\"top_units\":\"screen\"},\"id\":\"12270\",\"type\":\"BoxAnnotation\"},{\"attributes\":{\"axis_label\":\"Date\",\"coordinates\":null,\"formatter\":{\"id\":\"12345\"},\"group\":null,\"major_label_policy\":{\"id\":\"12291\"},\"ticker\":{\"id\":\"12257\"}},\"id\":\"12256\",\"type\":\"DatetimeAxis\"},{\"attributes\":{\"overlay\":{\"id\":\"12270\"}},\"id\":\"12266\",\"type\":\"BoxZoomTool\"},{\"attributes\":{\"days\":[1,8,15,22]},\"id\":\"12300\",\"type\":\"DaysTicker\"},{\"attributes\":{\"data\":{\"__x__values\":{\"__ndarray__\":\"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\",\"dtype\":\"float64\",\"order\":\"little\",\"shape\":[365]},\"__x__values_original\":{\"__ndarray__\":\"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\",\"dtype\":\"float64\",\"order\":\"little\",\"shape\":[365]},\"bitcoin price\":{\"__ndarray__\":\"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\",\"dtype\":\"float64\",\"order\":\"little\",\"shape\":[365]},\"ethereum price\":{\"__ndarray__\":\"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\",\"dtype\":\"float64\",\"order\":\"little\",\"shape\":[365]}},\"selected\":{\"id\":\"12328\"},\"selection_policy\":{\"id\":\"12327\"}},\"id\":\"12311\",\"type\":\"ColumnDataSource\"},{\"attributes\":{},\"id\":\"12261\",\"type\":\"BasicTicker\"},{\"attributes\":{\"days\":[1,2,3,4,5,6,7,8,9,10,11,12,13,14,15,16,17,18,19,20,21,22,23,24,25,26,27,28,29,30,31]},\"id\":\"12298\",\"type\":\"DaysTicker\"},{\"attributes\":{},\"id\":\"12287\",\"type\":\"BasicTickFormatter\"},{\"attributes\":{},\"id\":\"12306\",\"type\":\"YearsTicker\"},{\"attributes\":{\"callback\":null,\"formatters\":{\"@__x__values_original\":\"datetime\"},\"mode\":\"vline\",\"renderers\":[{\"id\":\"12283\"}],\"tooltips\":[[\"Date\",\"@__x__values_original{%F}\"],[\"bitcoin price\",\"@{bitcoin price}\"]]},\"id\":\"12309\",\"type\":\"HoverTool\"},{\"attributes\":{},\"id\":\"12252\",\"type\":\"LinearScale\"},{\"attributes\":{},\"id\":\"12264\",\"type\":\"PanTool\"},{\"attributes\":{\"label\":{\"value\":\" bitcoin price\"},\"renderers\":[{\"id\":\"12283\"}]},\"id\":\"12308\",\"type\":\"LegendItem\"},{\"attributes\":{},\"id\":\"12248\",\"type\":\"DataRange1d\"},{\"attributes\":{},\"id\":\"12291\",\"type\":\"AllLabels\"},{\"attributes\":{\"coordinates\":null,\"data_source\":{\"id\":\"12311\"},\"glyph\":{\"id\":\"12313\"},\"group\":null,\"hover_glyph\":null,\"muted_glyph\":{\"id\":\"12315\"},\"nonselection_glyph\":{\"id\":\"12314\"},\"view\":{\"id\":\"12317\"}},\"id\":\"12316\",\"type\":\"GlyphRenderer\"},{\"attributes\":{\"axis_label\":\"Price\",\"coordinates\":null,\"formatter\":{\"id\":\"12287\"},\"group\":null,\"major_label_policy\":{\"id\":\"12288\"},\"ticker\":{\"id\":\"12261\"}},\"id\":\"12260\",\"type\":\"LinearAxis\"},{\"attributes\":{},\"id\":\"12265\",\"type\":\"WheelZoomTool\"},{\"attributes\":{\"callback\":null,\"formatters\":{\"@__x__values_original\":\"datetime\"},\"mode\":\"vline\",\"renderers\":[{\"id\":\"12316\"}],\"tooltips\":[[\"Date\",\"@__x__values_original{%F}\"],[\"ethereum price\",\"@{ethereum price}\"]]},\"id\":\"12343\",\"type\":\"HoverTool\"},{\"attributes\":{},\"id\":\"12293\",\"type\":\"Selection\"},{\"attributes\":{\"base\":60,\"mantissas\":[1,2,5,10,15,20,30],\"max_interval\":1800000.0,\"min_interval\":1000.0,\"num_minor_ticks\":0},\"id\":\"12296\",\"type\":\"AdaptiveTicker\"},{\"attributes\":{\"line_color\":\"#1f77b4\",\"line_width\":2,\"x\":{\"field\":\"__x__values\"},\"y\":{\"field\":\"bitcoin price\"}},\"id\":\"12280\",\"type\":\"Line\"},{\"attributes\":{},\"id\":\"12254\",\"type\":\"LinearScale\"},{\"attributes\":{\"months\":[0,2,4,6,8,10]},\"id\":\"12303\",\"type\":\"MonthsTicker\"},{\"attributes\":{\"axis\":{\"id\":\"12260\"},\"coordinates\":null,\"dimension\":1,\"group\":null,\"ticker\":null},\"id\":\"12263\",\"type\":\"Grid\"},{\"attributes\":{},\"id\":\"12288\",\"type\":\"AllLabels\"},{\"attributes\":{\"months\":[0,6]},\"id\":\"12305\",\"type\":\"MonthsTicker\"},{\"attributes\":{\"mantissas\":[1,2,5],\"max_interval\":500.0,\"num_minor_ticks\":0},\"id\":\"12295\",\"type\":\"AdaptiveTicker\"},{\"attributes\":{},\"id\":\"12328\",\"type\":\"Selection\"},{\"attributes\":{\"days\":[1,4,7,10,13,16,19,22,25,28]},\"id\":\"12299\",\"type\":\"DaysTicker\"},{\"attributes\":{},\"id\":\"12327\",\"type\":\"UnionRenderers\"},{\"attributes\":{\"line_alpha\":0.1,\"line_color\":\"#1f77b4\",\"line_width\":2,\"x\":{\"field\":\"__x__values\"},\"y\":{\"field\":\"bitcoin price\"}},\"id\":\"12281\",\"type\":\"Line\"},{\"attributes\":{\"coordinates\":null,\"data_source\":{\"id\":\"12278\"},\"glyph\":{\"id\":\"12280\"},\"group\":null,\"hover_glyph\":null,\"muted_glyph\":{\"id\":\"12282\"},\"nonselection_glyph\":{\"id\":\"12281\"},\"view\":{\"id\":\"12284\"}},\"id\":\"12283\",\"type\":\"GlyphRenderer\"},{\"attributes\":{\"base\":24,\"mantissas\":[1,2,4,6,8,12],\"max_interval\":43200000.0,\"min_interval\":3600000.0,\"num_minor_ticks\":0},\"id\":\"12297\",\"type\":\"AdaptiveTicker\"},{\"attributes\":{\"click_policy\":\"hide\",\"coordinates\":null,\"group\":null,\"items\":[{\"id\":\"12308\"},{\"id\":\"12342\"}]},\"id\":\"12307\",\"type\":\"Legend\"},{\"attributes\":{\"data\":{\"__x__values\":{\"__ndarray__\":\"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\",\"dtype\":\"float64\",\"order\":\"little\",\"shape\":[365]},\"__x__values_original\":{\"__ndarray__\":\"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\",\"dtype\":\"float64\",\"order\":\"little\",\"shape\":[365]},\"bitcoin price\":{\"__ndarray__\":\"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\",\"dtype\":\"float64\",\"order\":\"little\",\"shape\":[365]},\"ethereum price\":{\"__ndarray__\":\"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\",\"dtype\":\"float64\",\"order\":\"little\",\"shape\":[365]}},\"selected\":{\"id\":\"12293\"},\"selection_policy\":{\"id\":\"12292\"}},\"id\":\"12278\",\"type\":\"ColumnDataSource\"},{\"attributes\":{\"line_alpha\":0.2,\"line_color\":\"#1f77b4\",\"line_width\":2,\"x\":{\"field\":\"__x__values\"},\"y\":{\"field\":\"bitcoin price\"}},\"id\":\"12282\",\"type\":\"Line\"},{\"attributes\":{\"line_alpha\":0.1,\"line_color\":\"#ff7f0e\",\"line_width\":2,\"x\":{\"field\":\"__x__values\"},\"y\":{\"field\":\"ethereum price\"}},\"id\":\"12314\",\"type\":\"Line\"},{\"attributes\":{\"days\":[1,15]},\"id\":\"12301\",\"type\":\"DaysTicker\"},{\"attributes\":{\"coordinates\":null,\"group\":null,\"text\":\"Price between bitcoin and ethereum\"},\"id\":\"12246\",\"type\":\"Title\"},{\"attributes\":{\"label\":{\"value\":\" ethereum price\"},\"renderers\":[{\"id\":\"12316\"}]},\"id\":\"12342\",\"type\":\"LegendItem\"},{\"attributes\":{},\"id\":\"12250\",\"type\":\"DataRange1d\"},{\"attributes\":{\"months\":[0,4,8]},\"id\":\"12304\",\"type\":\"MonthsTicker\"},{\"attributes\":{\"line_color\":\"#ff7f0e\",\"line_width\":2,\"x\":{\"field\":\"__x__values\"},\"y\":{\"field\":\"ethereum price\"}},\"id\":\"12313\",\"type\":\"Line\"},{\"attributes\":{\"axis\":{\"id\":\"12256\"},\"coordinates\":null,\"group\":null,\"ticker\":null},\"id\":\"12259\",\"type\":\"Grid\"},{\"attributes\":{\"days\":[\"%d %B %Y\"],\"hours\":[\"%H:%M:%S\"],\"milliseconds\":[\"%H:%M:%S.%f\"],\"minutes\":[\"%H:%M:%S\"],\"months\":[\"%d %B %Y\"],\"seconds\":[\"%H:%M:%S\"],\"years\":[\"%d %B %Y\"]},\"id\":\"12345\",\"type\":\"DatetimeTickFormatter\"},{\"attributes\":{\"source\":{\"id\":\"12278\"}},\"id\":\"12284\",\"type\":\"CDSView\"},{\"attributes\":{\"source\":{\"id\":\"12311\"}},\"id\":\"12317\",\"type\":\"CDSView\"},{\"attributes\":{\"active_scroll\":{\"id\":\"12265\"},\"tools\":[{\"id\":\"12264\"},{\"id\":\"12265\"},{\"id\":\"12266\"},{\"id\":\"12267\"},{\"id\":\"12268\"},{\"id\":\"12269\"},{\"id\":\"12309\"},{\"id\":\"12343\"}]},\"id\":\"12271\",\"type\":\"Toolbar\"},{\"attributes\":{\"line_alpha\":0.2,\"line_color\":\"#ff7f0e\",\"line_width\":2,\"x\":{\"field\":\"__x__values\"},\"y\":{\"field\":\"ethereum price\"}},\"id\":\"12315\",\"type\":\"Line\"}],\"root_ids\":[\"12245\"]},\"title\":\"Bokeh Application\",\"version\":\"2.4.3\"}};\n  const render_items = [{\"docid\":\"cf5f7c52-622f-4b27-9b69-cad41d295773\",\"root_ids\":[\"12245\"],\"roots\":{\"12245\":\"59e2e8e0-535c-4108-8db0-143340216642\"}}];\n  root.Bokeh.embed.embed_items_notebook(docs_json, render_items);\n  }\n  if (root.Bokeh !== undefined) {\n    embed_document(root);\n  } else {\n    let attempts = 0;\n    const timer = setInterval(function(root) {\n      if (root.Bokeh !== undefined) {\n        clearInterval(timer);\n        embed_document(root);\n      } else {\n        attempts++;\n        if (attempts > 100) {\n          clearInterval(timer);\n          console.log(\"Bokeh: ERROR: Unable to run BokehJS code because BokehJS library is missing\");\n        }\n      }\n    }, 10, root)\n  }\n})(window);",
      "application/vnd.bokehjs_exec.v0+json": ""
     },
     "metadata": {
      "application/vnd.bokehjs_exec.v0+json": {
       "id": "12245"
      }
     },
     "output_type": "display_data"
    },
    {
     "data": {
      "text/html": [
       "<div style=\"display: table;\"><div style=\"display: table-row;\"><div style=\"display: table-cell;\"><b title=\"bokeh.plotting.figure.Figure\">Figure</b>(</div><div style=\"display: table-cell;\">id&nbsp;=&nbsp;'12245', <span id=\"12639\" style=\"cursor: pointer;\">&hellip;)</span></div></div><div class=\"12638\" style=\"display: none;\"><div style=\"display: table-cell;\"></div><div style=\"display: table-cell;\">above&nbsp;=&nbsp;[],</div></div><div class=\"12638\" style=\"display: none;\"><div style=\"display: table-cell;\"></div><div style=\"display: table-cell;\">align&nbsp;=&nbsp;'start',</div></div><div class=\"12638\" style=\"display: none;\"><div style=\"display: table-cell;\"></div><div style=\"display: table-cell;\">aspect_ratio&nbsp;=&nbsp;None,</div></div><div class=\"12638\" style=\"display: none;\"><div style=\"display: table-cell;\"></div><div style=\"display: table-cell;\">aspect_scale&nbsp;=&nbsp;1,</div></div><div class=\"12638\" style=\"display: none;\"><div style=\"display: table-cell;\"></div><div style=\"display: table-cell;\">background&nbsp;=&nbsp;None,</div></div><div class=\"12638\" style=\"display: none;\"><div style=\"display: table-cell;\"></div><div style=\"display: table-cell;\">background_fill_alpha&nbsp;=&nbsp;1.0,</div></div><div class=\"12638\" style=\"display: none;\"><div style=\"display: table-cell;\"></div><div style=\"display: table-cell;\">background_fill_color&nbsp;=&nbsp;'#ffffff',</div></div><div class=\"12638\" style=\"display: none;\"><div style=\"display: table-cell;\"></div><div style=\"display: table-cell;\">below&nbsp;=&nbsp;[DatetimeAxis(id='12256', ...)],</div></div><div class=\"12638\" style=\"display: none;\"><div style=\"display: table-cell;\"></div><div style=\"display: table-cell;\">border_fill_alpha&nbsp;=&nbsp;1.0,</div></div><div class=\"12638\" style=\"display: none;\"><div style=\"display: table-cell;\"></div><div style=\"display: table-cell;\">border_fill_color&nbsp;=&nbsp;'#ffffff',</div></div><div class=\"12638\" style=\"display: none;\"><div style=\"display: table-cell;\"></div><div style=\"display: table-cell;\">center&nbsp;=&nbsp;[Grid(id='12259', ...), Grid(id='12263', ...), Legend(id='12307', ...)],</div></div><div class=\"12638\" style=\"display: none;\"><div style=\"display: table-cell;\"></div><div style=\"display: table-cell;\">css_classes&nbsp;=&nbsp;[],</div></div><div class=\"12638\" style=\"display: none;\"><div style=\"display: table-cell;\"></div><div style=\"display: table-cell;\">disabled&nbsp;=&nbsp;False,</div></div><div class=\"12638\" style=\"display: none;\"><div style=\"display: table-cell;\"></div><div style=\"display: table-cell;\">extra_x_ranges&nbsp;=&nbsp;{},</div></div><div class=\"12638\" style=\"display: none;\"><div style=\"display: table-cell;\"></div><div style=\"display: table-cell;\">extra_x_scales&nbsp;=&nbsp;{},</div></div><div class=\"12638\" style=\"display: none;\"><div style=\"display: table-cell;\"></div><div style=\"display: table-cell;\">extra_y_ranges&nbsp;=&nbsp;{},</div></div><div class=\"12638\" style=\"display: none;\"><div style=\"display: table-cell;\"></div><div style=\"display: table-cell;\">extra_y_scales&nbsp;=&nbsp;{},</div></div><div class=\"12638\" style=\"display: none;\"><div style=\"display: table-cell;\"></div><div style=\"display: table-cell;\">frame_height&nbsp;=&nbsp;None,</div></div><div class=\"12638\" style=\"display: none;\"><div style=\"display: table-cell;\"></div><div style=\"display: table-cell;\">frame_width&nbsp;=&nbsp;None,</div></div><div class=\"12638\" style=\"display: none;\"><div style=\"display: table-cell;\"></div><div style=\"display: table-cell;\">height&nbsp;=&nbsp;600,</div></div><div class=\"12638\" style=\"display: none;\"><div style=\"display: table-cell;\"></div><div style=\"display: table-cell;\">height_policy&nbsp;=&nbsp;'auto',</div></div><div class=\"12638\" style=\"display: none;\"><div style=\"display: table-cell;\"></div><div style=\"display: table-cell;\">hidpi&nbsp;=&nbsp;True,</div></div><div class=\"12638\" style=\"display: none;\"><div style=\"display: table-cell;\"></div><div style=\"display: table-cell;\">inner_height&nbsp;=&nbsp;0,</div></div><div class=\"12638\" style=\"display: none;\"><div style=\"display: table-cell;\"></div><div style=\"display: table-cell;\">inner_width&nbsp;=&nbsp;0,</div></div><div class=\"12638\" style=\"display: none;\"><div style=\"display: table-cell;\"></div><div style=\"display: table-cell;\">js_event_callbacks&nbsp;=&nbsp;{},</div></div><div class=\"12638\" style=\"display: none;\"><div style=\"display: table-cell;\"></div><div style=\"display: table-cell;\">js_property_callbacks&nbsp;=&nbsp;{},</div></div><div class=\"12638\" style=\"display: none;\"><div style=\"display: table-cell;\"></div><div style=\"display: table-cell;\">left&nbsp;=&nbsp;[LinearAxis(id='12260', ...)],</div></div><div class=\"12638\" style=\"display: none;\"><div style=\"display: table-cell;\"></div><div style=\"display: table-cell;\">lod_factor&nbsp;=&nbsp;10,</div></div><div class=\"12638\" style=\"display: none;\"><div style=\"display: table-cell;\"></div><div style=\"display: table-cell;\">lod_interval&nbsp;=&nbsp;300,</div></div><div class=\"12638\" style=\"display: none;\"><div style=\"display: table-cell;\"></div><div style=\"display: table-cell;\">lod_threshold&nbsp;=&nbsp;2000,</div></div><div class=\"12638\" style=\"display: none;\"><div style=\"display: table-cell;\"></div><div style=\"display: table-cell;\">lod_timeout&nbsp;=&nbsp;500,</div></div><div class=\"12638\" style=\"display: none;\"><div style=\"display: table-cell;\"></div><div style=\"display: table-cell;\">margin&nbsp;=&nbsp;(0, 0, 0, 0),</div></div><div class=\"12638\" style=\"display: none;\"><div style=\"display: table-cell;\"></div><div style=\"display: table-cell;\">match_aspect&nbsp;=&nbsp;False,</div></div><div class=\"12638\" style=\"display: none;\"><div style=\"display: table-cell;\"></div><div style=\"display: table-cell;\">max_height&nbsp;=&nbsp;None,</div></div><div class=\"12638\" style=\"display: none;\"><div style=\"display: table-cell;\"></div><div style=\"display: table-cell;\">max_width&nbsp;=&nbsp;None,</div></div><div class=\"12638\" style=\"display: none;\"><div style=\"display: table-cell;\"></div><div style=\"display: table-cell;\">min_border&nbsp;=&nbsp;5,</div></div><div class=\"12638\" style=\"display: none;\"><div style=\"display: table-cell;\"></div><div style=\"display: table-cell;\">min_border_bottom&nbsp;=&nbsp;None,</div></div><div class=\"12638\" style=\"display: none;\"><div style=\"display: table-cell;\"></div><div style=\"display: table-cell;\">min_border_left&nbsp;=&nbsp;None,</div></div><div class=\"12638\" style=\"display: none;\"><div style=\"display: table-cell;\"></div><div style=\"display: table-cell;\">min_border_right&nbsp;=&nbsp;None,</div></div><div class=\"12638\" style=\"display: none;\"><div style=\"display: table-cell;\"></div><div style=\"display: table-cell;\">min_border_top&nbsp;=&nbsp;None,</div></div><div class=\"12638\" style=\"display: none;\"><div style=\"display: table-cell;\"></div><div style=\"display: table-cell;\">min_height&nbsp;=&nbsp;None,</div></div><div class=\"12638\" style=\"display: none;\"><div style=\"display: table-cell;\"></div><div style=\"display: table-cell;\">min_width&nbsp;=&nbsp;None,</div></div><div class=\"12638\" style=\"display: none;\"><div style=\"display: table-cell;\"></div><div style=\"display: table-cell;\">name&nbsp;=&nbsp;None,</div></div><div class=\"12638\" style=\"display: none;\"><div style=\"display: table-cell;\"></div><div style=\"display: table-cell;\">outer_height&nbsp;=&nbsp;0,</div></div><div class=\"12638\" style=\"display: none;\"><div style=\"display: table-cell;\"></div><div style=\"display: table-cell;\">outer_width&nbsp;=&nbsp;0,</div></div><div class=\"12638\" style=\"display: none;\"><div style=\"display: table-cell;\"></div><div style=\"display: table-cell;\">outline_line_alpha&nbsp;=&nbsp;1.0,</div></div><div class=\"12638\" style=\"display: none;\"><div style=\"display: table-cell;\"></div><div style=\"display: table-cell;\">outline_line_cap&nbsp;=&nbsp;'butt',</div></div><div class=\"12638\" style=\"display: none;\"><div style=\"display: table-cell;\"></div><div style=\"display: table-cell;\">outline_line_color&nbsp;=&nbsp;'#e5e5e5',</div></div><div class=\"12638\" style=\"display: none;\"><div style=\"display: table-cell;\"></div><div style=\"display: table-cell;\">outline_line_dash&nbsp;=&nbsp;[],</div></div><div class=\"12638\" style=\"display: none;\"><div style=\"display: table-cell;\"></div><div style=\"display: table-cell;\">outline_line_dash_offset&nbsp;=&nbsp;0,</div></div><div class=\"12638\" style=\"display: none;\"><div style=\"display: table-cell;\"></div><div style=\"display: table-cell;\">outline_line_join&nbsp;=&nbsp;'bevel',</div></div><div class=\"12638\" style=\"display: none;\"><div style=\"display: table-cell;\"></div><div style=\"display: table-cell;\">outline_line_width&nbsp;=&nbsp;1,</div></div><div class=\"12638\" style=\"display: none;\"><div style=\"display: table-cell;\"></div><div style=\"display: table-cell;\">output_backend&nbsp;=&nbsp;'webgl',</div></div><div class=\"12638\" style=\"display: none;\"><div style=\"display: table-cell;\"></div><div style=\"display: table-cell;\">renderers&nbsp;=&nbsp;[GlyphRenderer(id='12283', ...), GlyphRenderer(id='12316', ...)],</div></div><div class=\"12638\" style=\"display: none;\"><div style=\"display: table-cell;\"></div><div style=\"display: table-cell;\">reset_policy&nbsp;=&nbsp;'standard',</div></div><div class=\"12638\" style=\"display: none;\"><div style=\"display: table-cell;\"></div><div style=\"display: table-cell;\">right&nbsp;=&nbsp;[],</div></div><div class=\"12638\" style=\"display: none;\"><div style=\"display: table-cell;\"></div><div style=\"display: table-cell;\">sizing_mode&nbsp;=&nbsp;'fixed',</div></div><div class=\"12638\" style=\"display: none;\"><div style=\"display: table-cell;\"></div><div style=\"display: table-cell;\">subscribed_events&nbsp;=&nbsp;[],</div></div><div class=\"12638\" style=\"display: none;\"><div style=\"display: table-cell;\"></div><div style=\"display: table-cell;\">syncable&nbsp;=&nbsp;True,</div></div><div class=\"12638\" style=\"display: none;\"><div style=\"display: table-cell;\"></div><div style=\"display: table-cell;\">tags&nbsp;=&nbsp;[],</div></div><div class=\"12638\" style=\"display: none;\"><div style=\"display: table-cell;\"></div><div style=\"display: table-cell;\">title&nbsp;=&nbsp;Title(id='12246', ...),</div></div><div class=\"12638\" style=\"display: none;\"><div style=\"display: table-cell;\"></div><div style=\"display: table-cell;\">title_location&nbsp;=&nbsp;'above',</div></div><div class=\"12638\" style=\"display: none;\"><div style=\"display: table-cell;\"></div><div style=\"display: table-cell;\">toolbar&nbsp;=&nbsp;Toolbar(id='12271', ...),</div></div><div class=\"12638\" style=\"display: none;\"><div style=\"display: table-cell;\"></div><div style=\"display: table-cell;\">toolbar_location&nbsp;=&nbsp;'right',</div></div><div class=\"12638\" style=\"display: none;\"><div style=\"display: table-cell;\"></div><div style=\"display: table-cell;\">toolbar_sticky&nbsp;=&nbsp;True,</div></div><div class=\"12638\" style=\"display: none;\"><div style=\"display: table-cell;\"></div><div style=\"display: table-cell;\">visible&nbsp;=&nbsp;True,</div></div><div class=\"12638\" style=\"display: none;\"><div style=\"display: table-cell;\"></div><div style=\"display: table-cell;\">width&nbsp;=&nbsp;1200,</div></div><div class=\"12638\" style=\"display: none;\"><div style=\"display: table-cell;\"></div><div style=\"display: table-cell;\">width_policy&nbsp;=&nbsp;'auto',</div></div><div class=\"12638\" style=\"display: none;\"><div style=\"display: table-cell;\"></div><div style=\"display: table-cell;\">x_range&nbsp;=&nbsp;DataRange1d(id='12248', ...),</div></div><div class=\"12638\" style=\"display: none;\"><div style=\"display: table-cell;\"></div><div style=\"display: table-cell;\">x_scale&nbsp;=&nbsp;LinearScale(id='12252', ...),</div></div><div class=\"12638\" style=\"display: none;\"><div style=\"display: table-cell;\"></div><div style=\"display: table-cell;\">y_range&nbsp;=&nbsp;DataRange1d(id='12250', ...),</div></div><div class=\"12638\" style=\"display: none;\"><div style=\"display: table-cell;\"></div><div style=\"display: table-cell;\">y_scale&nbsp;=&nbsp;LinearScale(id='12254', ...))</div></div></div>\n",
       "<script>\n",
       "(function() {\n",
       "  let expanded = false;\n",
       "  const ellipsis = document.getElementById(\"12639\");\n",
       "  ellipsis.addEventListener(\"click\", function() {\n",
       "    const rows = document.getElementsByClassName(\"12638\");\n",
       "    for (let i = 0; i < rows.length; i++) {\n",
       "      const el = rows[i];\n",
       "      el.style.display = expanded ? \"none\" : \"table-row\";\n",
       "    }\n",
       "    ellipsis.innerHTML = expanded ? \"&hellip;)\" : \"&lsaquo;&lsaquo;&lsaquo;\";\n",
       "    expanded = !expanded;\n",
       "  });\n",
       "})();\n",
       "</script>\n"
      ],
      "text/plain": [
       "Figure(id='12245', ...)"
      ]
     },
     "execution_count": 453,
     "metadata": {},
     "output_type": "execute_result"
    }
   ],
   "source": [
    "# Plot the price between bitcoin and ethereum\n",
    "price = dataframe[['bitcoin price', 'ethereum price']]\n",
    "price.plot_bokeh(figsize=(1200,600), legend=\"top_right\", ylabel=\"Price\", xlabel=\"Date\", title=\"Price between bitcoin and ethereum\")"
   ]
  },
  {
   "cell_type": "code",
   "execution_count": 454,
   "metadata": {},
   "outputs": [
    {
     "data": {
      "text/html": [
       "\n",
       "  <div class=\"bk-root\" id=\"0ce86a61-6365-40e1-8914-7105d00a5ab1\" data-root-id=\"12641\"></div>\n"
      ]
     },
     "metadata": {},
     "output_type": "display_data"
    },
    {
     "data": {
      "application/javascript": "(function(root) {\n  function embed_document(root) {\n  const docs_json = {\"71739dac-bb5c-40d5-abd3-0738050cb123\":{\"defs\":[],\"roots\":{\"references\":[{\"attributes\":{\"below\":[{\"id\":\"12652\"}],\"center\":[{\"id\":\"12655\"},{\"id\":\"12659\"},{\"id\":\"12703\"}],\"left\":[{\"id\":\"12656\"}],\"output_backend\":\"webgl\",\"renderers\":[{\"id\":\"12679\"},{\"id\":\"12712\"}],\"sizing_mode\":\"fixed\",\"title\":{\"id\":\"12642\"},\"toolbar\":{\"id\":\"12667\"},\"width\":1200,\"x_range\":{\"id\":\"12644\"},\"x_scale\":{\"id\":\"12648\"},\"y_range\":{\"id\":\"12646\"},\"y_scale\":{\"id\":\"12650\"}},\"id\":\"12641\",\"subtype\":\"Figure\",\"type\":\"Plot\"},{\"attributes\":{\"active_scroll\":{\"id\":\"12661\"},\"tools\":[{\"id\":\"12660\"},{\"id\":\"12661\"},{\"id\":\"12662\"},{\"id\":\"12663\"},{\"id\":\"12664\"},{\"id\":\"12665\"},{\"id\":\"12705\"},{\"id\":\"12739\"}]},\"id\":\"12667\",\"type\":\"Toolbar\"},{\"attributes\":{},\"id\":\"12683\",\"type\":\"BasicTickFormatter\"},{\"attributes\":{\"coordinates\":null,\"data_source\":{\"id\":\"12674\"},\"glyph\":{\"id\":\"12676\"},\"group\":null,\"hover_glyph\":null,\"muted_glyph\":{\"id\":\"12678\"},\"nonselection_glyph\":{\"id\":\"12677\"},\"view\":{\"id\":\"12680\"}},\"id\":\"12679\",\"type\":\"GlyphRenderer\"},{\"attributes\":{\"overlay\":{\"id\":\"12666\"}},\"id\":\"12662\",\"type\":\"BoxZoomTool\"},{\"attributes\":{},\"id\":\"12660\",\"type\":\"PanTool\"},{\"attributes\":{\"base\":24,\"mantissas\":[1,2,4,6,8,12],\"max_interval\":43200000.0,\"min_interval\":3600000.0,\"num_minor_ticks\":0},\"id\":\"12693\",\"type\":\"AdaptiveTicker\"},{\"attributes\":{\"days\":[1,15]},\"id\":\"12697\",\"type\":\"DaysTicker\"},{\"attributes\":{\"source\":{\"id\":\"12674\"}},\"id\":\"12680\",\"type\":\"CDSView\"},{\"attributes\":{\"base\":60,\"mantissas\":[1,2,5,10,15,20,30],\"max_interval\":1800000.0,\"min_interval\":1000.0,\"num_minor_ticks\":0},\"id\":\"12692\",\"type\":\"AdaptiveTicker\"},{\"attributes\":{\"axis\":{\"id\":\"12656\"},\"coordinates\":null,\"dimension\":1,\"group\":null,\"ticker\":null},\"id\":\"12659\",\"type\":\"Grid\"},{\"attributes\":{\"axis\":{\"id\":\"12652\"},\"coordinates\":null,\"group\":null,\"ticker\":null},\"id\":\"12655\",\"type\":\"Grid\"},{\"attributes\":{},\"id\":\"12687\",\"type\":\"AllLabels\"},{\"attributes\":{},\"id\":\"12688\",\"type\":\"UnionRenderers\"},{\"attributes\":{},\"id\":\"12689\",\"type\":\"Selection\"},{\"attributes\":{\"click_policy\":\"hide\",\"coordinates\":null,\"group\":null,\"items\":[{\"id\":\"12704\"},{\"id\":\"12738\"}]},\"id\":\"12703\",\"type\":\"Legend\"},{\"attributes\":{\"days\":[1,2,3,4,5,6,7,8,9,10,11,12,13,14,15,16,17,18,19,20,21,22,23,24,25,26,27,28,29,30,31]},\"id\":\"12694\",\"type\":\"DaysTicker\"},{\"attributes\":{\"days\":[1,8,15,22]},\"id\":\"12696\",\"type\":\"DaysTicker\"},{\"attributes\":{\"axis_label\":\"Volume\",\"coordinates\":null,\"formatter\":{\"id\":\"12683\"},\"group\":null,\"major_label_policy\":{\"id\":\"12684\"},\"ticker\":{\"id\":\"12657\"}},\"id\":\"12656\",\"type\":\"LinearAxis\"},{\"attributes\":{\"days\":[\"%d %B %Y\"],\"hours\":[\"%H:%M:%S\"],\"milliseconds\":[\"%H:%M:%S.%f\"],\"minutes\":[\"%H:%M:%S\"],\"months\":[\"%d %B %Y\"],\"seconds\":[\"%H:%M:%S\"],\"years\":[\"%d %B %Y\"]},\"id\":\"12741\",\"type\":\"DatetimeTickFormatter\"},{\"attributes\":{\"label\":{\"value\":\" bitcoin volume\"},\"renderers\":[{\"id\":\"12679\"}]},\"id\":\"12704\",\"type\":\"LegendItem\"},{\"attributes\":{\"coordinates\":null,\"group\":null,\"text\":\"Transacted volume between bitcoin and ethereum\"},\"id\":\"12642\",\"type\":\"Title\"},{\"attributes\":{\"mantissas\":[1,2,5],\"max_interval\":500.0,\"num_minor_ticks\":0},\"id\":\"12691\",\"type\":\"AdaptiveTicker\"},{\"attributes\":{\"months\":[0,2,4,6,8,10]},\"id\":\"12699\",\"type\":\"MonthsTicker\"},{\"attributes\":{\"line_alpha\":0.2,\"line_color\":\"#1f77b4\",\"line_width\":2,\"x\":{\"field\":\"__x__values\"},\"y\":{\"field\":\"bitcoin volume\"}},\"id\":\"12678\",\"type\":\"Line\"},{\"attributes\":{},\"id\":\"12664\",\"type\":\"ResetTool\"},{\"attributes\":{},\"id\":\"12665\",\"type\":\"HelpTool\"},{\"attributes\":{},\"id\":\"12661\",\"type\":\"WheelZoomTool\"},{\"attributes\":{\"label\":{\"value\":\" ethereum volume\"},\"renderers\":[{\"id\":\"12712\"}]},\"id\":\"12738\",\"type\":\"LegendItem\"},{\"attributes\":{},\"id\":\"12663\",\"type\":\"SaveTool\"},{\"attributes\":{\"callback\":null,\"formatters\":{\"@__x__values_original\":\"datetime\"},\"mode\":\"vline\",\"renderers\":[{\"id\":\"12712\"}],\"tooltips\":[[\"Date\",\"@__x__values_original{%F}\"],[\"ethereum volume\",\"@{ethereum volume}\"]]},\"id\":\"12739\",\"type\":\"HoverTool\"},{\"attributes\":{\"line_color\":\"#1f77b4\",\"line_width\":2,\"x\":{\"field\":\"__x__values\"},\"y\":{\"field\":\"bitcoin volume\"}},\"id\":\"12676\",\"type\":\"Line\"},{\"attributes\":{},\"id\":\"12702\",\"type\":\"YearsTicker\"},{\"attributes\":{\"data\":{\"__x__values\":{\"__ndarray__\":\"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\",\"dtype\":\"float64\",\"order\":\"little\",\"shape\":[365]},\"__x__values_original\":{\"__ndarray__\":\"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\",\"dtype\":\"float64\",\"order\":\"little\",\"shape\":[365]},\"bitcoin volume\":{\"__ndarray__\":\"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\",\"dtype\":\"float64\",\"order\":\"little\",\"shape\":[365]},\"ethereum volume\":[2595760128,5783349760,5093159936,6502859776,6683149824,4662219776,5569880064,8450970112,7965459968,9214950400,7235899904,5222300160,5746760192,4841630208,4781100032,8405139968,8545160192,5938319872,4084450048,3975190016,3378089984,3810099968,3556699904,3944039936,4050190080,3617690112,3002870016,5372329984,3715079936,4107859968,3757560064,5261680128,6713290240,3243480064,2997090048,4269530112,6518269952,3896179968,3708189952,2495820032,2930530048,2486650112,2243450112,2081170048,2818370048,2900100096,2369449984,2525720064,2567290112,2169019904,2545260032,2531729920,2150370048,2334820096,1926579968,1646960000,2044480000,2053980032,1963980032,1868519936,1894419968,1699369984,1697939968,1898489984,1943069952,2175419904,1891640064,2233019904,1532960000,1562680064,1764999936,1425959936,1810560000,1770460032,1417350016,1267810048,2685499904,2046790016,1833680000,1781270016,1523459968,1596349952,1300009984,1151170048,1638880000,1617939968,1514179968,1970230016,1878130048,1323920000,1256930048,1102259968,1363399936,1287730048,1210680064,967105984,951475008,948488000,1478390016,1196000000,1439040000,2519360000,2419249920,1519079936,1726089984,1758979968,1760359936,1762940032,2256869888,2849469952,2612460032,2426269952,2386830080,3581860096,4216140032,2984009984,2598129920,2496659968,2740559872,2853100032,2678960128,2822269952,4210939904,3533410048,3035040000,3105570048,4316120064,2920489984,2877870080,2748950016,3290080000,2668480000,2362500096,3005110016,2523069952,2476130048,2350619904,2305740032,2021549952,2156910080,2005170048,2230469888,2995429888,2791099904,2110919936,1694300032,1788790016,2356900096,2330820096,2053970048,1985040000,1945890048,1880390016,1832550016,1903430016,1844269952,1756530048,1880140032,1637779968,1519309952,2234880000,1982119936,1932760064,2080130048,2458650112,1808269952,1314109952,1264870016,1513869952,1726569984,1596290048,1462070016,2226030080,1651379968,2490579968,4007950080,1356560000,1368940032,1360790016,1564499968,1475939968,1511730048,1625789952,1683939968,1549769984,1828610048,1627609984,1358360064,1344560000,1533799936,1789069952,1422470016,1495440000,1489670016,1235820032,1350160000,1858680064,2288100096,2371559936,2068739968,1821350016,1504310016,1338589952,1596999936,2287520000,1930780032,1621560064,1734259968,1531890048,1631910016,2141590000,1820680000,1888060000,1569300000,1722340000,1466540000,1396820000,1384880000,1828350000,2016080000,1616610000,1699400000,1790370000,1625420000,1751190000,2137850000,1878150000,1552970000,1995460000,1764020000,1447910000,1413790000,1164120000,1507660000,1271160000,1450170000,1208360000,1206650000,1406790000,1513350000,1474460000,1513100000,1411910000,1546630000,1321050000,1394490000,1554870000,2390390000,2097310000,1678260000,1517200000,1585980000,1502960000,1568900000,1874850000,2330720000,2232190000,1670490000,1502260000,2019910000,1800640000,1733330000,1782070000,2836200000,1921820000,1693470000,1748740000,2120360000,1756100000,2030320000,2018120000,2208720000,1765560000,1597500000,1542080000,1683930000,1479500000,1547330000,1505070000,1470480000,1470740000,1405130000,1384040000,2167620000,1487900000,1167610000,1169260000,2865830000,1532280000,1444130000,1365860000,1264480000,1238780000,1190300000,1328980000,1237490000,1102220000,1102900000,1161310000,1084810000,1139140000,1517230000,1363500000,1442380000,1336700000,1451870000,1307150000,1749300000,1613510000,1856940000,1927830000,1769080000,1554750000,1377760000,1501600000,1452380000,1610260000,2595330000,2638410000,2015330000,1832800000,1810920000,2745160000,3134410000,2685930000,1792150000,1998010000,1800960000,2466750000,2139490000,2320010000,2673470000,2196099151,2020748396,2131475768,1856199149,1772756193,1748116495,1990157607,2310716932,2554304530,1855759401,1875567180,1756437577,1707497898,1533050103,1754475622,1651491877,1496176898,1565817037,2101453024,2277514076,2456482115,3063842618,2632539990,2338772939,3579715061,4370343387,3298280609,2720469126,2612804378,3130201009,3169029972,2660086834,2358360234]},\"selected\":{\"id\":\"12689\"},\"selection_policy\":{\"id\":\"12688\"}},\"id\":\"12674\",\"type\":\"ColumnDataSource\"},{\"attributes\":{\"line_alpha\":0.1,\"line_color\":\"#1f77b4\",\"line_width\":2,\"x\":{\"field\":\"__x__values\"},\"y\":{\"field\":\"bitcoin volume\"}},\"id\":\"12677\",\"type\":\"Line\"},{\"attributes\":{},\"id\":\"12650\",\"type\":\"LinearScale\"},{\"attributes\":{\"callback\":null,\"formatters\":{\"@__x__values_original\":\"datetime\"},\"mode\":\"vline\",\"renderers\":[{\"id\":\"12679\"}],\"tooltips\":[[\"Date\",\"@__x__values_original{%F}\"],[\"bitcoin volume\",\"@{bitcoin volume}\"]]},\"id\":\"12705\",\"type\":\"HoverTool\"},{\"attributes\":{},\"id\":\"12644\",\"type\":\"DataRange1d\"},{\"attributes\":{\"source\":{\"id\":\"12707\"}},\"id\":\"12713\",\"type\":\"CDSView\"},{\"attributes\":{\"data\":{\"__x__values\":{\"__ndarray__\":\"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\",\"dtype\":\"float64\",\"order\":\"little\",\"shape\":[365]},\"__x__values_original\":{\"__ndarray__\":\"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\",\"dtype\":\"float64\",\"order\":\"little\",\"shape\":[365]},\"bitcoin volume\":{\"__ndarray__\":\"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\",\"dtype\":\"float64\",\"order\":\"little\",\"shape\":[365]},\"ethereum volume\":[2595760128,5783349760,5093159936,6502859776,6683149824,4662219776,5569880064,8450970112,7965459968,9214950400,7235899904,5222300160,5746760192,4841630208,4781100032,8405139968,8545160192,5938319872,4084450048,3975190016,3378089984,3810099968,3556699904,3944039936,4050190080,3617690112,3002870016,5372329984,3715079936,4107859968,3757560064,5261680128,6713290240,3243480064,2997090048,4269530112,6518269952,3896179968,3708189952,2495820032,2930530048,2486650112,2243450112,2081170048,2818370048,2900100096,2369449984,2525720064,2567290112,2169019904,2545260032,2531729920,2150370048,2334820096,1926579968,1646960000,2044480000,2053980032,1963980032,1868519936,1894419968,1699369984,1697939968,1898489984,1943069952,2175419904,1891640064,2233019904,1532960000,1562680064,1764999936,1425959936,1810560000,1770460032,1417350016,1267810048,2685499904,2046790016,1833680000,1781270016,1523459968,1596349952,1300009984,1151170048,1638880000,1617939968,1514179968,1970230016,1878130048,1323920000,1256930048,1102259968,1363399936,1287730048,1210680064,967105984,951475008,948488000,1478390016,1196000000,1439040000,2519360000,2419249920,1519079936,1726089984,1758979968,1760359936,1762940032,2256869888,2849469952,2612460032,2426269952,2386830080,3581860096,4216140032,2984009984,2598129920,2496659968,2740559872,2853100032,2678960128,2822269952,4210939904,3533410048,3035040000,3105570048,4316120064,2920489984,2877870080,2748950016,3290080000,2668480000,2362500096,3005110016,2523069952,2476130048,2350619904,2305740032,2021549952,2156910080,2005170048,2230469888,2995429888,2791099904,2110919936,1694300032,1788790016,2356900096,2330820096,2053970048,1985040000,1945890048,1880390016,1832550016,1903430016,1844269952,1756530048,1880140032,1637779968,1519309952,2234880000,1982119936,1932760064,2080130048,2458650112,1808269952,1314109952,1264870016,1513869952,1726569984,1596290048,1462070016,2226030080,1651379968,2490579968,4007950080,1356560000,1368940032,1360790016,1564499968,1475939968,1511730048,1625789952,1683939968,1549769984,1828610048,1627609984,1358360064,1344560000,1533799936,1789069952,1422470016,1495440000,1489670016,1235820032,1350160000,1858680064,2288100096,2371559936,2068739968,1821350016,1504310016,1338589952,1596999936,2287520000,1930780032,1621560064,1734259968,1531890048,1631910016,2141590000,1820680000,1888060000,1569300000,1722340000,1466540000,1396820000,1384880000,1828350000,2016080000,1616610000,1699400000,1790370000,1625420000,1751190000,2137850000,1878150000,1552970000,1995460000,1764020000,1447910000,1413790000,1164120000,1507660000,1271160000,1450170000,1208360000,1206650000,1406790000,1513350000,1474460000,1513100000,1411910000,1546630000,1321050000,1394490000,1554870000,2390390000,2097310000,1678260000,1517200000,1585980000,1502960000,1568900000,1874850000,2330720000,2232190000,1670490000,1502260000,2019910000,1800640000,1733330000,1782070000,2836200000,1921820000,1693470000,1748740000,2120360000,1756100000,2030320000,2018120000,2208720000,1765560000,1597500000,1542080000,1683930000,1479500000,1547330000,1505070000,1470480000,1470740000,1405130000,1384040000,2167620000,1487900000,1167610000,1169260000,2865830000,1532280000,1444130000,1365860000,1264480000,1238780000,1190300000,1328980000,1237490000,1102220000,1102900000,1161310000,1084810000,1139140000,1517230000,1363500000,1442380000,1336700000,1451870000,1307150000,1749300000,1613510000,1856940000,1927830000,1769080000,1554750000,1377760000,1501600000,1452380000,1610260000,2595330000,2638410000,2015330000,1832800000,1810920000,2745160000,3134410000,2685930000,1792150000,1998010000,1800960000,2466750000,2139490000,2320010000,2673470000,2196099151,2020748396,2131475768,1856199149,1772756193,1748116495,1990157607,2310716932,2554304530,1855759401,1875567180,1756437577,1707497898,1533050103,1754475622,1651491877,1496176898,1565817037,2101453024,2277514076,2456482115,3063842618,2632539990,2338772939,3579715061,4370343387,3298280609,2720469126,2612804378,3130201009,3169029972,2660086834,2358360234]},\"selected\":{\"id\":\"12724\"},\"selection_policy\":{\"id\":\"12723\"}},\"id\":\"12707\",\"type\":\"ColumnDataSource\"},{\"attributes\":{},\"id\":\"12648\",\"type\":\"LinearScale\"},{\"attributes\":{\"bottom_units\":\"screen\",\"coordinates\":null,\"fill_alpha\":0.5,\"fill_color\":\"lightgrey\",\"group\":null,\"left_units\":\"screen\",\"level\":\"overlay\",\"line_alpha\":1.0,\"line_color\":\"black\",\"line_dash\":[4,4],\"line_width\":2,\"right_units\":\"screen\",\"syncable\":false,\"top_units\":\"screen\"},\"id\":\"12666\",\"type\":\"BoxAnnotation\"},{\"attributes\":{\"months\":[0,4,8]},\"id\":\"12700\",\"type\":\"MonthsTicker\"},{\"attributes\":{},\"id\":\"12684\",\"type\":\"AllLabels\"},{\"attributes\":{\"line_alpha\":0.1,\"line_color\":\"#ff7f0e\",\"line_width\":2,\"x\":{\"field\":\"__x__values\"},\"y\":{\"field\":\"ethereum volume\"}},\"id\":\"12710\",\"type\":\"Line\"},{\"attributes\":{\"num_minor_ticks\":5,\"tickers\":[{\"id\":\"12691\"},{\"id\":\"12692\"},{\"id\":\"12693\"},{\"id\":\"12694\"},{\"id\":\"12695\"},{\"id\":\"12696\"},{\"id\":\"12697\"},{\"id\":\"12698\"},{\"id\":\"12699\"},{\"id\":\"12700\"},{\"id\":\"12701\"},{\"id\":\"12702\"}]},\"id\":\"12653\",\"type\":\"DatetimeTicker\"},{\"attributes\":{},\"id\":\"12723\",\"type\":\"UnionRenderers\"},{\"attributes\":{\"coordinates\":null,\"data_source\":{\"id\":\"12707\"},\"glyph\":{\"id\":\"12709\"},\"group\":null,\"hover_glyph\":null,\"muted_glyph\":{\"id\":\"12711\"},\"nonselection_glyph\":{\"id\":\"12710\"},\"view\":{\"id\":\"12713\"}},\"id\":\"12712\",\"type\":\"GlyphRenderer\"},{\"attributes\":{},\"id\":\"12724\",\"type\":\"Selection\"},{\"attributes\":{\"months\":[0,1,2,3,4,5,6,7,8,9,10,11]},\"id\":\"12698\",\"type\":\"MonthsTicker\"},{\"attributes\":{},\"id\":\"12646\",\"type\":\"DataRange1d\"},{\"attributes\":{\"line_alpha\":0.2,\"line_color\":\"#ff7f0e\",\"line_width\":2,\"x\":{\"field\":\"__x__values\"},\"y\":{\"field\":\"ethereum volume\"}},\"id\":\"12711\",\"type\":\"Line\"},{\"attributes\":{\"days\":[1,4,7,10,13,16,19,22,25,28]},\"id\":\"12695\",\"type\":\"DaysTicker\"},{\"attributes\":{\"axis_label\":\"Date\",\"coordinates\":null,\"formatter\":{\"id\":\"12741\"},\"group\":null,\"major_label_policy\":{\"id\":\"12687\"},\"ticker\":{\"id\":\"12653\"}},\"id\":\"12652\",\"type\":\"DatetimeAxis\"},{\"attributes\":{\"line_color\":\"#ff7f0e\",\"line_width\":2,\"x\":{\"field\":\"__x__values\"},\"y\":{\"field\":\"ethereum volume\"}},\"id\":\"12709\",\"type\":\"Line\"},{\"attributes\":{\"months\":[0,6]},\"id\":\"12701\",\"type\":\"MonthsTicker\"},{\"attributes\":{},\"id\":\"12657\",\"type\":\"BasicTicker\"}],\"root_ids\":[\"12641\"]},\"title\":\"Bokeh Application\",\"version\":\"2.4.3\"}};\n  const render_items = [{\"docid\":\"71739dac-bb5c-40d5-abd3-0738050cb123\",\"root_ids\":[\"12641\"],\"roots\":{\"12641\":\"0ce86a61-6365-40e1-8914-7105d00a5ab1\"}}];\n  root.Bokeh.embed.embed_items_notebook(docs_json, render_items);\n  }\n  if (root.Bokeh !== undefined) {\n    embed_document(root);\n  } else {\n    let attempts = 0;\n    const timer = setInterval(function(root) {\n      if (root.Bokeh !== undefined) {\n        clearInterval(timer);\n        embed_document(root);\n      } else {\n        attempts++;\n        if (attempts > 100) {\n          clearInterval(timer);\n          console.log(\"Bokeh: ERROR: Unable to run BokehJS code because BokehJS library is missing\");\n        }\n      }\n    }, 10, root)\n  }\n})(window);",
      "application/vnd.bokehjs_exec.v0+json": ""
     },
     "metadata": {
      "application/vnd.bokehjs_exec.v0+json": {
       "id": "12641"
      }
     },
     "output_type": "display_data"
    },
    {
     "data": {
      "text/html": [
       "<div style=\"display: table;\"><div style=\"display: table-row;\"><div style=\"display: table-cell;\"><b title=\"bokeh.plotting.figure.Figure\">Figure</b>(</div><div style=\"display: table-cell;\">id&nbsp;=&nbsp;'12641', <span id=\"13058\" style=\"cursor: pointer;\">&hellip;)</span></div></div><div class=\"13057\" style=\"display: none;\"><div style=\"display: table-cell;\"></div><div style=\"display: table-cell;\">above&nbsp;=&nbsp;[],</div></div><div class=\"13057\" style=\"display: none;\"><div style=\"display: table-cell;\"></div><div style=\"display: table-cell;\">align&nbsp;=&nbsp;'start',</div></div><div class=\"13057\" style=\"display: none;\"><div style=\"display: table-cell;\"></div><div style=\"display: table-cell;\">aspect_ratio&nbsp;=&nbsp;None,</div></div><div class=\"13057\" style=\"display: none;\"><div style=\"display: table-cell;\"></div><div style=\"display: table-cell;\">aspect_scale&nbsp;=&nbsp;1,</div></div><div class=\"13057\" style=\"display: none;\"><div style=\"display: table-cell;\"></div><div style=\"display: table-cell;\">background&nbsp;=&nbsp;None,</div></div><div class=\"13057\" style=\"display: none;\"><div style=\"display: table-cell;\"></div><div style=\"display: table-cell;\">background_fill_alpha&nbsp;=&nbsp;1.0,</div></div><div class=\"13057\" style=\"display: none;\"><div style=\"display: table-cell;\"></div><div style=\"display: table-cell;\">background_fill_color&nbsp;=&nbsp;'#ffffff',</div></div><div class=\"13057\" style=\"display: none;\"><div style=\"display: table-cell;\"></div><div style=\"display: table-cell;\">below&nbsp;=&nbsp;[DatetimeAxis(id='12652', ...)],</div></div><div class=\"13057\" style=\"display: none;\"><div style=\"display: table-cell;\"></div><div style=\"display: table-cell;\">border_fill_alpha&nbsp;=&nbsp;1.0,</div></div><div class=\"13057\" style=\"display: none;\"><div style=\"display: table-cell;\"></div><div style=\"display: table-cell;\">border_fill_color&nbsp;=&nbsp;'#ffffff',</div></div><div class=\"13057\" style=\"display: none;\"><div style=\"display: table-cell;\"></div><div style=\"display: table-cell;\">center&nbsp;=&nbsp;[Grid(id='12655', ...), Grid(id='12659', ...), Legend(id='12703', ...)],</div></div><div class=\"13057\" style=\"display: none;\"><div style=\"display: table-cell;\"></div><div style=\"display: table-cell;\">css_classes&nbsp;=&nbsp;[],</div></div><div class=\"13057\" style=\"display: none;\"><div style=\"display: table-cell;\"></div><div style=\"display: table-cell;\">disabled&nbsp;=&nbsp;False,</div></div><div class=\"13057\" style=\"display: none;\"><div style=\"display: table-cell;\"></div><div style=\"display: table-cell;\">extra_x_ranges&nbsp;=&nbsp;{},</div></div><div class=\"13057\" style=\"display: none;\"><div style=\"display: table-cell;\"></div><div style=\"display: table-cell;\">extra_x_scales&nbsp;=&nbsp;{},</div></div><div class=\"13057\" style=\"display: none;\"><div style=\"display: table-cell;\"></div><div style=\"display: table-cell;\">extra_y_ranges&nbsp;=&nbsp;{},</div></div><div class=\"13057\" style=\"display: none;\"><div style=\"display: table-cell;\"></div><div style=\"display: table-cell;\">extra_y_scales&nbsp;=&nbsp;{},</div></div><div class=\"13057\" style=\"display: none;\"><div style=\"display: table-cell;\"></div><div style=\"display: table-cell;\">frame_height&nbsp;=&nbsp;None,</div></div><div class=\"13057\" style=\"display: none;\"><div style=\"display: table-cell;\"></div><div style=\"display: table-cell;\">frame_width&nbsp;=&nbsp;None,</div></div><div class=\"13057\" style=\"display: none;\"><div style=\"display: table-cell;\"></div><div style=\"display: table-cell;\">height&nbsp;=&nbsp;600,</div></div><div class=\"13057\" style=\"display: none;\"><div style=\"display: table-cell;\"></div><div style=\"display: table-cell;\">height_policy&nbsp;=&nbsp;'auto',</div></div><div class=\"13057\" style=\"display: none;\"><div style=\"display: table-cell;\"></div><div style=\"display: table-cell;\">hidpi&nbsp;=&nbsp;True,</div></div><div class=\"13057\" style=\"display: none;\"><div style=\"display: table-cell;\"></div><div style=\"display: table-cell;\">inner_height&nbsp;=&nbsp;0,</div></div><div class=\"13057\" style=\"display: none;\"><div style=\"display: table-cell;\"></div><div style=\"display: table-cell;\">inner_width&nbsp;=&nbsp;0,</div></div><div class=\"13057\" style=\"display: none;\"><div style=\"display: table-cell;\"></div><div style=\"display: table-cell;\">js_event_callbacks&nbsp;=&nbsp;{},</div></div><div class=\"13057\" style=\"display: none;\"><div style=\"display: table-cell;\"></div><div style=\"display: table-cell;\">js_property_callbacks&nbsp;=&nbsp;{},</div></div><div class=\"13057\" style=\"display: none;\"><div style=\"display: table-cell;\"></div><div style=\"display: table-cell;\">left&nbsp;=&nbsp;[LinearAxis(id='12656', ...)],</div></div><div class=\"13057\" style=\"display: none;\"><div style=\"display: table-cell;\"></div><div style=\"display: table-cell;\">lod_factor&nbsp;=&nbsp;10,</div></div><div class=\"13057\" style=\"display: none;\"><div style=\"display: table-cell;\"></div><div style=\"display: table-cell;\">lod_interval&nbsp;=&nbsp;300,</div></div><div class=\"13057\" style=\"display: none;\"><div style=\"display: table-cell;\"></div><div style=\"display: table-cell;\">lod_threshold&nbsp;=&nbsp;2000,</div></div><div class=\"13057\" style=\"display: none;\"><div style=\"display: table-cell;\"></div><div style=\"display: table-cell;\">lod_timeout&nbsp;=&nbsp;500,</div></div><div class=\"13057\" style=\"display: none;\"><div style=\"display: table-cell;\"></div><div style=\"display: table-cell;\">margin&nbsp;=&nbsp;(0, 0, 0, 0),</div></div><div class=\"13057\" style=\"display: none;\"><div style=\"display: table-cell;\"></div><div style=\"display: table-cell;\">match_aspect&nbsp;=&nbsp;False,</div></div><div class=\"13057\" style=\"display: none;\"><div style=\"display: table-cell;\"></div><div style=\"display: table-cell;\">max_height&nbsp;=&nbsp;None,</div></div><div class=\"13057\" style=\"display: none;\"><div style=\"display: table-cell;\"></div><div style=\"display: table-cell;\">max_width&nbsp;=&nbsp;None,</div></div><div class=\"13057\" style=\"display: none;\"><div style=\"display: table-cell;\"></div><div style=\"display: table-cell;\">min_border&nbsp;=&nbsp;5,</div></div><div class=\"13057\" style=\"display: none;\"><div style=\"display: table-cell;\"></div><div style=\"display: table-cell;\">min_border_bottom&nbsp;=&nbsp;None,</div></div><div class=\"13057\" style=\"display: none;\"><div style=\"display: table-cell;\"></div><div style=\"display: table-cell;\">min_border_left&nbsp;=&nbsp;None,</div></div><div class=\"13057\" style=\"display: none;\"><div style=\"display: table-cell;\"></div><div style=\"display: table-cell;\">min_border_right&nbsp;=&nbsp;None,</div></div><div class=\"13057\" style=\"display: none;\"><div style=\"display: table-cell;\"></div><div style=\"display: table-cell;\">min_border_top&nbsp;=&nbsp;None,</div></div><div class=\"13057\" style=\"display: none;\"><div style=\"display: table-cell;\"></div><div style=\"display: table-cell;\">min_height&nbsp;=&nbsp;None,</div></div><div class=\"13057\" style=\"display: none;\"><div style=\"display: table-cell;\"></div><div style=\"display: table-cell;\">min_width&nbsp;=&nbsp;None,</div></div><div class=\"13057\" style=\"display: none;\"><div style=\"display: table-cell;\"></div><div style=\"display: table-cell;\">name&nbsp;=&nbsp;None,</div></div><div class=\"13057\" style=\"display: none;\"><div style=\"display: table-cell;\"></div><div style=\"display: table-cell;\">outer_height&nbsp;=&nbsp;0,</div></div><div class=\"13057\" style=\"display: none;\"><div style=\"display: table-cell;\"></div><div style=\"display: table-cell;\">outer_width&nbsp;=&nbsp;0,</div></div><div class=\"13057\" style=\"display: none;\"><div style=\"display: table-cell;\"></div><div style=\"display: table-cell;\">outline_line_alpha&nbsp;=&nbsp;1.0,</div></div><div class=\"13057\" style=\"display: none;\"><div style=\"display: table-cell;\"></div><div style=\"display: table-cell;\">outline_line_cap&nbsp;=&nbsp;'butt',</div></div><div class=\"13057\" style=\"display: none;\"><div style=\"display: table-cell;\"></div><div style=\"display: table-cell;\">outline_line_color&nbsp;=&nbsp;'#e5e5e5',</div></div><div class=\"13057\" style=\"display: none;\"><div style=\"display: table-cell;\"></div><div style=\"display: table-cell;\">outline_line_dash&nbsp;=&nbsp;[],</div></div><div class=\"13057\" style=\"display: none;\"><div style=\"display: table-cell;\"></div><div style=\"display: table-cell;\">outline_line_dash_offset&nbsp;=&nbsp;0,</div></div><div class=\"13057\" style=\"display: none;\"><div style=\"display: table-cell;\"></div><div style=\"display: table-cell;\">outline_line_join&nbsp;=&nbsp;'bevel',</div></div><div class=\"13057\" style=\"display: none;\"><div style=\"display: table-cell;\"></div><div style=\"display: table-cell;\">outline_line_width&nbsp;=&nbsp;1,</div></div><div class=\"13057\" style=\"display: none;\"><div style=\"display: table-cell;\"></div><div style=\"display: table-cell;\">output_backend&nbsp;=&nbsp;'webgl',</div></div><div class=\"13057\" style=\"display: none;\"><div style=\"display: table-cell;\"></div><div style=\"display: table-cell;\">renderers&nbsp;=&nbsp;[GlyphRenderer(id='12679', ...), GlyphRenderer(id='12712', ...)],</div></div><div class=\"13057\" style=\"display: none;\"><div style=\"display: table-cell;\"></div><div style=\"display: table-cell;\">reset_policy&nbsp;=&nbsp;'standard',</div></div><div class=\"13057\" style=\"display: none;\"><div style=\"display: table-cell;\"></div><div style=\"display: table-cell;\">right&nbsp;=&nbsp;[],</div></div><div class=\"13057\" style=\"display: none;\"><div style=\"display: table-cell;\"></div><div style=\"display: table-cell;\">sizing_mode&nbsp;=&nbsp;'fixed',</div></div><div class=\"13057\" style=\"display: none;\"><div style=\"display: table-cell;\"></div><div style=\"display: table-cell;\">subscribed_events&nbsp;=&nbsp;[],</div></div><div class=\"13057\" style=\"display: none;\"><div style=\"display: table-cell;\"></div><div style=\"display: table-cell;\">syncable&nbsp;=&nbsp;True,</div></div><div class=\"13057\" style=\"display: none;\"><div style=\"display: table-cell;\"></div><div style=\"display: table-cell;\">tags&nbsp;=&nbsp;[],</div></div><div class=\"13057\" style=\"display: none;\"><div style=\"display: table-cell;\"></div><div style=\"display: table-cell;\">title&nbsp;=&nbsp;Title(id='12642', ...),</div></div><div class=\"13057\" style=\"display: none;\"><div style=\"display: table-cell;\"></div><div style=\"display: table-cell;\">title_location&nbsp;=&nbsp;'above',</div></div><div class=\"13057\" style=\"display: none;\"><div style=\"display: table-cell;\"></div><div style=\"display: table-cell;\">toolbar&nbsp;=&nbsp;Toolbar(id='12667', ...),</div></div><div class=\"13057\" style=\"display: none;\"><div style=\"display: table-cell;\"></div><div style=\"display: table-cell;\">toolbar_location&nbsp;=&nbsp;'right',</div></div><div class=\"13057\" style=\"display: none;\"><div style=\"display: table-cell;\"></div><div style=\"display: table-cell;\">toolbar_sticky&nbsp;=&nbsp;True,</div></div><div class=\"13057\" style=\"display: none;\"><div style=\"display: table-cell;\"></div><div style=\"display: table-cell;\">visible&nbsp;=&nbsp;True,</div></div><div class=\"13057\" style=\"display: none;\"><div style=\"display: table-cell;\"></div><div style=\"display: table-cell;\">width&nbsp;=&nbsp;1200,</div></div><div class=\"13057\" style=\"display: none;\"><div style=\"display: table-cell;\"></div><div style=\"display: table-cell;\">width_policy&nbsp;=&nbsp;'auto',</div></div><div class=\"13057\" style=\"display: none;\"><div style=\"display: table-cell;\"></div><div style=\"display: table-cell;\">x_range&nbsp;=&nbsp;DataRange1d(id='12644', ...),</div></div><div class=\"13057\" style=\"display: none;\"><div style=\"display: table-cell;\"></div><div style=\"display: table-cell;\">x_scale&nbsp;=&nbsp;LinearScale(id='12648', ...),</div></div><div class=\"13057\" style=\"display: none;\"><div style=\"display: table-cell;\"></div><div style=\"display: table-cell;\">y_range&nbsp;=&nbsp;DataRange1d(id='12646', ...),</div></div><div class=\"13057\" style=\"display: none;\"><div style=\"display: table-cell;\"></div><div style=\"display: table-cell;\">y_scale&nbsp;=&nbsp;LinearScale(id='12650', ...))</div></div></div>\n",
       "<script>\n",
       "(function() {\n",
       "  let expanded = false;\n",
       "  const ellipsis = document.getElementById(\"13058\");\n",
       "  ellipsis.addEventListener(\"click\", function() {\n",
       "    const rows = document.getElementsByClassName(\"13057\");\n",
       "    for (let i = 0; i < rows.length; i++) {\n",
       "      const el = rows[i];\n",
       "      el.style.display = expanded ? \"none\" : \"table-row\";\n",
       "    }\n",
       "    ellipsis.innerHTML = expanded ? \"&hellip;)\" : \"&lsaquo;&lsaquo;&lsaquo;\";\n",
       "    expanded = !expanded;\n",
       "  });\n",
       "})();\n",
       "</script>\n"
      ],
      "text/plain": [
       "Figure(id='12641', ...)"
      ]
     },
     "execution_count": 454,
     "metadata": {},
     "output_type": "execute_result"
    }
   ],
   "source": [
    "# Plot the transacted volume between bitcoin and ethereum\n",
    "volume = dataframe[['bitcoin volume', 'ethereum volume']]\n",
    "volume.plot_bokeh(figsize=(1200,600), legend=\"top_right\", ylabel=\"Volume\", xlabel=\"Date\", title=\"Transacted volume between bitcoin and ethereum\")"
   ]
  },
  {
   "cell_type": "code",
   "execution_count": 456,
   "metadata": {},
   "outputs": [
    {
     "data": {
      "text/html": [
       "\n",
       "  <div class=\"bk-root\" id=\"8d5cdc02-56e4-4ce3-adba-6294e47e4bee\" data-root-id=\"13060\"></div>\n"
      ]
     },
     "metadata": {},
     "output_type": "display_data"
    },
    {
     "data": {
      "application/javascript": "(function(root) {\n  function embed_document(root) {\n  const docs_json = {\"850b5aec-3808-4098-9f94-351643d1471a\":{\"defs\":[],\"roots\":{\"references\":[{\"attributes\":{\"below\":[{\"id\":\"13071\"}],\"center\":[{\"id\":\"13074\"},{\"id\":\"13078\"},{\"id\":\"13122\"}],\"left\":[{\"id\":\"13075\"}],\"output_backend\":\"webgl\",\"renderers\":[{\"id\":\"13098\"},{\"id\":\"13131\"}],\"sizing_mode\":\"fixed\",\"title\":{\"id\":\"13061\"},\"toolbar\":{\"id\":\"13086\"},\"width\":1200,\"x_range\":{\"id\":\"13063\"},\"x_scale\":{\"id\":\"13067\"},\"y_range\":{\"id\":\"13065\"},\"y_scale\":{\"id\":\"13069\"}},\"id\":\"13060\",\"subtype\":\"Figure\",\"type\":\"Plot\"},{\"attributes\":{\"source\":{\"id\":\"13093\"}},\"id\":\"13099\",\"type\":\"CDSView\"},{\"attributes\":{\"bottom_units\":\"screen\",\"coordinates\":null,\"fill_alpha\":0.5,\"fill_color\":\"lightgrey\",\"group\":null,\"left_units\":\"screen\",\"level\":\"overlay\",\"line_alpha\":1.0,\"line_color\":\"black\",\"line_dash\":[4,4],\"line_width\":2,\"right_units\":\"screen\",\"syncable\":false,\"top_units\":\"screen\"},\"id\":\"13085\",\"type\":\"BoxAnnotation\"},{\"attributes\":{\"data\":{\"__x__values\":{\"__ndarray__\":\"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\",\"dtype\":\"float64\",\"order\":\"little\",\"shape\":[365]},\"__x__values_original\":{\"__ndarray__\":\"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\",\"dtype\":\"float64\",\"order\":\"little\",\"shape\":[365]},\"bitcoin total price\":{\"__ndarray__\":\"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\",\"dtype\":\"float64\",\"order\":\"little\",\"shape\":[365]},\"ethereum total price\":{\"__ndarray__\":\"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\",\"dtype\":\"float64\",\"order\":\"little\",\"shape\":[365]}},\"selected\":{\"id\":\"13108\"},\"selection_policy\":{\"id\":\"13107\"}},\"id\":\"13093\",\"type\":\"ColumnDataSource\"},{\"attributes\":{\"data\":{\"__x__values\":{\"__ndarray__\":\"AAAASfAKdkIAAMCuQgt2QgAAgBSVC3ZCAABAeucLdkIAAADgOQx2QgAAwEWMDHZCAACAq94MdkIAAEARMQ12QgAAAHeDDXZCAADA3NUNdkIAAIBCKA52QgAAQKh6DnZCAAAADs0OdkIAAMBzHw92QgAAgNlxD3ZCAABAP8QPdkIAAAClFhB2QgAAwAppEHZCAACAcLsQdkIAAEDWDRF2QgAAADxgEXZCAADAobIRdkIAAIAHBRJ2QgAAQG1XEnZCAAAA06kSdkIAAMA4/BJ2QgAAgJ5OE3ZCAABABKETdkIAAABq8xN2QgAAwM9FFHZCAACANZgUdkIAAECb6hR2QgAAAAE9FXZCAADAZo8VdkIAAIDM4RV2QgAAQDI0FnZCAAAAmIYWdkIAAMD92BZ2QgAAgGMrF3ZCAABAyX0XdkIAAAAv0Bd2QgAAwJQiGHZCAACA+nQYdkIAAEBgxxh2QgAAAMYZGXZCAADAK2wZdkIAAICRvhl2QgAAQPcQGnZCAAAAXWMadkIAAMDCtRp2QgAAgCgIG3ZCAABAjlobdkIAAAD0rBt2QgAAwFn/G3ZCAACAv1EcdkIAAEAlpBx2QgAAAIv2HHZCAADA8EgddkIAAIBWmx12QgAAQLztHXZCAAAAIkAedkIAAMCHkh52QgAAgO3kHnZCAABAUzcfdkIAAAC5iR92QgAAwB7cH3ZCAACAhC4gdkIAAEDqgCB2QgAAAFDTIHZCAADAtSUhdkIAAIAbeCF2QgAAQIHKIXZCAAAA5xwidkIAAMBMbyJ2QgAAgLLBInZCAABAGBQjdkIAAAB+ZiN2QgAAwOO4I3ZCAACASQskdkIAAECvXSR2QgAAABWwJHZCAADAegIldkIAAIDgVCV2QgAAQEanJXZCAAAArPkldkIAAMARTCZ2QgAAgHeeJnZCAABA3fAmdkIAAABDQyd2QgAAwKiVJ3ZCAACADugndkIAAEB0Oih2QgAAANqMKHZCAADAP98odkIAAIClMSl2QgAAQAuEKXZCAAAAcdYpdkIAAMDWKCp2QgAAgDx7KnZCAABAos0qdkIAAAAIICt2QgAAwG1yK3ZCAACA08QrdkIAAEA5Fyx2QgAAAJ9pLHZCAADABLwsdkIAAIBqDi12QgAAQNBgLXZCAAAANrMtdkIAAMCbBS52QgAAgAFYLnZCAABAZ6oudkIAAADN/C52QgAAwDJPL3ZCAACAmKEvdkIAAED+8y92QgAAAGRGMHZCAADAyZgwdkIAAIAv6zB2QgAAQJU9MXZCAAAA+48xdkIAAMBg4jF2QgAAgMY0MnZCAABALIcydkIAAACS2TJ2QgAAwPcrM3ZCAACAXX4zdkIAAEDD0DN2QgAAACkjNHZCAADAjnU0dkIAAID0xzR2QgAAQFoaNXZCAAAAwGw1dkIAAMAlvzV2QgAAgIsRNnZCAABA8WM2dkIAAABXtjZ2QgAAwLwIN3ZCAACAIls3dkIAAECIrTd2QgAAAO7/N3ZCAADAU1I4dkIAAIC5pDh2QgAAQB/3OHZCAAAAhUk5dkIAAMDqmzl2QgAAgFDuOXZCAABAtkA6dkIAAAAckzp2QgAAwIHlOnZCAACA5zc7dkIAAEBNijt2QgAAALPcO3ZCAADAGC88dkIAAIB+gTx2QgAAQOTTPHZCAAAASiY9dkIAAMCveD12QgAAgBXLPXZCAABAex0+dkIAAADhbz52QgAAwEbCPnZCAACArBQ/dkIAAEASZz92QgAAAHi5P3ZCAADA3QtAdkIAAIBDXkB2QgAAQKmwQHZCAAAADwNBdkIAAMB0VUF2QgAAgNqnQXZCAABAQPpBdkIAAACmTEJ2QgAAwAufQnZCAACAcfFCdkIAAEDXQ0N2QgAAAD2WQ3ZCAADAouhDdkIAAIAIO0R2QgAAQG6NRHZCAAAA1N9EdkIAAMA5MkV2QgAAgJ+ERXZCAABABddFdkIAAABrKUZ2QgAAwNB7RnZCAACANs5GdkIAAECcIEd2QgAAAAJzR3ZCAADAZ8VHdkIAAIDNF0h2QgAAQDNqSHZCAAAAmbxIdkIAAMD+Dkl2QgAAgGRhSXZCAABAyrNJdkIAAAAwBkp2QgAAwJVYSnZCAACA+6pKdkIAAEBh/Up2QgAAAMdPS3ZCAADALKJLdkIAAICS9Et2QgAAQPhGTHZCAAAAXplMdkIAAMDD60x2QgAAgCk+TXZCAABAj5BNdkIAAAD14k12QgAAwFo1TnZCAACAwIdOdkIAAEAm2k52QgAAAIwsT3ZCAADA8X5PdkIAAIBX0U92QgAAQL0jUHZCAAAAI3ZQdkIAAMCIyFB2QgAAgO4aUXZCAABAVG1RdkIAAAC6v1F2QgAAwB8SUnZCAACAhWRSdkIAAEDrtlJ2QgAAAFEJU3ZCAADAtltTdkIAAIAcrlN2QgAAQIIAVHZCAAAA6FJUdkIAAMBNpVR2QgAAgLP3VHZCAABAGUpVdkIAAAB/nFV2QgAAwOTuVXZCAACASkFWdkIAAECwk1Z2QgAAABbmVnZCAADAezhXdkIAAIDhild2QgAAQEfdV3ZCAAAArS9YdkIAAMASglh2QgAAgHjUWHZCAABA3iZZdkIAAABEeVl2QgAAwKnLWXZCAACADx5adkIAAEB1cFp2QgAAANvCWnZCAADAQBVbdkIAAICmZ1t2QgAAQAy6W3ZCAAAAcgxcdkIAAMDXXlx2QgAAgD2xXHZCAABAowNddkIAAAAJVl12QgAAwG6oXXZCAACA1PpddkIAAEA6TV52QgAAAKCfXnZCAADABfJedkIAAIBrRF92QgAAQNGWX3ZCAAAAN+lfdkIAAMCcO2B2QgAAgAKOYHZCAABAaOBgdkIAAADOMmF2QgAAwDOFYXZCAACAmddhdkIAAED/KWJ2QgAAAGV8YnZCAADAys5idkIAAIAwIWN2QgAAQJZzY3ZCAAAA/MVjdkIAAMBhGGR2QgAAgMdqZHZCAABALb1kdkIAAACTD2V2QgAAwPhhZXZCAACAXrRldkIAAEDEBmZ2QgAAACpZZnZCAADAj6tmdkIAAID1/WZ2QgAAQFtQZ3ZCAAAAwaJndkIAAMAm9Wd2QgAAgIxHaHZCAABA8plodkIAAABY7Gh2QgAAwL0+aXZCAACAI5FpdkIAAECJ42l2QgAAAO81anZCAADAVIhqdkIAAIC62mp2QgAAQCAta3ZCAAAAhn9rdkIAAMDr0Wt2QgAAgFEkbHZCAABAt3ZsdkIAAAAdyWx2QgAAwIIbbXZCAACA6G1tdkIAAEBOwG12QgAAALQSbnZCAADAGWVudkIAAIB/t252QgAAQOUJb3ZCAAAAS1xvdkIAAMCwrm92QgAAgBYBcHZCAABAfFNwdkIAAADipXB2QgAAwEf4cHZCAACArUpxdkIAAEATnXF2QgAAAHnvcXZCAADA3kFydkIAAIBElHJ2QgAAQKrmcnZCAAAAEDlzdkIAAMB1i3N2QgAAgNvdc3ZCAABAQTB0dkIAAACngnR2QgAAwAzVdHZCAACAcid1dkIAAEDYeXV2QgAAAD7MdXZCAADAox52dkIAAIAJcXZ2QgAAQG/DdnZCAAAA1RV3dkIAAMA6aHd2QgAAgKC6d3ZCAABABg14dkIAAABsX3h2QgAAwNGxeHZCAACANwR5dkIAAECdVnl2QgAAAAOpeXZCAADAaPt5dkIAAIDOTXp2QgAAQDSgenZCAAAAmvJ6dkIAAMD/RHt2QgAAgGWXe3ZCAABAy+l7dkIAAAAxPHx2QgAAwJaOfHZCAACA/OB8dkIAAEBiM312QgAAAMiFfXZCAADALdh9dkIAAICTKn52QgAAQPl8fnZCAAAAX89+dkIAAMDEIX92QgAAgCp0f3ZCAABAkMZ/dkIAAAD2GIB2Qg==\",\"dtype\":\"float64\",\"order\":\"little\",\"shape\":[365]},\"__x__values_original\":{\"__ndarray__\":\"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\",\"dtype\":\"float64\",\"order\":\"little\",\"shape\":[365]},\"bitcoin total price\":{\"__ndarray__\":\"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\",\"dtype\":\"float64\",\"order\":\"little\",\"shape\":[365]},\"ethereum total price\":{\"__ndarray__\":\"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\",\"dtype\":\"float64\",\"order\":\"little\",\"shape\":[365]}},\"selected\":{\"id\":\"13143\"},\"selection_policy\":{\"id\":\"13142\"}},\"id\":\"13126\",\"type\":\"ColumnDataSource\"},{\"attributes\":{},\"id\":\"13083\",\"type\":\"ResetTool\"},{\"attributes\":{\"num_minor_ticks\":5,\"tickers\":[{\"id\":\"13110\"},{\"id\":\"13111\"},{\"id\":\"13112\"},{\"id\":\"13113\"},{\"id\":\"13114\"},{\"id\":\"13115\"},{\"id\":\"13116\"},{\"id\":\"13117\"},{\"id\":\"13118\"},{\"id\":\"13119\"},{\"id\":\"13120\"},{\"id\":\"13121\"}]},\"id\":\"13072\",\"type\":\"DatetimeTicker\"},{\"attributes\":{\"axis_label\":\"Date\",\"coordinates\":null,\"formatter\":{\"id\":\"13160\"},\"group\":null,\"major_label_policy\":{\"id\":\"13106\"},\"ticker\":{\"id\":\"13072\"}},\"id\":\"13071\",\"type\":\"DatetimeAxis\"},{\"attributes\":{},\"id\":\"13103\",\"type\":\"AllLabels\"},{\"attributes\":{},\"id\":\"13102\",\"type\":\"BasicTickFormatter\"},{\"attributes\":{\"callback\":null,\"formatters\":{\"@__x__values_original\":\"datetime\"},\"mode\":\"vline\",\"renderers\":[{\"id\":\"13098\"}],\"tooltips\":[[\"Date\",\"@__x__values_original{%F}\"],[\"bitcoin total price\",\"@{bitcoin total price}\"]]},\"id\":\"13124\",\"type\":\"HoverTool\"},{\"attributes\":{\"label\":{\"value\":\" bitcoin total price\"},\"renderers\":[{\"id\":\"13098\"}]},\"id\":\"13123\",\"type\":\"LegendItem\"},{\"attributes\":{\"months\":[0,4,8]},\"id\":\"13119\",\"type\":\"MonthsTicker\"},{\"attributes\":{\"line_alpha\":0.1,\"line_color\":\"#1f77b4\",\"line_width\":2,\"x\":{\"field\":\"__x__values\"},\"y\":{\"field\":\"bitcoin total price\"}},\"id\":\"13096\",\"type\":\"Line\"},{\"attributes\":{},\"id\":\"13107\",\"type\":\"UnionRenderers\"},{\"attributes\":{},\"id\":\"13108\",\"type\":\"Selection\"},{\"attributes\":{},\"id\":\"13106\",\"type\":\"AllLabels\"},{\"attributes\":{},\"id\":\"13067\",\"type\":\"LinearScale\"},{\"attributes\":{\"coordinates\":null,\"data_source\":{\"id\":\"13126\"},\"glyph\":{\"id\":\"13128\"},\"group\":null,\"hover_glyph\":null,\"muted_glyph\":{\"id\":\"13130\"},\"nonselection_glyph\":{\"id\":\"13129\"},\"view\":{\"id\":\"13132\"}},\"id\":\"13131\",\"type\":\"GlyphRenderer\"},{\"attributes\":{},\"id\":\"13082\",\"type\":\"SaveTool\"},{\"attributes\":{\"months\":[0,1,2,3,4,5,6,7,8,9,10,11]},\"id\":\"13117\",\"type\":\"MonthsTicker\"},{\"attributes\":{\"base\":24,\"mantissas\":[1,2,4,6,8,12],\"max_interval\":43200000.0,\"min_interval\":3600000.0,\"num_minor_ticks\":0},\"id\":\"13112\",\"type\":\"AdaptiveTicker\"},{\"attributes\":{\"axis\":{\"id\":\"13071\"},\"coordinates\":null,\"group\":null,\"ticker\":null},\"id\":\"13074\",\"type\":\"Grid\"},{\"attributes\":{\"days\":[1,15]},\"id\":\"13116\",\"type\":\"DaysTicker\"},{\"attributes\":{\"line_color\":\"#1f77b4\",\"line_width\":2,\"x\":{\"field\":\"__x__values\"},\"y\":{\"field\":\"bitcoin total price\"}},\"id\":\"13095\",\"type\":\"Line\"},{\"attributes\":{\"days\":[1,4,7,10,13,16,19,22,25,28]},\"id\":\"13114\",\"type\":\"DaysTicker\"},{\"attributes\":{\"days\":[\"%d %B %Y\"],\"hours\":[\"%H:%M:%S\"],\"milliseconds\":[\"%H:%M:%S.%f\"],\"minutes\":[\"%H:%M:%S\"],\"months\":[\"%d %B %Y\"],\"seconds\":[\"%H:%M:%S\"],\"years\":[\"%d %B %Y\"]},\"id\":\"13160\",\"type\":\"DatetimeTickFormatter\"},{\"attributes\":{\"base\":60,\"mantissas\":[1,2,5,10,15,20,30],\"max_interval\":1800000.0,\"min_interval\":1000.0,\"num_minor_ticks\":0},\"id\":\"13111\",\"type\":\"AdaptiveTicker\"},{\"attributes\":{},\"id\":\"13079\",\"type\":\"PanTool\"},{\"attributes\":{\"coordinates\":null,\"data_source\":{\"id\":\"13093\"},\"glyph\":{\"id\":\"13095\"},\"group\":null,\"hover_glyph\":null,\"muted_glyph\":{\"id\":\"13097\"},\"nonselection_glyph\":{\"id\":\"13096\"},\"view\":{\"id\":\"13099\"}},\"id\":\"13098\",\"type\":\"GlyphRenderer\"},{\"attributes\":{\"days\":[1,8,15,22]},\"id\":\"13115\",\"type\":\"DaysTicker\"},{\"attributes\":{},\"id\":\"13084\",\"type\":\"HelpTool\"},{\"attributes\":{},\"id\":\"13121\",\"type\":\"YearsTicker\"},{\"attributes\":{\"line_color\":\"#ff7f0e\",\"line_width\":2,\"x\":{\"field\":\"__x__values\"},\"y\":{\"field\":\"ethereum total price\"}},\"id\":\"13128\",\"type\":\"Line\"},{\"attributes\":{\"days\":[1,2,3,4,5,6,7,8,9,10,11,12,13,14,15,16,17,18,19,20,21,22,23,24,25,26,27,28,29,30,31]},\"id\":\"13113\",\"type\":\"DaysTicker\"},{\"attributes\":{},\"id\":\"13076\",\"type\":\"BasicTicker\"},{\"attributes\":{\"axis_label\":\"Total\",\"coordinates\":null,\"formatter\":{\"id\":\"13102\"},\"group\":null,\"major_label_policy\":{\"id\":\"13103\"},\"ticker\":{\"id\":\"13076\"}},\"id\":\"13075\",\"type\":\"LinearAxis\"},{\"attributes\":{},\"id\":\"13065\",\"type\":\"DataRange1d\"},{\"attributes\":{\"active_scroll\":{\"id\":\"13080\"},\"tools\":[{\"id\":\"13079\"},{\"id\":\"13080\"},{\"id\":\"13081\"},{\"id\":\"13082\"},{\"id\":\"13083\"},{\"id\":\"13084\"},{\"id\":\"13124\"},{\"id\":\"13158\"}]},\"id\":\"13086\",\"type\":\"Toolbar\"},{\"attributes\":{},\"id\":\"13069\",\"type\":\"LinearScale\"},{\"attributes\":{\"source\":{\"id\":\"13126\"}},\"id\":\"13132\",\"type\":\"CDSView\"},{\"attributes\":{\"callback\":null,\"formatters\":{\"@__x__values_original\":\"datetime\"},\"mode\":\"vline\",\"renderers\":[{\"id\":\"13131\"}],\"tooltips\":[[\"Date\",\"@__x__values_original{%F}\"],[\"ethereum total price\",\"@{ethereum total price}\"]]},\"id\":\"13158\",\"type\":\"HoverTool\"},{\"attributes\":{\"label\":{\"value\":\" ethereum total price\"},\"renderers\":[{\"id\":\"13131\"}]},\"id\":\"13157\",\"type\":\"LegendItem\"},{\"attributes\":{\"months\":[0,2,4,6,8,10]},\"id\":\"13118\",\"type\":\"MonthsTicker\"},{\"attributes\":{\"months\":[0,6]},\"id\":\"13120\",\"type\":\"MonthsTicker\"},{\"attributes\":{},\"id\":\"13143\",\"type\":\"Selection\"},{\"attributes\":{\"line_alpha\":0.2,\"line_color\":\"#ff7f0e\",\"line_width\":2,\"x\":{\"field\":\"__x__values\"},\"y\":{\"field\":\"ethereum total price\"}},\"id\":\"13130\",\"type\":\"Line\"},{\"attributes\":{\"coordinates\":null,\"group\":null,\"text\":\"Total price between bitcoin and ethereum\"},\"id\":\"13061\",\"type\":\"Title\"},{\"attributes\":{},\"id\":\"13063\",\"type\":\"DataRange1d\"},{\"attributes\":{\"overlay\":{\"id\":\"13085\"}},\"id\":\"13081\",\"type\":\"BoxZoomTool\"},{\"attributes\":{},\"id\":\"13142\",\"type\":\"UnionRenderers\"},{\"attributes\":{\"mantissas\":[1,2,5],\"max_interval\":500.0,\"num_minor_ticks\":0},\"id\":\"13110\",\"type\":\"AdaptiveTicker\"},{\"attributes\":{\"line_alpha\":0.2,\"line_color\":\"#1f77b4\",\"line_width\":2,\"x\":{\"field\":\"__x__values\"},\"y\":{\"field\":\"bitcoin total price\"}},\"id\":\"13097\",\"type\":\"Line\"},{\"attributes\":{},\"id\":\"13080\",\"type\":\"WheelZoomTool\"},{\"attributes\":{\"line_alpha\":0.1,\"line_color\":\"#ff7f0e\",\"line_width\":2,\"x\":{\"field\":\"__x__values\"},\"y\":{\"field\":\"ethereum total price\"}},\"id\":\"13129\",\"type\":\"Line\"},{\"attributes\":{\"axis\":{\"id\":\"13075\"},\"coordinates\":null,\"dimension\":1,\"group\":null,\"ticker\":null},\"id\":\"13078\",\"type\":\"Grid\"},{\"attributes\":{\"click_policy\":\"hide\",\"coordinates\":null,\"group\":null,\"items\":[{\"id\":\"13123\"},{\"id\":\"13157\"}]},\"id\":\"13122\",\"type\":\"Legend\"}],\"root_ids\":[\"13060\"]},\"title\":\"Bokeh Application\",\"version\":\"2.4.3\"}};\n  const render_items = [{\"docid\":\"850b5aec-3808-4098-9f94-351643d1471a\",\"root_ids\":[\"13060\"],\"roots\":{\"13060\":\"8d5cdc02-56e4-4ce3-adba-6294e47e4bee\"}}];\n  root.Bokeh.embed.embed_items_notebook(docs_json, render_items);\n  }\n  if (root.Bokeh !== undefined) {\n    embed_document(root);\n  } else {\n    let attempts = 0;\n    const timer = setInterval(function(root) {\n      if (root.Bokeh !== undefined) {\n        clearInterval(timer);\n        embed_document(root);\n      } else {\n        attempts++;\n        if (attempts > 100) {\n          clearInterval(timer);\n          console.log(\"Bokeh: ERROR: Unable to run BokehJS code because BokehJS library is missing\");\n        }\n      }\n    }, 10, root)\n  }\n})(window);",
      "application/vnd.bokehjs_exec.v0+json": ""
     },
     "metadata": {
      "application/vnd.bokehjs_exec.v0+json": {
       "id": "13060"
      }
     },
     "output_type": "display_data"
    },
    {
     "data": {
      "text/html": [
       "<div style=\"display: table;\"><div style=\"display: table-row;\"><div style=\"display: table-cell;\"><b title=\"bokeh.plotting.figure.Figure\">Figure</b>(</div><div style=\"display: table-cell;\">id&nbsp;=&nbsp;'13060', <span id=\"13500\" style=\"cursor: pointer;\">&hellip;)</span></div></div><div class=\"13499\" style=\"display: none;\"><div style=\"display: table-cell;\"></div><div style=\"display: table-cell;\">above&nbsp;=&nbsp;[],</div></div><div class=\"13499\" style=\"display: none;\"><div style=\"display: table-cell;\"></div><div style=\"display: table-cell;\">align&nbsp;=&nbsp;'start',</div></div><div class=\"13499\" style=\"display: none;\"><div style=\"display: table-cell;\"></div><div style=\"display: table-cell;\">aspect_ratio&nbsp;=&nbsp;None,</div></div><div class=\"13499\" style=\"display: none;\"><div style=\"display: table-cell;\"></div><div style=\"display: table-cell;\">aspect_scale&nbsp;=&nbsp;1,</div></div><div class=\"13499\" style=\"display: none;\"><div style=\"display: table-cell;\"></div><div style=\"display: table-cell;\">background&nbsp;=&nbsp;None,</div></div><div class=\"13499\" style=\"display: none;\"><div style=\"display: table-cell;\"></div><div style=\"display: table-cell;\">background_fill_alpha&nbsp;=&nbsp;1.0,</div></div><div class=\"13499\" style=\"display: none;\"><div style=\"display: table-cell;\"></div><div style=\"display: table-cell;\">background_fill_color&nbsp;=&nbsp;'#ffffff',</div></div><div class=\"13499\" style=\"display: none;\"><div style=\"display: table-cell;\"></div><div style=\"display: table-cell;\">below&nbsp;=&nbsp;[DatetimeAxis(id='13071', ...)],</div></div><div class=\"13499\" style=\"display: none;\"><div style=\"display: table-cell;\"></div><div style=\"display: table-cell;\">border_fill_alpha&nbsp;=&nbsp;1.0,</div></div><div class=\"13499\" style=\"display: none;\"><div style=\"display: table-cell;\"></div><div style=\"display: table-cell;\">border_fill_color&nbsp;=&nbsp;'#ffffff',</div></div><div class=\"13499\" style=\"display: none;\"><div style=\"display: table-cell;\"></div><div style=\"display: table-cell;\">center&nbsp;=&nbsp;[Grid(id='13074', ...), Grid(id='13078', ...), Legend(id='13122', ...)],</div></div><div class=\"13499\" style=\"display: none;\"><div style=\"display: table-cell;\"></div><div style=\"display: table-cell;\">css_classes&nbsp;=&nbsp;[],</div></div><div class=\"13499\" style=\"display: none;\"><div style=\"display: table-cell;\"></div><div style=\"display: table-cell;\">disabled&nbsp;=&nbsp;False,</div></div><div class=\"13499\" style=\"display: none;\"><div style=\"display: table-cell;\"></div><div style=\"display: table-cell;\">extra_x_ranges&nbsp;=&nbsp;{},</div></div><div class=\"13499\" style=\"display: none;\"><div style=\"display: table-cell;\"></div><div style=\"display: table-cell;\">extra_x_scales&nbsp;=&nbsp;{},</div></div><div class=\"13499\" style=\"display: none;\"><div style=\"display: table-cell;\"></div><div style=\"display: table-cell;\">extra_y_ranges&nbsp;=&nbsp;{},</div></div><div class=\"13499\" style=\"display: none;\"><div style=\"display: table-cell;\"></div><div style=\"display: table-cell;\">extra_y_scales&nbsp;=&nbsp;{},</div></div><div class=\"13499\" style=\"display: none;\"><div style=\"display: table-cell;\"></div><div style=\"display: table-cell;\">frame_height&nbsp;=&nbsp;None,</div></div><div class=\"13499\" style=\"display: none;\"><div style=\"display: table-cell;\"></div><div style=\"display: table-cell;\">frame_width&nbsp;=&nbsp;None,</div></div><div class=\"13499\" style=\"display: none;\"><div style=\"display: table-cell;\"></div><div style=\"display: table-cell;\">height&nbsp;=&nbsp;600,</div></div><div class=\"13499\" style=\"display: none;\"><div style=\"display: table-cell;\"></div><div style=\"display: table-cell;\">height_policy&nbsp;=&nbsp;'auto',</div></div><div class=\"13499\" style=\"display: none;\"><div style=\"display: table-cell;\"></div><div style=\"display: table-cell;\">hidpi&nbsp;=&nbsp;True,</div></div><div class=\"13499\" style=\"display: none;\"><div style=\"display: table-cell;\"></div><div style=\"display: table-cell;\">inner_height&nbsp;=&nbsp;0,</div></div><div class=\"13499\" style=\"display: none;\"><div style=\"display: table-cell;\"></div><div style=\"display: table-cell;\">inner_width&nbsp;=&nbsp;0,</div></div><div class=\"13499\" style=\"display: none;\"><div style=\"display: table-cell;\"></div><div style=\"display: table-cell;\">js_event_callbacks&nbsp;=&nbsp;{},</div></div><div class=\"13499\" style=\"display: none;\"><div style=\"display: table-cell;\"></div><div style=\"display: table-cell;\">js_property_callbacks&nbsp;=&nbsp;{},</div></div><div class=\"13499\" style=\"display: none;\"><div style=\"display: table-cell;\"></div><div style=\"display: table-cell;\">left&nbsp;=&nbsp;[LinearAxis(id='13075', ...)],</div></div><div class=\"13499\" style=\"display: none;\"><div style=\"display: table-cell;\"></div><div style=\"display: table-cell;\">lod_factor&nbsp;=&nbsp;10,</div></div><div class=\"13499\" style=\"display: none;\"><div style=\"display: table-cell;\"></div><div style=\"display: table-cell;\">lod_interval&nbsp;=&nbsp;300,</div></div><div class=\"13499\" style=\"display: none;\"><div style=\"display: table-cell;\"></div><div style=\"display: table-cell;\">lod_threshold&nbsp;=&nbsp;2000,</div></div><div class=\"13499\" style=\"display: none;\"><div style=\"display: table-cell;\"></div><div style=\"display: table-cell;\">lod_timeout&nbsp;=&nbsp;500,</div></div><div class=\"13499\" style=\"display: none;\"><div style=\"display: table-cell;\"></div><div style=\"display: table-cell;\">margin&nbsp;=&nbsp;(0, 0, 0, 0),</div></div><div class=\"13499\" style=\"display: none;\"><div style=\"display: table-cell;\"></div><div style=\"display: table-cell;\">match_aspect&nbsp;=&nbsp;False,</div></div><div class=\"13499\" style=\"display: none;\"><div style=\"display: table-cell;\"></div><div style=\"display: table-cell;\">max_height&nbsp;=&nbsp;None,</div></div><div class=\"13499\" style=\"display: none;\"><div style=\"display: table-cell;\"></div><div style=\"display: table-cell;\">max_width&nbsp;=&nbsp;None,</div></div><div class=\"13499\" style=\"display: none;\"><div style=\"display: table-cell;\"></div><div style=\"display: table-cell;\">min_border&nbsp;=&nbsp;5,</div></div><div class=\"13499\" style=\"display: none;\"><div style=\"display: table-cell;\"></div><div style=\"display: table-cell;\">min_border_bottom&nbsp;=&nbsp;None,</div></div><div class=\"13499\" style=\"display: none;\"><div style=\"display: table-cell;\"></div><div style=\"display: table-cell;\">min_border_left&nbsp;=&nbsp;None,</div></div><div class=\"13499\" style=\"display: none;\"><div style=\"display: table-cell;\"></div><div style=\"display: table-cell;\">min_border_right&nbsp;=&nbsp;None,</div></div><div class=\"13499\" style=\"display: none;\"><div style=\"display: table-cell;\"></div><div style=\"display: table-cell;\">min_border_top&nbsp;=&nbsp;None,</div></div><div class=\"13499\" style=\"display: none;\"><div style=\"display: table-cell;\"></div><div style=\"display: table-cell;\">min_height&nbsp;=&nbsp;None,</div></div><div class=\"13499\" style=\"display: none;\"><div style=\"display: table-cell;\"></div><div style=\"display: table-cell;\">min_width&nbsp;=&nbsp;None,</div></div><div class=\"13499\" style=\"display: none;\"><div style=\"display: table-cell;\"></div><div style=\"display: table-cell;\">name&nbsp;=&nbsp;None,</div></div><div class=\"13499\" style=\"display: none;\"><div style=\"display: table-cell;\"></div><div style=\"display: table-cell;\">outer_height&nbsp;=&nbsp;0,</div></div><div class=\"13499\" style=\"display: none;\"><div style=\"display: table-cell;\"></div><div style=\"display: table-cell;\">outer_width&nbsp;=&nbsp;0,</div></div><div class=\"13499\" style=\"display: none;\"><div style=\"display: table-cell;\"></div><div style=\"display: table-cell;\">outline_line_alpha&nbsp;=&nbsp;1.0,</div></div><div class=\"13499\" style=\"display: none;\"><div style=\"display: table-cell;\"></div><div style=\"display: table-cell;\">outline_line_cap&nbsp;=&nbsp;'butt',</div></div><div class=\"13499\" style=\"display: none;\"><div style=\"display: table-cell;\"></div><div style=\"display: table-cell;\">outline_line_color&nbsp;=&nbsp;'#e5e5e5',</div></div><div class=\"13499\" style=\"display: none;\"><div style=\"display: table-cell;\"></div><div style=\"display: table-cell;\">outline_line_dash&nbsp;=&nbsp;[],</div></div><div class=\"13499\" style=\"display: none;\"><div style=\"display: table-cell;\"></div><div style=\"display: table-cell;\">outline_line_dash_offset&nbsp;=&nbsp;0,</div></div><div class=\"13499\" style=\"display: none;\"><div style=\"display: table-cell;\"></div><div style=\"display: table-cell;\">outline_line_join&nbsp;=&nbsp;'bevel',</div></div><div class=\"13499\" style=\"display: none;\"><div style=\"display: table-cell;\"></div><div style=\"display: table-cell;\">outline_line_width&nbsp;=&nbsp;1,</div></div><div class=\"13499\" style=\"display: none;\"><div style=\"display: table-cell;\"></div><div style=\"display: table-cell;\">output_backend&nbsp;=&nbsp;'webgl',</div></div><div class=\"13499\" style=\"display: none;\"><div style=\"display: table-cell;\"></div><div style=\"display: table-cell;\">renderers&nbsp;=&nbsp;[GlyphRenderer(id='13098', ...), GlyphRenderer(id='13131', ...)],</div></div><div class=\"13499\" style=\"display: none;\"><div style=\"display: table-cell;\"></div><div style=\"display: table-cell;\">reset_policy&nbsp;=&nbsp;'standard',</div></div><div class=\"13499\" style=\"display: none;\"><div style=\"display: table-cell;\"></div><div style=\"display: table-cell;\">right&nbsp;=&nbsp;[],</div></div><div class=\"13499\" style=\"display: none;\"><div style=\"display: table-cell;\"></div><div style=\"display: table-cell;\">sizing_mode&nbsp;=&nbsp;'fixed',</div></div><div class=\"13499\" style=\"display: none;\"><div style=\"display: table-cell;\"></div><div style=\"display: table-cell;\">subscribed_events&nbsp;=&nbsp;[],</div></div><div class=\"13499\" style=\"display: none;\"><div style=\"display: table-cell;\"></div><div style=\"display: table-cell;\">syncable&nbsp;=&nbsp;True,</div></div><div class=\"13499\" style=\"display: none;\"><div style=\"display: table-cell;\"></div><div style=\"display: table-cell;\">tags&nbsp;=&nbsp;[],</div></div><div class=\"13499\" style=\"display: none;\"><div style=\"display: table-cell;\"></div><div style=\"display: table-cell;\">title&nbsp;=&nbsp;Title(id='13061', ...),</div></div><div class=\"13499\" style=\"display: none;\"><div style=\"display: table-cell;\"></div><div style=\"display: table-cell;\">title_location&nbsp;=&nbsp;'above',</div></div><div class=\"13499\" style=\"display: none;\"><div style=\"display: table-cell;\"></div><div style=\"display: table-cell;\">toolbar&nbsp;=&nbsp;Toolbar(id='13086', ...),</div></div><div class=\"13499\" style=\"display: none;\"><div style=\"display: table-cell;\"></div><div style=\"display: table-cell;\">toolbar_location&nbsp;=&nbsp;'right',</div></div><div class=\"13499\" style=\"display: none;\"><div style=\"display: table-cell;\"></div><div style=\"display: table-cell;\">toolbar_sticky&nbsp;=&nbsp;True,</div></div><div class=\"13499\" style=\"display: none;\"><div style=\"display: table-cell;\"></div><div style=\"display: table-cell;\">visible&nbsp;=&nbsp;True,</div></div><div class=\"13499\" style=\"display: none;\"><div style=\"display: table-cell;\"></div><div style=\"display: table-cell;\">width&nbsp;=&nbsp;1200,</div></div><div class=\"13499\" style=\"display: none;\"><div style=\"display: table-cell;\"></div><div style=\"display: table-cell;\">width_policy&nbsp;=&nbsp;'auto',</div></div><div class=\"13499\" style=\"display: none;\"><div style=\"display: table-cell;\"></div><div style=\"display: table-cell;\">x_range&nbsp;=&nbsp;DataRange1d(id='13063', ...),</div></div><div class=\"13499\" style=\"display: none;\"><div style=\"display: table-cell;\"></div><div style=\"display: table-cell;\">x_scale&nbsp;=&nbsp;LinearScale(id='13067', ...),</div></div><div class=\"13499\" style=\"display: none;\"><div style=\"display: table-cell;\"></div><div style=\"display: table-cell;\">y_range&nbsp;=&nbsp;DataRange1d(id='13065', ...),</div></div><div class=\"13499\" style=\"display: none;\"><div style=\"display: table-cell;\"></div><div style=\"display: table-cell;\">y_scale&nbsp;=&nbsp;LinearScale(id='13069', ...))</div></div></div>\n",
       "<script>\n",
       "(function() {\n",
       "  let expanded = false;\n",
       "  const ellipsis = document.getElementById(\"13500\");\n",
       "  ellipsis.addEventListener(\"click\", function() {\n",
       "    const rows = document.getElementsByClassName(\"13499\");\n",
       "    for (let i = 0; i < rows.length; i++) {\n",
       "      const el = rows[i];\n",
       "      el.style.display = expanded ? \"none\" : \"table-row\";\n",
       "    }\n",
       "    ellipsis.innerHTML = expanded ? \"&hellip;)\" : \"&lsaquo;&lsaquo;&lsaquo;\";\n",
       "    expanded = !expanded;\n",
       "  });\n",
       "})();\n",
       "</script>\n"
      ],
      "text/plain": [
       "Figure(id='13060', ...)"
      ]
     },
     "execution_count": 456,
     "metadata": {},
     "output_type": "execute_result"
    }
   ],
   "source": [
    "# Plot the total price between bitcoin and ethereum\n",
    "volume = dataframe[['bitcoin total price', 'ethereum total price']]\n",
    "volume.plot_bokeh(figsize=(1200,600), legend=\"top_right\", ylabel=\"Total\", xlabel=\"Date\", title=\"Total price between bitcoin and ethereum\")"
   ]
  },
  {
   "attachments": {},
   "cell_type": "markdown",
   "metadata": {},
   "source": [
    "The conclusion is that even the bitcoin being more popular and more expensive overall, the transactions with ethereum were way superior in terms of values sold."
   ]
  }
 ],
 "metadata": {
  "kernelspec": {
   "display_name": "Python 3",
   "language": "python",
   "name": "python3"
  },
  "language_info": {
   "codemirror_mode": {
    "name": "ipython",
    "version": 3
   },
   "file_extension": ".py",
   "mimetype": "text/x-python",
   "name": "python",
   "nbconvert_exporter": "python",
   "pygments_lexer": "ipython3",
   "version": "3.9.6"
  },
  "orig_nbformat": 4
 },
 "nbformat": 4,
 "nbformat_minor": 2
}
