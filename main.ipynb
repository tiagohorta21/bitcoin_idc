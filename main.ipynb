{
 "cells": [
  {
   "attachments": {},
   "cell_type": "markdown",
   "metadata": {},
   "source": [
    "# Bitcoin dataset analysis"
   ]
  },
  {
   "attachments": {},
   "cell_type": "markdown",
   "metadata": {},
   "source": [
    "### Loading dataset from 2017"
   ]
  },
  {
   "cell_type": "code",
   "execution_count": null,
   "metadata": {},
   "outputs": [],
   "source": [
    "import pandas as pd\n",
    "import pandas_bokeh\n",
    "\n",
    "# set pandas_bokeh to output inline\n",
    "pandas_bokeh.output_notebook()\n",
    "\n",
    "bitcoin_2017 = pd.read_csv(\"datasets/BTC-2017min.csv\")\n",
    "bitcoin_2017.head()"
   ]
  },
  {
   "attachments": {},
   "cell_type": "markdown",
   "metadata": {},
   "source": [
    "#### About each Column:\n",
    "\n",
    "- <strong>Unix Timestamp</strong> - This is the unix timestamp or also known as \"Epoch Time\". Use this to convert to your local timezone\n",
    "- <strong>Date</strong> - This timestamp is UTC Timezone\n",
    "- <strong>Symbol</strong> - The symbol for which the timeseries data refers\n",
    "- <strong>Open</strong> - This is the opening price of the time period\n",
    "- <strong>High</strong> - This is the highest price of the time period\n",
    "- <strong>Low</strong> - This is the lowest price of the time period\n",
    "- <strong>Close</strong> - This is the closing price of the time period\n",
    "- <strong>Volume BTC</strong> - This is the volume that was transacted \n",
    "- <strong>Volume USD</strong> - This is the volume in the base/converted"
   ]
  },
  {
   "attachments": {},
   "cell_type": "markdown",
   "metadata": {},
   "source": [
    "### Modify Columns"
   ]
  },
  {
   "attachments": {},
   "cell_type": "markdown",
   "metadata": {},
   "source": [
    "#### Remove unecessary columns"
   ]
  },
  {
   "cell_type": "code",
   "execution_count": null,
   "metadata": {},
   "outputs": [],
   "source": [
    "bitcoin_2017 = bitcoin_2017.drop(['unix'], axis = 1)\n",
    "bitcoin_2017 = bitcoin_2017.drop(['symbol'], axis = 1)"
   ]
  },
  {
   "attachments": {},
   "cell_type": "markdown",
   "metadata": {},
   "source": [
    "#### Index by date"
   ]
  },
  {
   "cell_type": "code",
   "execution_count": null,
   "metadata": {},
   "outputs": [],
   "source": [
    "bitcoin_2017 = bitcoin_2017.set_index('date')"
   ]
  },
  {
   "attachments": {},
   "cell_type": "markdown",
   "metadata": {},
   "source": [
    "#### Reverse row order (From oldest to newest)"
   ]
  },
  {
   "cell_type": "code",
   "execution_count": null,
   "metadata": {},
   "outputs": [],
   "source": [
    "bitcoin_2017 = bitcoin_2017.iloc[::-1]"
   ]
  },
  {
   "attachments": {},
   "cell_type": "markdown",
   "metadata": {},
   "source": [
    "#### Change column names and order"
   ]
  },
  {
   "cell_type": "code",
   "execution_count": null,
   "metadata": {},
   "outputs": [],
   "source": [
    "bitcoin_2017.rename(columns = \n",
    "                    {'open':'open price', 'high':'highest price', 'low':'lowest price', \n",
    "                     'close':'close price', 'Volume BTC': 'volume bitcoin', 'Volume USD': 'volume euro'}, \n",
    "                    inplace = True)"
   ]
  },
  {
   "cell_type": "code",
   "execution_count": null,
   "metadata": {},
   "outputs": [],
   "source": [
    "bitcoin_2017 = bitcoin_2017[['open price','close price','highest price','lowest price','volume bitcoin','volume euro']]"
   ]
  },
  {
   "attachments": {},
   "cell_type": "markdown",
   "metadata": {},
   "source": [
    "#### Convert USD columns to Euro (1 USD = 0.924428 EUR)"
   ]
  },
  {
   "cell_type": "code",
   "execution_count": null,
   "metadata": {},
   "outputs": [],
   "source": [
    "bitcoin_2017['open price'] = bitcoin_2017['open price'] * 0.924428\n",
    "bitcoin_2017['close price'] = bitcoin_2017['close price'] * 0.924428\n",
    "bitcoin_2017['highest price'] = bitcoin_2017['highest price'] * 0.924428\n",
    "bitcoin_2017['lowest price'] = bitcoin_2017['lowest price'] * 0.924428"
   ]
  },
  {
   "attachments": {},
   "cell_type": "markdown",
   "metadata": {},
   "source": [
    "#### Describe dataframe"
   ]
  },
  {
   "cell_type": "code",
   "execution_count": null,
   "metadata": {},
   "outputs": [],
   "source": [
    "bitcoin_2017.describe()"
   ]
  },
  {
   "attachments": {},
   "cell_type": "markdown",
   "metadata": {},
   "source": [
    "#### Transactions bitcoin overview"
   ]
  },
  {
   "cell_type": "code",
   "execution_count": null,
   "metadata": {},
   "outputs": [],
   "source": [
    "plot_1 = bitcoin_2017['volume bitcoin'].plot(figsize=(20,8))"
   ]
  },
  {
   "cell_type": "code",
   "execution_count": null,
   "metadata": {},
   "outputs": [],
   "source": [
    "# Bokeh breaking the notebook\n",
    "\n",
    "# plot_2 = bitcoin_2017['volume bitcoin'].plot_bokeh(\n",
    "#     figsize=(20,8),\n",
    "#     legend = \"top_left\",\n",
    "#     ylabel = \"Volume Bitcoin\",\n",
    "#     xlabel = \"Date\",\n",
    "#     title = \"Bitcoin Transaction Volume\"\n",
    "# )"
   ]
  },
  {
   "cell_type": "code",
   "execution_count": null,
   "metadata": {},
   "outputs": [],
   "source": [
    "bitcoin_2017"
   ]
  }
 ],
 "metadata": {
  "kernelspec": {
   "display_name": "Python 3",
   "language": "python",
   "name": "python3"
  },
  "language_info": {
   "codemirror_mode": {
    "name": "ipython",
    "version": 3
   },
   "file_extension": ".py",
   "mimetype": "text/x-python",
   "name": "python",
   "nbconvert_exporter": "python",
   "pygments_lexer": "ipython3",
   "version": "3.10.5"
  },
  "orig_nbformat": 4
 },
 "nbformat": 4,
 "nbformat_minor": 2
}
